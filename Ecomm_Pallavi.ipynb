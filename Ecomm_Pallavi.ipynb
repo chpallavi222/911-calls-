{
  "nbformat": 4,
  "nbformat_minor": 0,
  "metadata": {
    "colab": {
      "name": "Ecomm Pallavi",
      "provenance": [],
      "collapsed_sections": [],
      "mount_file_id": "1tEZ47X_G7SXMVh8BPhBt7QzYDiQNvB3Q",
      "authorship_tag": "ABX9TyNJW5hvte61f/OwSFLiUc2l",
      "include_colab_link": true
    },
    "kernelspec": {
      "display_name": "Python 3",
      "name": "python3"
    },
    "language_info": {
      "name": "python"
    }
  },
  "cells": [
    {
      "cell_type": "markdown",
      "metadata": {
        "id": "view-in-github",
        "colab_type": "text"
      },
      "source": [
        "<a href=\"https://colab.research.google.com/github/chpallavi222/911-calls-/blob/main/Ecomm_Pallavi.ipynb\" target=\"_parent\"><img src=\"https://colab.research.google.com/assets/colab-badge.svg\" alt=\"Open In Colab\"/></a>"
      ]
    },
    {
      "cell_type": "code",
      "metadata": {
        "colab": {
          "base_uri": "https://localhost:8080/"
        },
        "id": "lw5JRF4umwH3",
        "outputId": "24dced20-0a07-44fa-f808-27bb90e8b8fd"
      },
      "source": [
        "pip install squarify"
      ],
      "execution_count": 1,
      "outputs": [
        {
          "output_type": "stream",
          "text": [
            "Requirement already satisfied: squarify in /usr/local/lib/python3.7/dist-packages (0.4.3)\n"
          ],
          "name": "stdout"
        }
      ]
    },
    {
      "cell_type": "code",
      "metadata": {
        "id": "rcEbIU1kRB98"
      },
      "source": [
        "import pandas as pd\n",
        "import numpy as np\n",
        "import matplotlib.pyplot as plt\n",
        "import seaborn as sns\n",
        "import datetime as dt\n",
        "import squarify\n",
        "import warnings\n",
        "warnings.filterwarnings('ignore')\n",
        "from dateutil.parser import parse\n",
        "from sklearn.preprocessing import StandardScaler\n",
        "from sklearn.preprocessing import MinMaxScaler\n",
        "from sklearn.cluster import KMeans\n",
        "from sklearn.cluster import DBSCAN\n",
        "from sklearn.cluster import MiniBatchKMeans\n",
        "from sklearn.cluster import AgglomerativeClustering\n",
        "from sklearn import metrics\n",
        "from sklearn.metrics import silhouette_score\n",
        "from sklearn.metrics import davies_bouldin_score"
      ],
      "execution_count": 2,
      "outputs": []
    },
    {
      "cell_type": "code",
      "metadata": {
        "id": "Dk59gBvQ8Vgs",
        "colab": {
          "base_uri": "https://localhost:8080/"
        },
        "outputId": "1ff01d2d-7c6a-45d6-b921-4d3cd69d0120"
      },
      "source": [
        "from google.colab import drive\n",
        "drive.mount('/content/drive/')"
      ],
      "execution_count": 3,
      "outputs": [
        {
          "output_type": "stream",
          "text": [
            "Drive already mounted at /content/drive/; to attempt to forcibly remount, call drive.mount(\"/content/drive/\", force_remount=True).\n"
          ],
          "name": "stdout"
        }
      ]
    },
    {
      "cell_type": "code",
      "metadata": {
        "id": "OU2AAqsatGgA"
      },
      "source": [
        "df = pd.read_excel('/content/drive/MyDrive/E-com_Data.xlsx')"
      ],
      "execution_count": 4,
      "outputs": []
    },
    {
      "cell_type": "code",
      "metadata": {
        "id": "GcRCKHXdtG0m",
        "colab": {
          "base_uri": "https://localhost:8080/",
          "height": 191
        },
        "outputId": "f943717a-73c5-46c5-e20c-6a3953d4a5d0"
      },
      "source": [
        "df.head()"
      ],
      "execution_count": 5,
      "outputs": [
        {
          "output_type": "execute_result",
          "data": {
            "text/html": [
              "<div>\n",
              "<style scoped>\n",
              "    .dataframe tbody tr th:only-of-type {\n",
              "        vertical-align: middle;\n",
              "    }\n",
              "\n",
              "    .dataframe tbody tr th {\n",
              "        vertical-align: top;\n",
              "    }\n",
              "\n",
              "    .dataframe thead th {\n",
              "        text-align: right;\n",
              "    }\n",
              "</style>\n",
              "<table border=\"1\" class=\"dataframe\">\n",
              "  <thead>\n",
              "    <tr style=\"text-align: right;\">\n",
              "      <th></th>\n",
              "      <th>CustomerID</th>\n",
              "      <th>Item Code</th>\n",
              "      <th>InvoieNo</th>\n",
              "      <th>Date of purchase</th>\n",
              "      <th>Quantity</th>\n",
              "      <th>Time</th>\n",
              "      <th>price per Unit</th>\n",
              "      <th>Price</th>\n",
              "      <th>Shipping Location</th>\n",
              "      <th>Cancelled_status</th>\n",
              "      <th>Reason of return</th>\n",
              "      <th>Sold as set</th>\n",
              "    </tr>\n",
              "  </thead>\n",
              "  <tbody>\n",
              "    <tr>\n",
              "      <th>0</th>\n",
              "      <td>4355.0</td>\n",
              "      <td>15734</td>\n",
              "      <td>398177</td>\n",
              "      <td>2017-10-29</td>\n",
              "      <td>6</td>\n",
              "      <td>15:36:00</td>\n",
              "      <td>321.0</td>\n",
              "      <td>1926.0</td>\n",
              "      <td>Location 1</td>\n",
              "      <td>NaN</td>\n",
              "      <td>NaN</td>\n",
              "      <td>NaN</td>\n",
              "    </tr>\n",
              "    <tr>\n",
              "      <th>1</th>\n",
              "      <td>4352.0</td>\n",
              "      <td>14616</td>\n",
              "      <td>394422</td>\n",
              "      <td>2017-10-05</td>\n",
              "      <td>2</td>\n",
              "      <td>14:53:00</td>\n",
              "      <td>870.0</td>\n",
              "      <td>1740.0</td>\n",
              "      <td>Location 1</td>\n",
              "      <td>NaN</td>\n",
              "      <td>NaN</td>\n",
              "      <td>NaN</td>\n",
              "    </tr>\n",
              "    <tr>\n",
              "      <th>2</th>\n",
              "      <td>4352.0</td>\n",
              "      <td>14614</td>\n",
              "      <td>394422</td>\n",
              "      <td>2017-10-12</td>\n",
              "      <td>2</td>\n",
              "      <td>14:53:00</td>\n",
              "      <td>933.0</td>\n",
              "      <td>1866.0</td>\n",
              "      <td>Location 1</td>\n",
              "      <td>NaN</td>\n",
              "      <td>NaN</td>\n",
              "      <td>NaN</td>\n",
              "    </tr>\n",
              "    <tr>\n",
              "      <th>3</th>\n",
              "      <td>4352.0</td>\n",
              "      <td>85014B</td>\n",
              "      <td>388633</td>\n",
              "      <td>2017-08-22</td>\n",
              "      <td>3</td>\n",
              "      <td>14:47:00</td>\n",
              "      <td>623.0</td>\n",
              "      <td>1869.0</td>\n",
              "      <td>Location 1</td>\n",
              "      <td>NaN</td>\n",
              "      <td>NaN</td>\n",
              "      <td>NaN</td>\n",
              "    </tr>\n",
              "    <tr>\n",
              "      <th>4</th>\n",
              "      <td>4352.0</td>\n",
              "      <td>15364</td>\n",
              "      <td>394422</td>\n",
              "      <td>2017-10-10</td>\n",
              "      <td>2</td>\n",
              "      <td>14:53:00</td>\n",
              "      <td>944.0</td>\n",
              "      <td>1888.0</td>\n",
              "      <td>Location 1</td>\n",
              "      <td>NaN</td>\n",
              "      <td>NaN</td>\n",
              "      <td>NaN</td>\n",
              "    </tr>\n",
              "  </tbody>\n",
              "</table>\n",
              "</div>"
            ],
            "text/plain": [
              "   CustomerID Item Code  ...  Reason of return Sold as set\n",
              "0      4355.0     15734  ...               NaN         NaN\n",
              "1      4352.0     14616  ...               NaN         NaN\n",
              "2      4352.0     14614  ...               NaN         NaN\n",
              "3      4352.0    85014B  ...               NaN         NaN\n",
              "4      4352.0     15364  ...               NaN         NaN\n",
              "\n",
              "[5 rows x 12 columns]"
            ]
          },
          "metadata": {
            "tags": []
          },
          "execution_count": 5
        }
      ]
    },
    {
      "cell_type": "markdown",
      "metadata": {
        "id": "HQxtHUcTeaym"
      },
      "source": [
        "**DATA PREPROCESSING**"
      ]
    },
    {
      "cell_type": "code",
      "metadata": {
        "id": "_R8w3HTKtG3f",
        "colab": {
          "base_uri": "https://localhost:8080/"
        },
        "outputId": "cd177d00-602e-4b9f-9e5b-d71dc328eb93"
      },
      "source": [
        "df.info()"
      ],
      "execution_count": 6,
      "outputs": [
        {
          "output_type": "stream",
          "text": [
            "<class 'pandas.core.frame.DataFrame'>\n",
            "RangeIndex: 537979 entries, 0 to 537978\n",
            "Data columns (total 12 columns):\n",
            " #   Column             Non-Null Count   Dtype         \n",
            "---  ------             --------------   -----         \n",
            " 0   CustomerID         404189 non-null  float64       \n",
            " 1   Item Code          537979 non-null  object        \n",
            " 2   InvoieNo           537979 non-null  int64         \n",
            " 3   Date of purchase   537979 non-null  datetime64[ns]\n",
            " 4   Quantity           537979 non-null  int64         \n",
            " 5   Time               537979 non-null  object        \n",
            " 6   price per Unit     537979 non-null  float64       \n",
            " 7   Price              537979 non-null  float64       \n",
            " 8   Shipping Location  537979 non-null  object        \n",
            " 9   Cancelled_status   8345 non-null    float64       \n",
            " 10  Reason of return   3 non-null       object        \n",
            " 11  Sold as set        0 non-null       float64       \n",
            "dtypes: datetime64[ns](1), float64(5), int64(2), object(4)\n",
            "memory usage: 49.3+ MB\n"
          ],
          "name": "stdout"
        }
      ]
    },
    {
      "cell_type": "code",
      "metadata": {
        "id": "h78hhmxr1lBz"
      },
      "source": [
        "# Removing the column 'Sold as set' as there is no non-null values in it\n",
        "df.drop('Sold as set',inplace = True, axis = 1)"
      ],
      "execution_count": 7,
      "outputs": []
    },
    {
      "cell_type": "code",
      "metadata": {
        "id": "hZGU_88z16Fl",
        "colab": {
          "base_uri": "https://localhost:8080/",
          "height": 191
        },
        "outputId": "56f2a2b0-9f79-47b2-c00a-87c1143ac9f3"
      },
      "source": [
        "df.head()"
      ],
      "execution_count": 8,
      "outputs": [
        {
          "output_type": "execute_result",
          "data": {
            "text/html": [
              "<div>\n",
              "<style scoped>\n",
              "    .dataframe tbody tr th:only-of-type {\n",
              "        vertical-align: middle;\n",
              "    }\n",
              "\n",
              "    .dataframe tbody tr th {\n",
              "        vertical-align: top;\n",
              "    }\n",
              "\n",
              "    .dataframe thead th {\n",
              "        text-align: right;\n",
              "    }\n",
              "</style>\n",
              "<table border=\"1\" class=\"dataframe\">\n",
              "  <thead>\n",
              "    <tr style=\"text-align: right;\">\n",
              "      <th></th>\n",
              "      <th>CustomerID</th>\n",
              "      <th>Item Code</th>\n",
              "      <th>InvoieNo</th>\n",
              "      <th>Date of purchase</th>\n",
              "      <th>Quantity</th>\n",
              "      <th>Time</th>\n",
              "      <th>price per Unit</th>\n",
              "      <th>Price</th>\n",
              "      <th>Shipping Location</th>\n",
              "      <th>Cancelled_status</th>\n",
              "      <th>Reason of return</th>\n",
              "    </tr>\n",
              "  </thead>\n",
              "  <tbody>\n",
              "    <tr>\n",
              "      <th>0</th>\n",
              "      <td>4355.0</td>\n",
              "      <td>15734</td>\n",
              "      <td>398177</td>\n",
              "      <td>2017-10-29</td>\n",
              "      <td>6</td>\n",
              "      <td>15:36:00</td>\n",
              "      <td>321.0</td>\n",
              "      <td>1926.0</td>\n",
              "      <td>Location 1</td>\n",
              "      <td>NaN</td>\n",
              "      <td>NaN</td>\n",
              "    </tr>\n",
              "    <tr>\n",
              "      <th>1</th>\n",
              "      <td>4352.0</td>\n",
              "      <td>14616</td>\n",
              "      <td>394422</td>\n",
              "      <td>2017-10-05</td>\n",
              "      <td>2</td>\n",
              "      <td>14:53:00</td>\n",
              "      <td>870.0</td>\n",
              "      <td>1740.0</td>\n",
              "      <td>Location 1</td>\n",
              "      <td>NaN</td>\n",
              "      <td>NaN</td>\n",
              "    </tr>\n",
              "    <tr>\n",
              "      <th>2</th>\n",
              "      <td>4352.0</td>\n",
              "      <td>14614</td>\n",
              "      <td>394422</td>\n",
              "      <td>2017-10-12</td>\n",
              "      <td>2</td>\n",
              "      <td>14:53:00</td>\n",
              "      <td>933.0</td>\n",
              "      <td>1866.0</td>\n",
              "      <td>Location 1</td>\n",
              "      <td>NaN</td>\n",
              "      <td>NaN</td>\n",
              "    </tr>\n",
              "    <tr>\n",
              "      <th>3</th>\n",
              "      <td>4352.0</td>\n",
              "      <td>85014B</td>\n",
              "      <td>388633</td>\n",
              "      <td>2017-08-22</td>\n",
              "      <td>3</td>\n",
              "      <td>14:47:00</td>\n",
              "      <td>623.0</td>\n",
              "      <td>1869.0</td>\n",
              "      <td>Location 1</td>\n",
              "      <td>NaN</td>\n",
              "      <td>NaN</td>\n",
              "    </tr>\n",
              "    <tr>\n",
              "      <th>4</th>\n",
              "      <td>4352.0</td>\n",
              "      <td>15364</td>\n",
              "      <td>394422</td>\n",
              "      <td>2017-10-10</td>\n",
              "      <td>2</td>\n",
              "      <td>14:53:00</td>\n",
              "      <td>944.0</td>\n",
              "      <td>1888.0</td>\n",
              "      <td>Location 1</td>\n",
              "      <td>NaN</td>\n",
              "      <td>NaN</td>\n",
              "    </tr>\n",
              "  </tbody>\n",
              "</table>\n",
              "</div>"
            ],
            "text/plain": [
              "   CustomerID Item Code  ...  Cancelled_status Reason of return\n",
              "0      4355.0     15734  ...               NaN              NaN\n",
              "1      4352.0     14616  ...               NaN              NaN\n",
              "2      4352.0     14614  ...               NaN              NaN\n",
              "3      4352.0    85014B  ...               NaN              NaN\n",
              "4      4352.0     15364  ...               NaN              NaN\n",
              "\n",
              "[5 rows x 11 columns]"
            ]
          },
          "metadata": {
            "tags": []
          },
          "execution_count": 8
        }
      ]
    },
    {
      "cell_type": "code",
      "metadata": {
        "id": "32u2zIWCCoI3",
        "colab": {
          "base_uri": "https://localhost:8080/"
        },
        "outputId": "ce4effe1-7db5-4051-9369-49f9270a116c"
      },
      "source": [
        "df.shape"
      ],
      "execution_count": 9,
      "outputs": [
        {
          "output_type": "execute_result",
          "data": {
            "text/plain": [
              "(537979, 11)"
            ]
          },
          "metadata": {
            "tags": []
          },
          "execution_count": 9
        }
      ]
    },
    {
      "cell_type": "code",
      "metadata": {
        "id": "LVXCIGRu17st",
        "colab": {
          "base_uri": "https://localhost:8080/",
          "height": 133
        },
        "outputId": "a1344854-f71a-47d8-b901-7b0051da4766"
      },
      "source": [
        "notnull_values = pd.notnull(df['Reason of return'])\n",
        "df[notnull_values]"
      ],
      "execution_count": 10,
      "outputs": [
        {
          "output_type": "execute_result",
          "data": {
            "text/html": [
              "<div>\n",
              "<style scoped>\n",
              "    .dataframe tbody tr th:only-of-type {\n",
              "        vertical-align: middle;\n",
              "    }\n",
              "\n",
              "    .dataframe tbody tr th {\n",
              "        vertical-align: top;\n",
              "    }\n",
              "\n",
              "    .dataframe thead th {\n",
              "        text-align: right;\n",
              "    }\n",
              "</style>\n",
              "<table border=\"1\" class=\"dataframe\">\n",
              "  <thead>\n",
              "    <tr style=\"text-align: right;\">\n",
              "      <th></th>\n",
              "      <th>CustomerID</th>\n",
              "      <th>Item Code</th>\n",
              "      <th>InvoieNo</th>\n",
              "      <th>Date of purchase</th>\n",
              "      <th>Quantity</th>\n",
              "      <th>Time</th>\n",
              "      <th>price per Unit</th>\n",
              "      <th>Price</th>\n",
              "      <th>Shipping Location</th>\n",
              "      <th>Cancelled_status</th>\n",
              "      <th>Reason of return</th>\n",
              "    </tr>\n",
              "  </thead>\n",
              "  <tbody>\n",
              "    <tr>\n",
              "      <th>411295</th>\n",
              "      <td>NaN</td>\n",
              "      <td>14105</td>\n",
              "      <td>390366</td>\n",
              "      <td>2017-09-05</td>\n",
              "      <td>-156</td>\n",
              "      <td>12:16:00</td>\n",
              "      <td>34.0</td>\n",
              "      <td>-5304.0</td>\n",
              "      <td>Location 36</td>\n",
              "      <td>NaN</td>\n",
              "      <td>display</td>\n",
              "    </tr>\n",
              "    <tr>\n",
              "      <th>411455</th>\n",
              "      <td>NaN</td>\n",
              "      <td>72807C</td>\n",
              "      <td>403542</td>\n",
              "      <td>2017-11-26</td>\n",
              "      <td>-428</td>\n",
              "      <td>12:45:00</td>\n",
              "      <td>7.0</td>\n",
              "      <td>-2996.0</td>\n",
              "      <td>Location 36</td>\n",
              "      <td>NaN</td>\n",
              "      <td>Missing</td>\n",
              "    </tr>\n",
              "    <tr>\n",
              "      <th>411612</th>\n",
              "      <td>NaN</td>\n",
              "      <td>72807B</td>\n",
              "      <td>403540</td>\n",
              "      <td>2017-11-29</td>\n",
              "      <td>-124</td>\n",
              "      <td>12:45:00</td>\n",
              "      <td>15.0</td>\n",
              "      <td>-1860.0</td>\n",
              "      <td>Location 36</td>\n",
              "      <td>NaN</td>\n",
              "      <td>Missing</td>\n",
              "    </tr>\n",
              "  </tbody>\n",
              "</table>\n",
              "</div>"
            ],
            "text/plain": [
              "        CustomerID Item Code  ...  Cancelled_status Reason of return\n",
              "411295         NaN     14105  ...               NaN          display\n",
              "411455         NaN    72807C  ...               NaN          Missing\n",
              "411612         NaN    72807B  ...               NaN          Missing\n",
              "\n",
              "[3 rows x 11 columns]"
            ]
          },
          "metadata": {
            "tags": []
          },
          "execution_count": 10
        }
      ]
    },
    {
      "cell_type": "code",
      "metadata": {
        "id": "kxn2g4otBZay"
      },
      "source": [
        "\n",
        "df.dropna(subset = ['CustomerID'],inplace =True)"
      ],
      "execution_count": 11,
      "outputs": []
    },
    {
      "cell_type": "code",
      "metadata": {
        "id": "i46FTDI-CR2l",
        "colab": {
          "base_uri": "https://localhost:8080/"
        },
        "outputId": "a4e5b443-c204-41d5-eae1-aa356650cf57"
      },
      "source": [
        "df.shape"
      ],
      "execution_count": 12,
      "outputs": [
        {
          "output_type": "execute_result",
          "data": {
            "text/plain": [
              "(404189, 11)"
            ]
          },
          "metadata": {
            "tags": []
          },
          "execution_count": 12
        }
      ]
    },
    {
      "cell_type": "code",
      "metadata": {
        "id": "lbdRtK2HCtAi"
      },
      "source": [
        "df.drop('Reason of return',inplace = True,axis = 1)"
      ],
      "execution_count": 13,
      "outputs": []
    },
    {
      "cell_type": "code",
      "metadata": {
        "id": "NloLjfWTEFdz",
        "colab": {
          "base_uri": "https://localhost:8080/",
          "height": 191
        },
        "outputId": "2b483406-5e39-406c-a0cc-f33d723e0aa9"
      },
      "source": [
        "df.head()"
      ],
      "execution_count": 14,
      "outputs": [
        {
          "output_type": "execute_result",
          "data": {
            "text/html": [
              "<div>\n",
              "<style scoped>\n",
              "    .dataframe tbody tr th:only-of-type {\n",
              "        vertical-align: middle;\n",
              "    }\n",
              "\n",
              "    .dataframe tbody tr th {\n",
              "        vertical-align: top;\n",
              "    }\n",
              "\n",
              "    .dataframe thead th {\n",
              "        text-align: right;\n",
              "    }\n",
              "</style>\n",
              "<table border=\"1\" class=\"dataframe\">\n",
              "  <thead>\n",
              "    <tr style=\"text-align: right;\">\n",
              "      <th></th>\n",
              "      <th>CustomerID</th>\n",
              "      <th>Item Code</th>\n",
              "      <th>InvoieNo</th>\n",
              "      <th>Date of purchase</th>\n",
              "      <th>Quantity</th>\n",
              "      <th>Time</th>\n",
              "      <th>price per Unit</th>\n",
              "      <th>Price</th>\n",
              "      <th>Shipping Location</th>\n",
              "      <th>Cancelled_status</th>\n",
              "    </tr>\n",
              "  </thead>\n",
              "  <tbody>\n",
              "    <tr>\n",
              "      <th>0</th>\n",
              "      <td>4355.0</td>\n",
              "      <td>15734</td>\n",
              "      <td>398177</td>\n",
              "      <td>2017-10-29</td>\n",
              "      <td>6</td>\n",
              "      <td>15:36:00</td>\n",
              "      <td>321.0</td>\n",
              "      <td>1926.0</td>\n",
              "      <td>Location 1</td>\n",
              "      <td>NaN</td>\n",
              "    </tr>\n",
              "    <tr>\n",
              "      <th>1</th>\n",
              "      <td>4352.0</td>\n",
              "      <td>14616</td>\n",
              "      <td>394422</td>\n",
              "      <td>2017-10-05</td>\n",
              "      <td>2</td>\n",
              "      <td>14:53:00</td>\n",
              "      <td>870.0</td>\n",
              "      <td>1740.0</td>\n",
              "      <td>Location 1</td>\n",
              "      <td>NaN</td>\n",
              "    </tr>\n",
              "    <tr>\n",
              "      <th>2</th>\n",
              "      <td>4352.0</td>\n",
              "      <td>14614</td>\n",
              "      <td>394422</td>\n",
              "      <td>2017-10-12</td>\n",
              "      <td>2</td>\n",
              "      <td>14:53:00</td>\n",
              "      <td>933.0</td>\n",
              "      <td>1866.0</td>\n",
              "      <td>Location 1</td>\n",
              "      <td>NaN</td>\n",
              "    </tr>\n",
              "    <tr>\n",
              "      <th>3</th>\n",
              "      <td>4352.0</td>\n",
              "      <td>85014B</td>\n",
              "      <td>388633</td>\n",
              "      <td>2017-08-22</td>\n",
              "      <td>3</td>\n",
              "      <td>14:47:00</td>\n",
              "      <td>623.0</td>\n",
              "      <td>1869.0</td>\n",
              "      <td>Location 1</td>\n",
              "      <td>NaN</td>\n",
              "    </tr>\n",
              "    <tr>\n",
              "      <th>4</th>\n",
              "      <td>4352.0</td>\n",
              "      <td>15364</td>\n",
              "      <td>394422</td>\n",
              "      <td>2017-10-10</td>\n",
              "      <td>2</td>\n",
              "      <td>14:53:00</td>\n",
              "      <td>944.0</td>\n",
              "      <td>1888.0</td>\n",
              "      <td>Location 1</td>\n",
              "      <td>NaN</td>\n",
              "    </tr>\n",
              "  </tbody>\n",
              "</table>\n",
              "</div>"
            ],
            "text/plain": [
              "   CustomerID Item Code  InvoieNo  ...   Price  Shipping Location Cancelled_status\n",
              "0      4355.0     15734    398177  ...  1926.0         Location 1              NaN\n",
              "1      4352.0     14616    394422  ...  1740.0         Location 1              NaN\n",
              "2      4352.0     14614    394422  ...  1866.0         Location 1              NaN\n",
              "3      4352.0    85014B    388633  ...  1869.0         Location 1              NaN\n",
              "4      4352.0     15364    394422  ...  1888.0         Location 1              NaN\n",
              "\n",
              "[5 rows x 10 columns]"
            ]
          },
          "metadata": {
            "tags": []
          },
          "execution_count": 14
        }
      ]
    },
    {
      "cell_type": "code",
      "metadata": {
        "id": "CulwNGtbEHUz",
        "colab": {
          "base_uri": "https://localhost:8080/",
          "height": 191
        },
        "outputId": "0600b35e-13ac-43d5-a2ee-c6f4f583a3d1"
      },
      "source": [
        "df['Cancelled_status'] = df['Cancelled_status'].replace(np.nan, 0)\n",
        "df.head()"
      ],
      "execution_count": 15,
      "outputs": [
        {
          "output_type": "execute_result",
          "data": {
            "text/html": [
              "<div>\n",
              "<style scoped>\n",
              "    .dataframe tbody tr th:only-of-type {\n",
              "        vertical-align: middle;\n",
              "    }\n",
              "\n",
              "    .dataframe tbody tr th {\n",
              "        vertical-align: top;\n",
              "    }\n",
              "\n",
              "    .dataframe thead th {\n",
              "        text-align: right;\n",
              "    }\n",
              "</style>\n",
              "<table border=\"1\" class=\"dataframe\">\n",
              "  <thead>\n",
              "    <tr style=\"text-align: right;\">\n",
              "      <th></th>\n",
              "      <th>CustomerID</th>\n",
              "      <th>Item Code</th>\n",
              "      <th>InvoieNo</th>\n",
              "      <th>Date of purchase</th>\n",
              "      <th>Quantity</th>\n",
              "      <th>Time</th>\n",
              "      <th>price per Unit</th>\n",
              "      <th>Price</th>\n",
              "      <th>Shipping Location</th>\n",
              "      <th>Cancelled_status</th>\n",
              "    </tr>\n",
              "  </thead>\n",
              "  <tbody>\n",
              "    <tr>\n",
              "      <th>0</th>\n",
              "      <td>4355.0</td>\n",
              "      <td>15734</td>\n",
              "      <td>398177</td>\n",
              "      <td>2017-10-29</td>\n",
              "      <td>6</td>\n",
              "      <td>15:36:00</td>\n",
              "      <td>321.0</td>\n",
              "      <td>1926.0</td>\n",
              "      <td>Location 1</td>\n",
              "      <td>0.0</td>\n",
              "    </tr>\n",
              "    <tr>\n",
              "      <th>1</th>\n",
              "      <td>4352.0</td>\n",
              "      <td>14616</td>\n",
              "      <td>394422</td>\n",
              "      <td>2017-10-05</td>\n",
              "      <td>2</td>\n",
              "      <td>14:53:00</td>\n",
              "      <td>870.0</td>\n",
              "      <td>1740.0</td>\n",
              "      <td>Location 1</td>\n",
              "      <td>0.0</td>\n",
              "    </tr>\n",
              "    <tr>\n",
              "      <th>2</th>\n",
              "      <td>4352.0</td>\n",
              "      <td>14614</td>\n",
              "      <td>394422</td>\n",
              "      <td>2017-10-12</td>\n",
              "      <td>2</td>\n",
              "      <td>14:53:00</td>\n",
              "      <td>933.0</td>\n",
              "      <td>1866.0</td>\n",
              "      <td>Location 1</td>\n",
              "      <td>0.0</td>\n",
              "    </tr>\n",
              "    <tr>\n",
              "      <th>3</th>\n",
              "      <td>4352.0</td>\n",
              "      <td>85014B</td>\n",
              "      <td>388633</td>\n",
              "      <td>2017-08-22</td>\n",
              "      <td>3</td>\n",
              "      <td>14:47:00</td>\n",
              "      <td>623.0</td>\n",
              "      <td>1869.0</td>\n",
              "      <td>Location 1</td>\n",
              "      <td>0.0</td>\n",
              "    </tr>\n",
              "    <tr>\n",
              "      <th>4</th>\n",
              "      <td>4352.0</td>\n",
              "      <td>15364</td>\n",
              "      <td>394422</td>\n",
              "      <td>2017-10-10</td>\n",
              "      <td>2</td>\n",
              "      <td>14:53:00</td>\n",
              "      <td>944.0</td>\n",
              "      <td>1888.0</td>\n",
              "      <td>Location 1</td>\n",
              "      <td>0.0</td>\n",
              "    </tr>\n",
              "  </tbody>\n",
              "</table>\n",
              "</div>"
            ],
            "text/plain": [
              "   CustomerID Item Code  InvoieNo  ...   Price  Shipping Location Cancelled_status\n",
              "0      4355.0     15734    398177  ...  1926.0         Location 1              0.0\n",
              "1      4352.0     14616    394422  ...  1740.0         Location 1              0.0\n",
              "2      4352.0     14614    394422  ...  1866.0         Location 1              0.0\n",
              "3      4352.0    85014B    388633  ...  1869.0         Location 1              0.0\n",
              "4      4352.0     15364    394422  ...  1888.0         Location 1              0.0\n",
              "\n",
              "[5 rows x 10 columns]"
            ]
          },
          "metadata": {
            "tags": []
          },
          "execution_count": 15
        }
      ]
    },
    {
      "cell_type": "code",
      "metadata": {
        "id": "XPnYPP-nEld1",
        "colab": {
          "base_uri": "https://localhost:8080/",
          "height": 191
        },
        "outputId": "dbcfed7e-a808-4e20-9fb1-1fb605089420"
      },
      "source": [
        "df.head()"
      ],
      "execution_count": 16,
      "outputs": [
        {
          "output_type": "execute_result",
          "data": {
            "text/html": [
              "<div>\n",
              "<style scoped>\n",
              "    .dataframe tbody tr th:only-of-type {\n",
              "        vertical-align: middle;\n",
              "    }\n",
              "\n",
              "    .dataframe tbody tr th {\n",
              "        vertical-align: top;\n",
              "    }\n",
              "\n",
              "    .dataframe thead th {\n",
              "        text-align: right;\n",
              "    }\n",
              "</style>\n",
              "<table border=\"1\" class=\"dataframe\">\n",
              "  <thead>\n",
              "    <tr style=\"text-align: right;\">\n",
              "      <th></th>\n",
              "      <th>CustomerID</th>\n",
              "      <th>Item Code</th>\n",
              "      <th>InvoieNo</th>\n",
              "      <th>Date of purchase</th>\n",
              "      <th>Quantity</th>\n",
              "      <th>Time</th>\n",
              "      <th>price per Unit</th>\n",
              "      <th>Price</th>\n",
              "      <th>Shipping Location</th>\n",
              "      <th>Cancelled_status</th>\n",
              "    </tr>\n",
              "  </thead>\n",
              "  <tbody>\n",
              "    <tr>\n",
              "      <th>0</th>\n",
              "      <td>4355.0</td>\n",
              "      <td>15734</td>\n",
              "      <td>398177</td>\n",
              "      <td>2017-10-29</td>\n",
              "      <td>6</td>\n",
              "      <td>15:36:00</td>\n",
              "      <td>321.0</td>\n",
              "      <td>1926.0</td>\n",
              "      <td>Location 1</td>\n",
              "      <td>0.0</td>\n",
              "    </tr>\n",
              "    <tr>\n",
              "      <th>1</th>\n",
              "      <td>4352.0</td>\n",
              "      <td>14616</td>\n",
              "      <td>394422</td>\n",
              "      <td>2017-10-05</td>\n",
              "      <td>2</td>\n",
              "      <td>14:53:00</td>\n",
              "      <td>870.0</td>\n",
              "      <td>1740.0</td>\n",
              "      <td>Location 1</td>\n",
              "      <td>0.0</td>\n",
              "    </tr>\n",
              "    <tr>\n",
              "      <th>2</th>\n",
              "      <td>4352.0</td>\n",
              "      <td>14614</td>\n",
              "      <td>394422</td>\n",
              "      <td>2017-10-12</td>\n",
              "      <td>2</td>\n",
              "      <td>14:53:00</td>\n",
              "      <td>933.0</td>\n",
              "      <td>1866.0</td>\n",
              "      <td>Location 1</td>\n",
              "      <td>0.0</td>\n",
              "    </tr>\n",
              "    <tr>\n",
              "      <th>3</th>\n",
              "      <td>4352.0</td>\n",
              "      <td>85014B</td>\n",
              "      <td>388633</td>\n",
              "      <td>2017-08-22</td>\n",
              "      <td>3</td>\n",
              "      <td>14:47:00</td>\n",
              "      <td>623.0</td>\n",
              "      <td>1869.0</td>\n",
              "      <td>Location 1</td>\n",
              "      <td>0.0</td>\n",
              "    </tr>\n",
              "    <tr>\n",
              "      <th>4</th>\n",
              "      <td>4352.0</td>\n",
              "      <td>15364</td>\n",
              "      <td>394422</td>\n",
              "      <td>2017-10-10</td>\n",
              "      <td>2</td>\n",
              "      <td>14:53:00</td>\n",
              "      <td>944.0</td>\n",
              "      <td>1888.0</td>\n",
              "      <td>Location 1</td>\n",
              "      <td>0.0</td>\n",
              "    </tr>\n",
              "  </tbody>\n",
              "</table>\n",
              "</div>"
            ],
            "text/plain": [
              "   CustomerID Item Code  InvoieNo  ...   Price  Shipping Location Cancelled_status\n",
              "0      4355.0     15734    398177  ...  1926.0         Location 1              0.0\n",
              "1      4352.0     14616    394422  ...  1740.0         Location 1              0.0\n",
              "2      4352.0     14614    394422  ...  1866.0         Location 1              0.0\n",
              "3      4352.0    85014B    388633  ...  1869.0         Location 1              0.0\n",
              "4      4352.0     15364    394422  ...  1888.0         Location 1              0.0\n",
              "\n",
              "[5 rows x 10 columns]"
            ]
          },
          "metadata": {
            "tags": []
          },
          "execution_count": 16
        }
      ]
    },
    {
      "cell_type": "code",
      "metadata": {
        "id": "sLChnVPUHnaM",
        "colab": {
          "base_uri": "https://localhost:8080/"
        },
        "outputId": "290a0229-9396-45c4-ccf5-1eb8cf9a2460"
      },
      "source": [
        "df.dtypes"
      ],
      "execution_count": 17,
      "outputs": [
        {
          "output_type": "execute_result",
          "data": {
            "text/plain": [
              "CustomerID                  float64\n",
              "Item Code                    object\n",
              "InvoieNo                      int64\n",
              "Date of purchase     datetime64[ns]\n",
              "Quantity                      int64\n",
              "Time                         object\n",
              "price per Unit              float64\n",
              "Price                       float64\n",
              "Shipping Location            object\n",
              "Cancelled_status            float64\n",
              "dtype: object"
            ]
          },
          "metadata": {
            "tags": []
          },
          "execution_count": 17
        }
      ]
    },
    {
      "cell_type": "code",
      "metadata": {
        "id": "Q17E4czhSSHw"
      },
      "source": [
        "#Converting datatype of CustomerID from float to integer type\n",
        "df['CustomerID'] = df['CustomerID'].astype(int)"
      ],
      "execution_count": 18,
      "outputs": []
    },
    {
      "cell_type": "code",
      "metadata": {
        "id": "_JD6HzO8hU9M"
      },
      "source": [
        "# Merging Date of purchase column and Time Column\n",
        "df['DateTime'] = (df['Date of purchase']).astype(str) +\" \" +(df['Time']).astype(str)"
      ],
      "execution_count": 19,
      "outputs": []
    },
    {
      "cell_type": "code",
      "metadata": {
        "id": "Z_HyjpuveIWE",
        "colab": {
          "base_uri": "https://localhost:8080/",
          "height": 191
        },
        "outputId": "ee80eb10-052c-45e0-f6a2-f703678f64e9"
      },
      "source": [
        "df.head()"
      ],
      "execution_count": 20,
      "outputs": [
        {
          "output_type": "execute_result",
          "data": {
            "text/html": [
              "<div>\n",
              "<style scoped>\n",
              "    .dataframe tbody tr th:only-of-type {\n",
              "        vertical-align: middle;\n",
              "    }\n",
              "\n",
              "    .dataframe tbody tr th {\n",
              "        vertical-align: top;\n",
              "    }\n",
              "\n",
              "    .dataframe thead th {\n",
              "        text-align: right;\n",
              "    }\n",
              "</style>\n",
              "<table border=\"1\" class=\"dataframe\">\n",
              "  <thead>\n",
              "    <tr style=\"text-align: right;\">\n",
              "      <th></th>\n",
              "      <th>CustomerID</th>\n",
              "      <th>Item Code</th>\n",
              "      <th>InvoieNo</th>\n",
              "      <th>Date of purchase</th>\n",
              "      <th>Quantity</th>\n",
              "      <th>Time</th>\n",
              "      <th>price per Unit</th>\n",
              "      <th>Price</th>\n",
              "      <th>Shipping Location</th>\n",
              "      <th>Cancelled_status</th>\n",
              "      <th>DateTime</th>\n",
              "    </tr>\n",
              "  </thead>\n",
              "  <tbody>\n",
              "    <tr>\n",
              "      <th>0</th>\n",
              "      <td>4355</td>\n",
              "      <td>15734</td>\n",
              "      <td>398177</td>\n",
              "      <td>2017-10-29</td>\n",
              "      <td>6</td>\n",
              "      <td>15:36:00</td>\n",
              "      <td>321.0</td>\n",
              "      <td>1926.0</td>\n",
              "      <td>Location 1</td>\n",
              "      <td>0.0</td>\n",
              "      <td>2017-10-29 15:36:00</td>\n",
              "    </tr>\n",
              "    <tr>\n",
              "      <th>1</th>\n",
              "      <td>4352</td>\n",
              "      <td>14616</td>\n",
              "      <td>394422</td>\n",
              "      <td>2017-10-05</td>\n",
              "      <td>2</td>\n",
              "      <td>14:53:00</td>\n",
              "      <td>870.0</td>\n",
              "      <td>1740.0</td>\n",
              "      <td>Location 1</td>\n",
              "      <td>0.0</td>\n",
              "      <td>2017-10-05 14:53:00</td>\n",
              "    </tr>\n",
              "    <tr>\n",
              "      <th>2</th>\n",
              "      <td>4352</td>\n",
              "      <td>14614</td>\n",
              "      <td>394422</td>\n",
              "      <td>2017-10-12</td>\n",
              "      <td>2</td>\n",
              "      <td>14:53:00</td>\n",
              "      <td>933.0</td>\n",
              "      <td>1866.0</td>\n",
              "      <td>Location 1</td>\n",
              "      <td>0.0</td>\n",
              "      <td>2017-10-12 14:53:00</td>\n",
              "    </tr>\n",
              "    <tr>\n",
              "      <th>3</th>\n",
              "      <td>4352</td>\n",
              "      <td>85014B</td>\n",
              "      <td>388633</td>\n",
              "      <td>2017-08-22</td>\n",
              "      <td>3</td>\n",
              "      <td>14:47:00</td>\n",
              "      <td>623.0</td>\n",
              "      <td>1869.0</td>\n",
              "      <td>Location 1</td>\n",
              "      <td>0.0</td>\n",
              "      <td>2017-08-22 14:47:00</td>\n",
              "    </tr>\n",
              "    <tr>\n",
              "      <th>4</th>\n",
              "      <td>4352</td>\n",
              "      <td>15364</td>\n",
              "      <td>394422</td>\n",
              "      <td>2017-10-10</td>\n",
              "      <td>2</td>\n",
              "      <td>14:53:00</td>\n",
              "      <td>944.0</td>\n",
              "      <td>1888.0</td>\n",
              "      <td>Location 1</td>\n",
              "      <td>0.0</td>\n",
              "      <td>2017-10-10 14:53:00</td>\n",
              "    </tr>\n",
              "  </tbody>\n",
              "</table>\n",
              "</div>"
            ],
            "text/plain": [
              "   CustomerID Item Code  ...  Cancelled_status             DateTime\n",
              "0        4355     15734  ...               0.0  2017-10-29 15:36:00\n",
              "1        4352     14616  ...               0.0  2017-10-05 14:53:00\n",
              "2        4352     14614  ...               0.0  2017-10-12 14:53:00\n",
              "3        4352    85014B  ...               0.0  2017-08-22 14:47:00\n",
              "4        4352     15364  ...               0.0  2017-10-10 14:53:00\n",
              "\n",
              "[5 rows x 11 columns]"
            ]
          },
          "metadata": {
            "tags": []
          },
          "execution_count": 20
        }
      ]
    },
    {
      "cell_type": "code",
      "metadata": {
        "id": "PAbhXkPDSPCF"
      },
      "source": [
        "df['DateTime'] = pd.to_datetime(df['DateTime'])"
      ],
      "execution_count": 21,
      "outputs": []
    },
    {
      "cell_type": "code",
      "metadata": {
        "id": "zSzE0p2WD7K_"
      },
      "source": [
        "df['Year'] = df['DateTime'].dt.year\n",
        "df['Month'] = df['DateTime'].dt.month\n",
        "df['Day'] = df['DateTime'].dt.day\n",
        "df['Weekday'] = df['DateTime'].dt.day_name()\n",
        "df['Hour'] = df['DateTime'].dt.hour\n",
        "df['Minute'] = df['DateTime'].dt.minute\n"
      ],
      "execution_count": 22,
      "outputs": []
    },
    {
      "cell_type": "markdown",
      "metadata": {
        "id": "BL738jdDfLbf"
      },
      "source": [
        "**EXPLORATORY DATA ANALYSIS**"
      ]
    },
    {
      "cell_type": "code",
      "metadata": {
        "colab": {
          "base_uri": "https://localhost:8080/",
          "height": 406
        },
        "id": "NjNGsu2MfKMR",
        "outputId": "95242176-7e29-4956-b829-7de122c3c4b4"
      },
      "source": [
        "# Yearly order counts.\n",
        "plt.rcParams['figure.figsize'] = (15,6) \n",
        "\n",
        "plt.subplot(1,2,1)\n",
        "sns.countplot(df['Year'],data = df,palette = 'PuBuGn')\n",
        "plt.title('Year Wise Orders',fontsize= 15)\n",
        "\n",
        "plt.subplot(1,2,2)\n",
        "df['Year'].value_counts().plot(kind = 'pie', explode = [0, 0.1], autopct = '%.2f%%', startangle = 90,\n",
        "                                       labels = ['2017','2016'], shadow = True, pctdistance = 0.5)\n",
        "plt.title('Percentage Wise Orders',fontsize= 15)\n",
        "plt.axis('off')\n",
        "plt.show()"
      ],
      "execution_count": 23,
      "outputs": [
        {
          "output_type": "display_data",
          "data": {
            "image/png": "[encoded data removed]",
            "text/plain": [
              "<Figure size 1080x432 with 2 Axes>"
            ]
          },
          "metadata": {
            "tags": [],
            "needs_background": "light"
          }
        }
      ]
    },
    {
      "cell_type": "code",
      "metadata": {
        "colab": {
          "base_uri": "https://localhost:8080/",
          "height": 500
        },
        "id": "zzdDcuZKjMR1",
        "outputId": "1495a90b-c52a-49af-f67b-7f90468f6bb8"
      },
      "source": [
        "# Month wise Orders\n",
        "\n",
        "plt.rcParams['figure.figsize'] = (12,8)\n",
        "sns.countplot(df['Month'],data = df,palette= 'coolwarm')\n",
        "plt.xlabel('Months',fontsize = 12)\n",
        "plt.ylabel('Order Counts',fontsize = 12)\n",
        "plt.show()"
      ],
      "execution_count": 24,
      "outputs": [
        {
          "output_type": "display_data",
          "data": {
            "image/png": "[encoded data removed]",
            "text/plain": [
              "<Figure size 864x576 with 1 Axes>"
            ]
          },
          "metadata": {
            "tags": [],
            "needs_background": "light"
          }
        }
      ]
    },
    {
      "cell_type": "code",
      "metadata": {
        "colab": {
          "base_uri": "https://localhost:8080/",
          "height": 500
        },
        "id": "dxoXiguflt9L",
        "outputId": "14867c0c-3f27-40c4-bb66-ba5fa5d593d1"
      },
      "source": [
        "# Orders per Date of Month\n",
        "plt.rcParams['figure.figsize'] = (12,8)\n",
        "sns.countplot(df['Day'],data = df,palette= 'cividis')\n",
        "plt.xlabel('Weekdays',fontsize = 12)\n",
        "plt.ylabel('Order Counts',fontsize = 12)\n",
        "plt.show()"
      ],
      "execution_count": 25,
      "outputs": [
        {
          "output_type": "display_data",
          "data": {
            "image/png": "[encoded data removed]",
            "text/plain": [
              "<Figure size 864x576 with 1 Axes>"
            ]
          },
          "metadata": {
            "tags": [],
            "needs_background": "light"
          }
        }
      ]
    },
    {
      "cell_type": "code",
      "metadata": {
        "colab": {
          "base_uri": "https://localhost:8080/",
          "height": 500
        },
        "id": "81e4uvGRj2sh",
        "outputId": "92d10680-9a0b-4f17-fe80-a7e0dcaf6320"
      },
      "source": [
        "# Orders per day of week\n",
        "plt.rcParams['figure.figsize'] = (12,8)\n",
        "sns.countplot(df['Weekday'],data = df,palette= 'magma')\n",
        "plt.xlabel('Weekdays',fontsize = 12)\n",
        "plt.ylabel('Order Counts',fontsize = 12)\n",
        "plt.show()"
      ],
      "execution_count": 26,
      "outputs": [
        {
          "output_type": "display_data",
          "data": {
            "image/png": "[encoded data removed]",
            "text/plain": [
              "<Figure size 864x576 with 1 Axes>"
            ]
          },
          "metadata": {
            "tags": [],
            "needs_background": "light"
          }
        }
      ]
    },
    {
      "cell_type": "code",
      "metadata": {
        "colab": {
          "base_uri": "https://localhost:8080/",
          "height": 500
        },
        "id": "appgjJE8kU1y",
        "outputId": "3dd8a3b3-742d-4b8a-dc4e-b6b769ee70a7"
      },
      "source": [
        "# Orders per hour\n",
        "plt.rcParams['figure.figsize'] = (12,8)\n",
        "sns.countplot(df['Hour'],data = df,palette= 'viridis')\n",
        "plt.xlabel('Hours',fontsize = 12)\n",
        "plt.ylabel('Order Counts',fontsize = 12)\n",
        "plt.show()"
      ],
      "execution_count": 27,
      "outputs": [
        {
          "output_type": "display_data",
          "data": {
            "image/png": "[encoded data removed]",
            "text/plain": [
              "<Figure size 864x576 with 1 Axes>"
            ]
          },
          "metadata": {
            "tags": [],
            "needs_background": "light"
          }
        }
      ]
    },
    {
      "cell_type": "code",
      "metadata": {
        "id": "9JHbE_JJj2jB"
      },
      "source": [
        ""
      ],
      "execution_count": 27,
      "outputs": []
    },
    {
      "cell_type": "code",
      "metadata": {
        "id": "843lqqIbD7NK",
        "colab": {
          "base_uri": "https://localhost:8080/",
          "height": 191
        },
        "outputId": "af60bbf3-e536-4d2b-ff75-fe285a51709b"
      },
      "source": [
        "df.head()"
      ],
      "execution_count": 28,
      "outputs": [
        {
          "output_type": "execute_result",
          "data": {
            "text/html": [
              "<div>\n",
              "<style scoped>\n",
              "    .dataframe tbody tr th:only-of-type {\n",
              "        vertical-align: middle;\n",
              "    }\n",
              "\n",
              "    .dataframe tbody tr th {\n",
              "        vertical-align: top;\n",
              "    }\n",
              "\n",
              "    .dataframe thead th {\n",
              "        text-align: right;\n",
              "    }\n",
              "</style>\n",
              "<table border=\"1\" class=\"dataframe\">\n",
              "  <thead>\n",
              "    <tr style=\"text-align: right;\">\n",
              "      <th></th>\n",
              "      <th>CustomerID</th>\n",
              "      <th>Item Code</th>\n",
              "      <th>InvoieNo</th>\n",
              "      <th>Date of purchase</th>\n",
              "      <th>Quantity</th>\n",
              "      <th>Time</th>\n",
              "      <th>price per Unit</th>\n",
              "      <th>Price</th>\n",
              "      <th>Shipping Location</th>\n",
              "      <th>Cancelled_status</th>\n",
              "      <th>DateTime</th>\n",
              "      <th>Year</th>\n",
              "      <th>Month</th>\n",
              "      <th>Day</th>\n",
              "      <th>Weekday</th>\n",
              "      <th>Hour</th>\n",
              "      <th>Minute</th>\n",
              "    </tr>\n",
              "  </thead>\n",
              "  <tbody>\n",
              "    <tr>\n",
              "      <th>0</th>\n",
              "      <td>4355</td>\n",
              "      <td>15734</td>\n",
              "      <td>398177</td>\n",
              "      <td>2017-10-29</td>\n",
              "      <td>6</td>\n",
              "      <td>15:36:00</td>\n",
              "      <td>321.0</td>\n",
              "      <td>1926.0</td>\n",
              "      <td>Location 1</td>\n",
              "      <td>0.0</td>\n",
              "      <td>2017-10-29 15:36:00</td>\n",
              "      <td>2017</td>\n",
              "      <td>10</td>\n",
              "      <td>29</td>\n",
              "      <td>Sunday</td>\n",
              "      <td>15</td>\n",
              "      <td>36</td>\n",
              "    </tr>\n",
              "    <tr>\n",
              "      <th>1</th>\n",
              "      <td>4352</td>\n",
              "      <td>14616</td>\n",
              "      <td>394422</td>\n",
              "      <td>2017-10-05</td>\n",
              "      <td>2</td>\n",
              "      <td>14:53:00</td>\n",
              "      <td>870.0</td>\n",
              "      <td>1740.0</td>\n",
              "      <td>Location 1</td>\n",
              "      <td>0.0</td>\n",
              "      <td>2017-10-05 14:53:00</td>\n",
              "      <td>2017</td>\n",
              "      <td>10</td>\n",
              "      <td>5</td>\n",
              "      <td>Thursday</td>\n",
              "      <td>14</td>\n",
              "      <td>53</td>\n",
              "    </tr>\n",
              "    <tr>\n",
              "      <th>2</th>\n",
              "      <td>4352</td>\n",
              "      <td>14614</td>\n",
              "      <td>394422</td>\n",
              "      <td>2017-10-12</td>\n",
              "      <td>2</td>\n",
              "      <td>14:53:00</td>\n",
              "      <td>933.0</td>\n",
              "      <td>1866.0</td>\n",
              "      <td>Location 1</td>\n",
              "      <td>0.0</td>\n",
              "      <td>2017-10-12 14:53:00</td>\n",
              "      <td>2017</td>\n",
              "      <td>10</td>\n",
              "      <td>12</td>\n",
              "      <td>Thursday</td>\n",
              "      <td>14</td>\n",
              "      <td>53</td>\n",
              "    </tr>\n",
              "    <tr>\n",
              "      <th>3</th>\n",
              "      <td>4352</td>\n",
              "      <td>85014B</td>\n",
              "      <td>388633</td>\n",
              "      <td>2017-08-22</td>\n",
              "      <td>3</td>\n",
              "      <td>14:47:00</td>\n",
              "      <td>623.0</td>\n",
              "      <td>1869.0</td>\n",
              "      <td>Location 1</td>\n",
              "      <td>0.0</td>\n",
              "      <td>2017-08-22 14:47:00</td>\n",
              "      <td>2017</td>\n",
              "      <td>8</td>\n",
              "      <td>22</td>\n",
              "      <td>Tuesday</td>\n",
              "      <td>14</td>\n",
              "      <td>47</td>\n",
              "    </tr>\n",
              "    <tr>\n",
              "      <th>4</th>\n",
              "      <td>4352</td>\n",
              "      <td>15364</td>\n",
              "      <td>394422</td>\n",
              "      <td>2017-10-10</td>\n",
              "      <td>2</td>\n",
              "      <td>14:53:00</td>\n",
              "      <td>944.0</td>\n",
              "      <td>1888.0</td>\n",
              "      <td>Location 1</td>\n",
              "      <td>0.0</td>\n",
              "      <td>2017-10-10 14:53:00</td>\n",
              "      <td>2017</td>\n",
              "      <td>10</td>\n",
              "      <td>10</td>\n",
              "      <td>Tuesday</td>\n",
              "      <td>14</td>\n",
              "      <td>53</td>\n",
              "    </tr>\n",
              "  </tbody>\n",
              "</table>\n",
              "</div>"
            ],
            "text/plain": [
              "   CustomerID Item Code  InvoieNo Date of purchase  ...  Day   Weekday  Hour  Minute\n",
              "0        4355     15734    398177       2017-10-29  ...   29    Sunday    15      36\n",
              "1        4352     14616    394422       2017-10-05  ...    5  Thursday    14      53\n",
              "2        4352     14614    394422       2017-10-12  ...   12  Thursday    14      53\n",
              "3        4352    85014B    388633       2017-08-22  ...   22   Tuesday    14      47\n",
              "4        4352     15364    394422       2017-10-10  ...   10   Tuesday    14      53\n",
              "\n",
              "[5 rows x 17 columns]"
            ]
          },
          "metadata": {
            "tags": []
          },
          "execution_count": 28
        }
      ]
    },
    {
      "cell_type": "code",
      "metadata": {
        "id": "k6Gd3ZTCg3Js",
        "colab": {
          "base_uri": "https://localhost:8080/",
          "height": 611
        },
        "outputId": "3619f00d-4684-48e6-ad2d-fb61b0d7d79a"
      },
      "source": [
        "plt.rcParams['figure.figsize'] = (12,10)\n",
        "sns.countplot(y = df['Shipping Location'],data = df,palette = 'inferno')\n",
        "plt.xlabel('Counts per Location',fontsize = 15)\n",
        "plt.ylabel('Shipping Location',fontsize = 15)\n",
        "plt.show()"
      ],
      "execution_count": 29,
      "outputs": [
        {
          "output_type": "display_data",
          "data": {
            "image/png": "[encoded data removed]",
            "text/plain": [
              "<Figure size 864x720 with 1 Axes>"
            ]
          },
          "metadata": {
            "tags": [],
            "needs_background": "light"
          }
        }
      ]
    },
    {
      "cell_type": "markdown",
      "metadata": {
        "id": "ic7kTF31imrP"
      },
      "source": [
        "**Most of the orders are done for the Location 36**"
      ]
    },
    {
      "cell_type": "code",
      "metadata": {
        "id": "-t8oaTxnD7Sa"
      },
      "source": [
        "#Creating new dataframe for location 36\n",
        "df_loc36 = df[df['Shipping Location'] == 'Location 36']\n"
      ],
      "execution_count": 30,
      "outputs": []
    },
    {
      "cell_type": "code",
      "metadata": {
        "id": "UrNMpEwogu1m",
        "colab": {
          "base_uri": "https://localhost:8080/",
          "height": 191
        },
        "outputId": "b263ec95-fb49-469d-9bcf-c82db9ca5760"
      },
      "source": [
        "df_loc36.head()"
      ],
      "execution_count": 31,
      "outputs": [
        {
          "output_type": "execute_result",
          "data": {
            "text/html": [
              "<div>\n",
              "<style scoped>\n",
              "    .dataframe tbody tr th:only-of-type {\n",
              "        vertical-align: middle;\n",
              "    }\n",
              "\n",
              "    .dataframe tbody tr th {\n",
              "        vertical-align: top;\n",
              "    }\n",
              "\n",
              "    .dataframe thead th {\n",
              "        text-align: right;\n",
              "    }\n",
              "</style>\n",
              "<table border=\"1\" class=\"dataframe\">\n",
              "  <thead>\n",
              "    <tr style=\"text-align: right;\">\n",
              "      <th></th>\n",
              "      <th>CustomerID</th>\n",
              "      <th>Item Code</th>\n",
              "      <th>InvoieNo</th>\n",
              "      <th>Date of purchase</th>\n",
              "      <th>Quantity</th>\n",
              "      <th>Time</th>\n",
              "      <th>price per Unit</th>\n",
              "      <th>Price</th>\n",
              "      <th>Shipping Location</th>\n",
              "      <th>Cancelled_status</th>\n",
              "      <th>DateTime</th>\n",
              "      <th>Year</th>\n",
              "      <th>Month</th>\n",
              "      <th>Day</th>\n",
              "      <th>Weekday</th>\n",
              "      <th>Hour</th>\n",
              "      <th>Minute</th>\n",
              "    </tr>\n",
              "  </thead>\n",
              "  <tbody>\n",
              "    <tr>\n",
              "      <th>34831</th>\n",
              "      <td>4372</td>\n",
              "      <td>39845</td>\n",
              "      <td>395779</td>\n",
              "      <td>2017-10-14</td>\n",
              "      <td>24</td>\n",
              "      <td>10:23:00</td>\n",
              "      <td>45.0</td>\n",
              "      <td>1080.0</td>\n",
              "      <td>Location 36</td>\n",
              "      <td>0.0</td>\n",
              "      <td>2017-10-14 10:23:00</td>\n",
              "      <td>2017</td>\n",
              "      <td>10</td>\n",
              "      <td>14</td>\n",
              "      <td>Saturday</td>\n",
              "      <td>10</td>\n",
              "      <td>23</td>\n",
              "    </tr>\n",
              "    <tr>\n",
              "      <th>34832</th>\n",
              "      <td>4372</td>\n",
              "      <td>15178</td>\n",
              "      <td>379129</td>\n",
              "      <td>2017-06-01</td>\n",
              "      <td>12</td>\n",
              "      <td>10:39:00</td>\n",
              "      <td>92.0</td>\n",
              "      <td>1104.0</td>\n",
              "      <td>Location 36</td>\n",
              "      <td>0.0</td>\n",
              "      <td>2017-06-01 10:39:00</td>\n",
              "      <td>2017</td>\n",
              "      <td>6</td>\n",
              "      <td>1</td>\n",
              "      <td>Thursday</td>\n",
              "      <td>10</td>\n",
              "      <td>39</td>\n",
              "    </tr>\n",
              "    <tr>\n",
              "      <th>34833</th>\n",
              "      <td>4372</td>\n",
              "      <td>15177</td>\n",
              "      <td>379129</td>\n",
              "      <td>2017-05-25</td>\n",
              "      <td>12</td>\n",
              "      <td>10:39:00</td>\n",
              "      <td>98.0</td>\n",
              "      <td>1176.0</td>\n",
              "      <td>Location 36</td>\n",
              "      <td>0.0</td>\n",
              "      <td>2017-05-25 10:39:00</td>\n",
              "      <td>2017</td>\n",
              "      <td>5</td>\n",
              "      <td>25</td>\n",
              "      <td>Thursday</td>\n",
              "      <td>10</td>\n",
              "      <td>39</td>\n",
              "    </tr>\n",
              "    <tr>\n",
              "      <th>34834</th>\n",
              "      <td>4372</td>\n",
              "      <td>14844</td>\n",
              "      <td>395779</td>\n",
              "      <td>2017-10-17</td>\n",
              "      <td>12</td>\n",
              "      <td>10:23:00</td>\n",
              "      <td>106.0</td>\n",
              "      <td>1272.0</td>\n",
              "      <td>Location 36</td>\n",
              "      <td>0.0</td>\n",
              "      <td>2017-10-17 10:23:00</td>\n",
              "      <td>2017</td>\n",
              "      <td>10</td>\n",
              "      <td>17</td>\n",
              "      <td>Tuesday</td>\n",
              "      <td>10</td>\n",
              "      <td>23</td>\n",
              "    </tr>\n",
              "    <tr>\n",
              "      <th>34835</th>\n",
              "      <td>4372</td>\n",
              "      <td>15801</td>\n",
              "      <td>395779</td>\n",
              "      <td>2017-10-15</td>\n",
              "      <td>24</td>\n",
              "      <td>10:23:00</td>\n",
              "      <td>53.0</td>\n",
              "      <td>1272.0</td>\n",
              "      <td>Location 36</td>\n",
              "      <td>0.0</td>\n",
              "      <td>2017-10-15 10:23:00</td>\n",
              "      <td>2017</td>\n",
              "      <td>10</td>\n",
              "      <td>15</td>\n",
              "      <td>Sunday</td>\n",
              "      <td>10</td>\n",
              "      <td>23</td>\n",
              "    </tr>\n",
              "  </tbody>\n",
              "</table>\n",
              "</div>"
            ],
            "text/plain": [
              "       CustomerID Item Code  InvoieNo  ...   Weekday  Hour Minute\n",
              "34831        4372     39845    395779  ...  Saturday    10     23\n",
              "34832        4372     15178    379129  ...  Thursday    10     39\n",
              "34833        4372     15177    379129  ...  Thursday    10     39\n",
              "34834        4372     14844    395779  ...   Tuesday    10     23\n",
              "34835        4372     15801    395779  ...    Sunday    10     23\n",
              "\n",
              "[5 rows x 17 columns]"
            ]
          },
          "metadata": {
            "tags": []
          },
          "execution_count": 31
        }
      ]
    },
    {
      "cell_type": "code",
      "metadata": {
        "id": "wanh0-d5aBbH",
        "colab": {
          "base_uri": "https://localhost:8080/"
        },
        "outputId": "4db07357-4c91-4d57-ef77-cef41867b8c3"
      },
      "source": [
        "df_loc36.info()"
      ],
      "execution_count": 32,
      "outputs": [
        {
          "output_type": "stream",
          "text": [
            "<class 'pandas.core.frame.DataFrame'>\n",
            "Int64Index: 376353 entries, 34831 to 411183\n",
            "Data columns (total 17 columns):\n",
            " #   Column             Non-Null Count   Dtype         \n",
            "---  ------             --------------   -----         \n",
            " 0   CustomerID         376353 non-null  int64         \n",
            " 1   Item Code          376353 non-null  object        \n",
            " 2   InvoieNo           376353 non-null  int64         \n",
            " 3   Date of purchase   376353 non-null  datetime64[ns]\n",
            " 4   Quantity           376353 non-null  int64         \n",
            " 5   Time               376353 non-null  object        \n",
            " 6   price per Unit     376353 non-null  float64       \n",
            " 7   Price              376353 non-null  float64       \n",
            " 8   Shipping Location  376353 non-null  object        \n",
            " 9   Cancelled_status   376353 non-null  float64       \n",
            " 10  DateTime           376353 non-null  datetime64[ns]\n",
            " 11  Year               376353 non-null  int64         \n",
            " 12  Month              376353 non-null  int64         \n",
            " 13  Day                376353 non-null  int64         \n",
            " 14  Weekday            376353 non-null  object        \n",
            " 15  Hour               376353 non-null  int64         \n",
            " 16  Minute             376353 non-null  int64         \n",
            "dtypes: datetime64[ns](2), float64(3), int64(8), object(4)\n",
            "memory usage: 51.7+ MB\n"
          ],
          "name": "stdout"
        }
      ]
    },
    {
      "cell_type": "code",
      "metadata": {
        "id": "6VgKLp-TaHmA"
      },
      "source": [
        "df_loc36.drop(['Year','Month','Day','Weekday','Hour','Minute','Date of purchase','Time','Shipping Location'],axis = 1,inplace = True)"
      ],
      "execution_count": 33,
      "outputs": []
    },
    {
      "cell_type": "code",
      "metadata": {
        "id": "xfAZDEMLdPVt",
        "colab": {
          "base_uri": "https://localhost:8080/",
          "height": 391
        },
        "outputId": "03162181-ef47-4381-d4eb-7786b231c1f7"
      },
      "source": [
        "df_loc36.reset_index()"
      ],
      "execution_count": 34,
      "outputs": [
        {
          "output_type": "execute_result",
          "data": {
            "text/html": [
              "<div>\n",
              "<style scoped>\n",
              "    .dataframe tbody tr th:only-of-type {\n",
              "        vertical-align: middle;\n",
              "    }\n",
              "\n",
              "    .dataframe tbody tr th {\n",
              "        vertical-align: top;\n",
              "    }\n",
              "\n",
              "    .dataframe thead th {\n",
              "        text-align: right;\n",
              "    }\n",
              "</style>\n",
              "<table border=\"1\" class=\"dataframe\">\n",
              "  <thead>\n",
              "    <tr style=\"text-align: right;\">\n",
              "      <th></th>\n",
              "      <th>index</th>\n",
              "      <th>CustomerID</th>\n",
              "      <th>Item Code</th>\n",
              "      <th>InvoieNo</th>\n",
              "      <th>Quantity</th>\n",
              "      <th>price per Unit</th>\n",
              "      <th>Price</th>\n",
              "      <th>Cancelled_status</th>\n",
              "      <th>DateTime</th>\n",
              "    </tr>\n",
              "  </thead>\n",
              "  <tbody>\n",
              "    <tr>\n",
              "      <th>0</th>\n",
              "      <td>34831</td>\n",
              "      <td>4372</td>\n",
              "      <td>39845</td>\n",
              "      <td>395779</td>\n",
              "      <td>24</td>\n",
              "      <td>45.0</td>\n",
              "      <td>1080.0</td>\n",
              "      <td>0.0</td>\n",
              "      <td>2017-10-14 10:23:00</td>\n",
              "    </tr>\n",
              "    <tr>\n",
              "      <th>1</th>\n",
              "      <td>34832</td>\n",
              "      <td>4372</td>\n",
              "      <td>15178</td>\n",
              "      <td>379129</td>\n",
              "      <td>12</td>\n",
              "      <td>92.0</td>\n",
              "      <td>1104.0</td>\n",
              "      <td>0.0</td>\n",
              "      <td>2017-06-01 10:39:00</td>\n",
              "    </tr>\n",
              "    <tr>\n",
              "      <th>2</th>\n",
              "      <td>34833</td>\n",
              "      <td>4372</td>\n",
              "      <td>15177</td>\n",
              "      <td>379129</td>\n",
              "      <td>12</td>\n",
              "      <td>98.0</td>\n",
              "      <td>1176.0</td>\n",
              "      <td>0.0</td>\n",
              "      <td>2017-05-25 10:39:00</td>\n",
              "    </tr>\n",
              "    <tr>\n",
              "      <th>3</th>\n",
              "      <td>34834</td>\n",
              "      <td>4372</td>\n",
              "      <td>14844</td>\n",
              "      <td>395779</td>\n",
              "      <td>12</td>\n",
              "      <td>106.0</td>\n",
              "      <td>1272.0</td>\n",
              "      <td>0.0</td>\n",
              "      <td>2017-10-17 10:23:00</td>\n",
              "    </tr>\n",
              "    <tr>\n",
              "      <th>4</th>\n",
              "      <td>34835</td>\n",
              "      <td>4372</td>\n",
              "      <td>15801</td>\n",
              "      <td>395779</td>\n",
              "      <td>24</td>\n",
              "      <td>53.0</td>\n",
              "      <td>1272.0</td>\n",
              "      <td>0.0</td>\n",
              "      <td>2017-10-15 10:23:00</td>\n",
              "    </tr>\n",
              "    <tr>\n",
              "      <th>...</th>\n",
              "      <td>...</td>\n",
              "      <td>...</td>\n",
              "      <td>...</td>\n",
              "      <td>...</td>\n",
              "      <td>...</td>\n",
              "      <td>...</td>\n",
              "      <td>...</td>\n",
              "      <td>...</td>\n",
              "      <td>...</td>\n",
              "    </tr>\n",
              "    <tr>\n",
              "      <th>376348</th>\n",
              "      <td>411179</td>\n",
              "      <td>2</td>\n",
              "      <td>15507</td>\n",
              "      <td>398575</td>\n",
              "      <td>48</td>\n",
              "      <td>202.0</td>\n",
              "      <td>9696.0</td>\n",
              "      <td>0.0</td>\n",
              "      <td>2017-11-10 12:25:00</td>\n",
              "    </tr>\n",
              "    <tr>\n",
              "      <th>376349</th>\n",
              "      <td>411180</td>\n",
              "      <td>2</td>\n",
              "      <td>15739</td>\n",
              "      <td>387096</td>\n",
              "      <td>12</td>\n",
              "      <td>868.0</td>\n",
              "      <td>10416.0</td>\n",
              "      <td>0.0</td>\n",
              "      <td>2017-08-05 08:48:00</td>\n",
              "    </tr>\n",
              "    <tr>\n",
              "      <th>376350</th>\n",
              "      <td>411181</td>\n",
              "      <td>2</td>\n",
              "      <td>84558A</td>\n",
              "      <td>387096</td>\n",
              "      <td>36</td>\n",
              "      <td>306.0</td>\n",
              "      <td>11016.0</td>\n",
              "      <td>0.0</td>\n",
              "      <td>2017-08-05 08:48:00</td>\n",
              "    </tr>\n",
              "    <tr>\n",
              "      <th>376351</th>\n",
              "      <td>411182</td>\n",
              "      <td>2</td>\n",
              "      <td>84558A</td>\n",
              "      <td>398575</td>\n",
              "      <td>36</td>\n",
              "      <td>346.0</td>\n",
              "      <td>12456.0</td>\n",
              "      <td>0.0</td>\n",
              "      <td>2017-11-04 12:25:00</td>\n",
              "    </tr>\n",
              "    <tr>\n",
              "      <th>376352</th>\n",
              "      <td>411183</td>\n",
              "      <td>2</td>\n",
              "      <td>15499</td>\n",
              "      <td>374286</td>\n",
              "      <td>240</td>\n",
              "      <td>171.0</td>\n",
              "      <td>41040.0</td>\n",
              "      <td>0.0</td>\n",
              "      <td>2017-04-10 10:43:00</td>\n",
              "    </tr>\n",
              "  </tbody>\n",
              "</table>\n",
              "<p>376353 rows × 9 columns</p>\n",
              "</div>"
            ],
            "text/plain": [
              "         index  CustomerID  ... Cancelled_status            DateTime\n",
              "0        34831        4372  ...              0.0 2017-10-14 10:23:00\n",
              "1        34832        4372  ...              0.0 2017-06-01 10:39:00\n",
              "2        34833        4372  ...              0.0 2017-05-25 10:39:00\n",
              "3        34834        4372  ...              0.0 2017-10-17 10:23:00\n",
              "4        34835        4372  ...              0.0 2017-10-15 10:23:00\n",
              "...        ...         ...  ...              ...                 ...\n",
              "376348  411179           2  ...              0.0 2017-11-10 12:25:00\n",
              "376349  411180           2  ...              0.0 2017-08-05 08:48:00\n",
              "376350  411181           2  ...              0.0 2017-08-05 08:48:00\n",
              "376351  411182           2  ...              0.0 2017-11-04 12:25:00\n",
              "376352  411183           2  ...              0.0 2017-04-10 10:43:00\n",
              "\n",
              "[376353 rows x 9 columns]"
            ]
          },
          "metadata": {
            "tags": []
          },
          "execution_count": 34
        }
      ]
    },
    {
      "cell_type": "code",
      "metadata": {
        "id": "YUJyt7C7Knza",
        "colab": {
          "base_uri": "https://localhost:8080/",
          "height": 277
        },
        "outputId": "ff3e711a-321a-4f3e-ab59-d1a9be08d748"
      },
      "source": [
        "df_loc36.describe()"
      ],
      "execution_count": 35,
      "outputs": [
        {
          "output_type": "execute_result",
          "data": {
            "text/html": [
              "<div>\n",
              "<style scoped>\n",
              "    .dataframe tbody tr th:only-of-type {\n",
              "        vertical-align: middle;\n",
              "    }\n",
              "\n",
              "    .dataframe tbody tr th {\n",
              "        vertical-align: top;\n",
              "    }\n",
              "\n",
              "    .dataframe thead th {\n",
              "        text-align: right;\n",
              "    }\n",
              "</style>\n",
              "<table border=\"1\" class=\"dataframe\">\n",
              "  <thead>\n",
              "    <tr style=\"text-align: right;\">\n",
              "      <th></th>\n",
              "      <th>CustomerID</th>\n",
              "      <th>InvoieNo</th>\n",
              "      <th>Quantity</th>\n",
              "      <th>price per Unit</th>\n",
              "      <th>Price</th>\n",
              "      <th>Cancelled_status</th>\n",
              "    </tr>\n",
              "  </thead>\n",
              "  <tbody>\n",
              "    <tr>\n",
              "      <th>count</th>\n",
              "      <td>376353.000000</td>\n",
              "      <td>376353.000000</td>\n",
              "      <td>376353.000000</td>\n",
              "      <td>376353.000000</td>\n",
              "      <td>376353.000000</td>\n",
              "      <td>376353.000000</td>\n",
              "    </tr>\n",
              "    <tr>\n",
              "      <th>mean</th>\n",
              "      <td>2188.846756</td>\n",
              "      <td>385666.911009</td>\n",
              "      <td>11.336995</td>\n",
              "      <td>341.776495</td>\n",
              "      <td>2462.096729</td>\n",
              "      <td>0.019971</td>\n",
              "    </tr>\n",
              "    <tr>\n",
              "      <th>std</th>\n",
              "      <td>1249.629719</td>\n",
              "      <td>13085.329557</td>\n",
              "      <td>28.861827</td>\n",
              "      <td>426.729007</td>\n",
              "      <td>4842.747325</td>\n",
              "      <td>0.139899</td>\n",
              "    </tr>\n",
              "    <tr>\n",
              "      <th>min</th>\n",
              "      <td>2.000000</td>\n",
              "      <td>361429.000000</td>\n",
              "      <td>-152.000000</td>\n",
              "      <td>2.000000</td>\n",
              "      <td>-10104.000000</td>\n",
              "      <td>0.000000</td>\n",
              "    </tr>\n",
              "    <tr>\n",
              "      <th>25%</th>\n",
              "      <td>1217.000000</td>\n",
              "      <td>374321.000000</td>\n",
              "      <td>2.000000</td>\n",
              "      <td>158.000000</td>\n",
              "      <td>553.000000</td>\n",
              "      <td>0.000000</td>\n",
              "    </tr>\n",
              "    <tr>\n",
              "      <th>50%</th>\n",
              "      <td>2080.000000</td>\n",
              "      <td>386933.000000</td>\n",
              "      <td>5.000000</td>\n",
              "      <td>238.000000</td>\n",
              "      <td>1564.000000</td>\n",
              "      <td>0.000000</td>\n",
              "    </tr>\n",
              "    <tr>\n",
              "      <th>75%</th>\n",
              "      <td>3294.000000</td>\n",
              "      <td>397130.000000</td>\n",
              "      <td>12.000000</td>\n",
              "      <td>410.000000</td>\n",
              "      <td>2480.000000</td>\n",
              "      <td>0.000000</td>\n",
              "    </tr>\n",
              "    <tr>\n",
              "      <th>max</th>\n",
              "      <td>4372.000000</td>\n",
              "      <td>406651.000000</td>\n",
              "      <td>3186.000000</td>\n",
              "      <td>64973.000000</td>\n",
              "      <td>90400.000000</td>\n",
              "      <td>1.000000</td>\n",
              "    </tr>\n",
              "  </tbody>\n",
              "</table>\n",
              "</div>"
            ],
            "text/plain": [
              "          CustomerID       InvoieNo  ...          Price  Cancelled_status\n",
              "count  376353.000000  376353.000000  ...  376353.000000     376353.000000\n",
              "mean     2188.846756  385666.911009  ...    2462.096729          0.019971\n",
              "std      1249.629719   13085.329557  ...    4842.747325          0.139899\n",
              "min         2.000000  361429.000000  ...  -10104.000000          0.000000\n",
              "25%      1217.000000  374321.000000  ...     553.000000          0.000000\n",
              "50%      2080.000000  386933.000000  ...    1564.000000          0.000000\n",
              "75%      3294.000000  397130.000000  ...    2480.000000          0.000000\n",
              "max      4372.000000  406651.000000  ...   90400.000000          1.000000\n",
              "\n",
              "[8 rows x 6 columns]"
            ]
          },
          "metadata": {
            "tags": []
          },
          "execution_count": 35
        }
      ]
    },
    {
      "cell_type": "code",
      "metadata": {
        "id": "xNnZ-TvjbsDe",
        "colab": {
          "base_uri": "https://localhost:8080/"
        },
        "outputId": "a694cb26-7b94-4fc3-a5ed-1d2cdbeeb95c"
      },
      "source": [
        "df_loc36.info()"
      ],
      "execution_count": 36,
      "outputs": [
        {
          "output_type": "stream",
          "text": [
            "<class 'pandas.core.frame.DataFrame'>\n",
            "Int64Index: 376353 entries, 34831 to 411183\n",
            "Data columns (total 8 columns):\n",
            " #   Column            Non-Null Count   Dtype         \n",
            "---  ------            --------------   -----         \n",
            " 0   CustomerID        376353 non-null  int64         \n",
            " 1   Item Code         376353 non-null  object        \n",
            " 2   InvoieNo          376353 non-null  int64         \n",
            " 3   Quantity          376353 non-null  int64         \n",
            " 4   price per Unit    376353 non-null  float64       \n",
            " 5   Price             376353 non-null  float64       \n",
            " 6   Cancelled_status  376353 non-null  float64       \n",
            " 7   DateTime          376353 non-null  datetime64[ns]\n",
            "dtypes: datetime64[ns](1), float64(3), int64(3), object(1)\n",
            "memory usage: 25.8+ MB\n"
          ],
          "name": "stdout"
        }
      ]
    },
    {
      "cell_type": "code",
      "metadata": {
        "id": "J5lkS7S0d6gQ",
        "colab": {
          "base_uri": "https://localhost:8080/",
          "height": 191
        },
        "outputId": "56b6a09b-dd50-4226-8a0e-337a29b37ca0"
      },
      "source": [
        "df_loc36.head()"
      ],
      "execution_count": 37,
      "outputs": [
        {
          "output_type": "execute_result",
          "data": {
            "text/html": [
              "<div>\n",
              "<style scoped>\n",
              "    .dataframe tbody tr th:only-of-type {\n",
              "        vertical-align: middle;\n",
              "    }\n",
              "\n",
              "    .dataframe tbody tr th {\n",
              "        vertical-align: top;\n",
              "    }\n",
              "\n",
              "    .dataframe thead th {\n",
              "        text-align: right;\n",
              "    }\n",
              "</style>\n",
              "<table border=\"1\" class=\"dataframe\">\n",
              "  <thead>\n",
              "    <tr style=\"text-align: right;\">\n",
              "      <th></th>\n",
              "      <th>CustomerID</th>\n",
              "      <th>Item Code</th>\n",
              "      <th>InvoieNo</th>\n",
              "      <th>Quantity</th>\n",
              "      <th>price per Unit</th>\n",
              "      <th>Price</th>\n",
              "      <th>Cancelled_status</th>\n",
              "      <th>DateTime</th>\n",
              "    </tr>\n",
              "  </thead>\n",
              "  <tbody>\n",
              "    <tr>\n",
              "      <th>34831</th>\n",
              "      <td>4372</td>\n",
              "      <td>39845</td>\n",
              "      <td>395779</td>\n",
              "      <td>24</td>\n",
              "      <td>45.0</td>\n",
              "      <td>1080.0</td>\n",
              "      <td>0.0</td>\n",
              "      <td>2017-10-14 10:23:00</td>\n",
              "    </tr>\n",
              "    <tr>\n",
              "      <th>34832</th>\n",
              "      <td>4372</td>\n",
              "      <td>15178</td>\n",
              "      <td>379129</td>\n",
              "      <td>12</td>\n",
              "      <td>92.0</td>\n",
              "      <td>1104.0</td>\n",
              "      <td>0.0</td>\n",
              "      <td>2017-06-01 10:39:00</td>\n",
              "    </tr>\n",
              "    <tr>\n",
              "      <th>34833</th>\n",
              "      <td>4372</td>\n",
              "      <td>15177</td>\n",
              "      <td>379129</td>\n",
              "      <td>12</td>\n",
              "      <td>98.0</td>\n",
              "      <td>1176.0</td>\n",
              "      <td>0.0</td>\n",
              "      <td>2017-05-25 10:39:00</td>\n",
              "    </tr>\n",
              "    <tr>\n",
              "      <th>34834</th>\n",
              "      <td>4372</td>\n",
              "      <td>14844</td>\n",
              "      <td>395779</td>\n",
              "      <td>12</td>\n",
              "      <td>106.0</td>\n",
              "      <td>1272.0</td>\n",
              "      <td>0.0</td>\n",
              "      <td>2017-10-17 10:23:00</td>\n",
              "    </tr>\n",
              "    <tr>\n",
              "      <th>34835</th>\n",
              "      <td>4372</td>\n",
              "      <td>15801</td>\n",
              "      <td>395779</td>\n",
              "      <td>24</td>\n",
              "      <td>53.0</td>\n",
              "      <td>1272.0</td>\n",
              "      <td>0.0</td>\n",
              "      <td>2017-10-15 10:23:00</td>\n",
              "    </tr>\n",
              "  </tbody>\n",
              "</table>\n",
              "</div>"
            ],
            "text/plain": [
              "       CustomerID Item Code  ...  Cancelled_status            DateTime\n",
              "34831        4372     39845  ...               0.0 2017-10-14 10:23:00\n",
              "34832        4372     15178  ...               0.0 2017-06-01 10:39:00\n",
              "34833        4372     15177  ...               0.0 2017-05-25 10:39:00\n",
              "34834        4372     14844  ...               0.0 2017-10-17 10:23:00\n",
              "34835        4372     15801  ...               0.0 2017-10-15 10:23:00\n",
              "\n",
              "[5 rows x 8 columns]"
            ]
          },
          "metadata": {
            "tags": []
          },
          "execution_count": 37
        }
      ]
    },
    {
      "cell_type": "code",
      "metadata": {
        "id": "HCgPNYrEi2ff",
        "colab": {
          "base_uri": "https://localhost:8080/",
          "height": 391
        },
        "outputId": "bd288503-b023-4711-e882-1057a75a23c9"
      },
      "source": [
        "df_loc36[df_loc36['CustomerID'] == 2]"
      ],
      "execution_count": 38,
      "outputs": [
        {
          "output_type": "execute_result",
          "data": {
            "text/html": [
              "<div>\n",
              "<style scoped>\n",
              "    .dataframe tbody tr th:only-of-type {\n",
              "        vertical-align: middle;\n",
              "    }\n",
              "\n",
              "    .dataframe tbody tr th {\n",
              "        vertical-align: top;\n",
              "    }\n",
              "\n",
              "    .dataframe thead th {\n",
              "        text-align: right;\n",
              "    }\n",
              "</style>\n",
              "<table border=\"1\" class=\"dataframe\">\n",
              "  <thead>\n",
              "    <tr style=\"text-align: right;\">\n",
              "      <th></th>\n",
              "      <th>CustomerID</th>\n",
              "      <th>Item Code</th>\n",
              "      <th>InvoieNo</th>\n",
              "      <th>Quantity</th>\n",
              "      <th>price per Unit</th>\n",
              "      <th>Price</th>\n",
              "      <th>Cancelled_status</th>\n",
              "      <th>DateTime</th>\n",
              "    </tr>\n",
              "  </thead>\n",
              "  <tbody>\n",
              "    <tr>\n",
              "      <th>411035</th>\n",
              "      <td>2</td>\n",
              "      <td>8431</td>\n",
              "      <td>374286</td>\n",
              "      <td>24</td>\n",
              "      <td>26.0</td>\n",
              "      <td>624.0</td>\n",
              "      <td>0.0</td>\n",
              "      <td>2017-04-17 10:43:00</td>\n",
              "    </tr>\n",
              "    <tr>\n",
              "      <th>411036</th>\n",
              "      <td>2</td>\n",
              "      <td>15244</td>\n",
              "      <td>374286</td>\n",
              "      <td>12</td>\n",
              "      <td>66.0</td>\n",
              "      <td>792.0</td>\n",
              "      <td>0.0</td>\n",
              "      <td>2017-04-13 10:43:00</td>\n",
              "    </tr>\n",
              "    <tr>\n",
              "      <th>411037</th>\n",
              "      <td>2</td>\n",
              "      <td>13142</td>\n",
              "      <td>387096</td>\n",
              "      <td>10</td>\n",
              "      <td>99.0</td>\n",
              "      <td>990.0</td>\n",
              "      <td>0.0</td>\n",
              "      <td>2017-08-11 08:48:00</td>\n",
              "    </tr>\n",
              "    <tr>\n",
              "      <th>411038</th>\n",
              "      <td>2</td>\n",
              "      <td>15368</td>\n",
              "      <td>398575</td>\n",
              "      <td>12</td>\n",
              "      <td>95.0</td>\n",
              "      <td>1140.0</td>\n",
              "      <td>0.0</td>\n",
              "      <td>2017-11-06 12:25:00</td>\n",
              "    </tr>\n",
              "    <tr>\n",
              "      <th>411039</th>\n",
              "      <td>2</td>\n",
              "      <td>14059</td>\n",
              "      <td>398575</td>\n",
              "      <td>12</td>\n",
              "      <td>96.0</td>\n",
              "      <td>1152.0</td>\n",
              "      <td>0.0</td>\n",
              "      <td>2017-11-08 12:25:00</td>\n",
              "    </tr>\n",
              "    <tr>\n",
              "      <th>...</th>\n",
              "      <td>...</td>\n",
              "      <td>...</td>\n",
              "      <td>...</td>\n",
              "      <td>...</td>\n",
              "      <td>...</td>\n",
              "      <td>...</td>\n",
              "      <td>...</td>\n",
              "      <td>...</td>\n",
              "    </tr>\n",
              "    <tr>\n",
              "      <th>411179</th>\n",
              "      <td>2</td>\n",
              "      <td>15507</td>\n",
              "      <td>398575</td>\n",
              "      <td>48</td>\n",
              "      <td>202.0</td>\n",
              "      <td>9696.0</td>\n",
              "      <td>0.0</td>\n",
              "      <td>2017-11-10 12:25:00</td>\n",
              "    </tr>\n",
              "    <tr>\n",
              "      <th>411180</th>\n",
              "      <td>2</td>\n",
              "      <td>15739</td>\n",
              "      <td>387096</td>\n",
              "      <td>12</td>\n",
              "      <td>868.0</td>\n",
              "      <td>10416.0</td>\n",
              "      <td>0.0</td>\n",
              "      <td>2017-08-05 08:48:00</td>\n",
              "    </tr>\n",
              "    <tr>\n",
              "      <th>411181</th>\n",
              "      <td>2</td>\n",
              "      <td>84558A</td>\n",
              "      <td>387096</td>\n",
              "      <td>36</td>\n",
              "      <td>306.0</td>\n",
              "      <td>11016.0</td>\n",
              "      <td>0.0</td>\n",
              "      <td>2017-08-05 08:48:00</td>\n",
              "    </tr>\n",
              "    <tr>\n",
              "      <th>411182</th>\n",
              "      <td>2</td>\n",
              "      <td>84558A</td>\n",
              "      <td>398575</td>\n",
              "      <td>36</td>\n",
              "      <td>346.0</td>\n",
              "      <td>12456.0</td>\n",
              "      <td>0.0</td>\n",
              "      <td>2017-11-04 12:25:00</td>\n",
              "    </tr>\n",
              "    <tr>\n",
              "      <th>411183</th>\n",
              "      <td>2</td>\n",
              "      <td>15499</td>\n",
              "      <td>374286</td>\n",
              "      <td>240</td>\n",
              "      <td>171.0</td>\n",
              "      <td>41040.0</td>\n",
              "      <td>0.0</td>\n",
              "      <td>2017-04-10 10:43:00</td>\n",
              "    </tr>\n",
              "  </tbody>\n",
              "</table>\n",
              "<p>149 rows × 8 columns</p>\n",
              "</div>"
            ],
            "text/plain": [
              "        CustomerID Item Code  ...  Cancelled_status            DateTime\n",
              "411035           2      8431  ...               0.0 2017-04-17 10:43:00\n",
              "411036           2     15244  ...               0.0 2017-04-13 10:43:00\n",
              "411037           2     13142  ...               0.0 2017-08-11 08:48:00\n",
              "411038           2     15368  ...               0.0 2017-11-06 12:25:00\n",
              "411039           2     14059  ...               0.0 2017-11-08 12:25:00\n",
              "...            ...       ...  ...               ...                 ...\n",
              "411179           2     15507  ...               0.0 2017-11-10 12:25:00\n",
              "411180           2     15739  ...               0.0 2017-08-05 08:48:00\n",
              "411181           2    84558A  ...               0.0 2017-08-05 08:48:00\n",
              "411182           2    84558A  ...               0.0 2017-11-04 12:25:00\n",
              "411183           2     15499  ...               0.0 2017-04-10 10:43:00\n",
              "\n",
              "[149 rows x 8 columns]"
            ]
          },
          "metadata": {
            "tags": []
          },
          "execution_count": 38
        }
      ]
    },
    {
      "cell_type": "markdown",
      "metadata": {
        "id": "3ncPnsS9rcqI"
      },
      "source": [
        "## **RFM** **Analysis**"
      ]
    },
    {
      "cell_type": "code",
      "metadata": {
        "id": "1jHC3roUkWhA",
        "colab": {
          "base_uri": "https://localhost:8080/"
        },
        "outputId": "77e13235-0be5-49c6-9f0d-c3d97d856998"
      },
      "source": [
        "# New columns Recency,Frequency and Monetary.\n",
        "max_date = df_loc36['DateTime'].max()\n",
        "max_date"
      ],
      "execution_count": 39,
      "outputs": [
        {
          "output_type": "execute_result",
          "data": {
            "text/plain": [
              "Timestamp('2017-12-19 12:50:00')"
            ]
          },
          "metadata": {
            "tags": []
          },
          "execution_count": 39
        }
      ]
    },
    {
      "cell_type": "code",
      "metadata": {
        "id": "WPIi-Yc-sXKD"
      },
      "source": [
        "current_date = dt.datetime(2017,12,20)\n"
      ],
      "execution_count": 40,
      "outputs": []
    },
    {
      "cell_type": "code",
      "metadata": {
        "id": "49VvXI3s0nYj",
        "colab": {
          "base_uri": "https://localhost:8080/",
          "height": 191
        },
        "outputId": "d8ddbc47-ebea-4ee9-83fb-00302563c30d"
      },
      "source": [
        "rfm = df_loc36.groupby('CustomerID').agg({'DateTime': lambda date : (current_date - date.max()).days,\n",
        "                                      'InvoieNo' : lambda x : x.count(),\n",
        "                                      'Price' : lambda price : price.sum()}).reset_index()\n",
        "\n",
        "rfm.columns  = ['CustomerID','Recency' , 'Frequency', 'Monetary']\n",
        "\n",
        "\n",
        "rfm.head()"
      ],
      "execution_count": 41,
      "outputs": [
        {
          "output_type": "execute_result",
          "data": {
            "text/html": [
              "<div>\n",
              "<style scoped>\n",
              "    .dataframe tbody tr th:only-of-type {\n",
              "        vertical-align: middle;\n",
              "    }\n",
              "\n",
              "    .dataframe tbody tr th {\n",
              "        vertical-align: top;\n",
              "    }\n",
              "\n",
              "    .dataframe thead th {\n",
              "        text-align: right;\n",
              "    }\n",
              "</style>\n",
              "<table border=\"1\" class=\"dataframe\">\n",
              "  <thead>\n",
              "    <tr style=\"text-align: right;\">\n",
              "      <th></th>\n",
              "      <th>CustomerID</th>\n",
              "      <th>Recency</th>\n",
              "      <th>Frequency</th>\n",
              "      <th>Monetary</th>\n",
              "    </tr>\n",
              "  </thead>\n",
              "  <tbody>\n",
              "    <tr>\n",
              "      <th>0</th>\n",
              "      <td>2</td>\n",
              "      <td>3</td>\n",
              "      <td>149</td>\n",
              "      <td>459974.0</td>\n",
              "    </tr>\n",
              "    <tr>\n",
              "      <th>1</th>\n",
              "      <td>3</td>\n",
              "      <td>76</td>\n",
              "      <td>24</td>\n",
              "      <td>218956.0</td>\n",
              "    </tr>\n",
              "    <tr>\n",
              "      <th>2</th>\n",
              "      <td>4</td>\n",
              "      <td>18</td>\n",
              "      <td>64</td>\n",
              "      <td>158562.0</td>\n",
              "    </tr>\n",
              "    <tr>\n",
              "      <th>3</th>\n",
              "      <td>5</td>\n",
              "      <td>310</td>\n",
              "      <td>16</td>\n",
              "      <td>41976.0</td>\n",
              "    </tr>\n",
              "    <tr>\n",
              "      <th>4</th>\n",
              "      <td>6</td>\n",
              "      <td>36</td>\n",
              "      <td>79</td>\n",
              "      <td>144226.0</td>\n",
              "    </tr>\n",
              "  </tbody>\n",
              "</table>\n",
              "</div>"
            ],
            "text/plain": [
              "   CustomerID  Recency  Frequency  Monetary\n",
              "0           2        3        149  459974.0\n",
              "1           3       76         24  218956.0\n",
              "2           4       18         64  158562.0\n",
              "3           5      310         16   41976.0\n",
              "4           6       36         79  144226.0"
            ]
          },
          "metadata": {
            "tags": []
          },
          "execution_count": 41
        }
      ]
    },
    {
      "cell_type": "markdown",
      "metadata": {
        "id": "3iAbr7QCUp1Q"
      },
      "source": [
        "**Checking Distribution of the new dataframe RFM**"
      ]
    },
    {
      "cell_type": "code",
      "metadata": {
        "id": "Sy0cq8OlL6h1",
        "colab": {
          "base_uri": "https://localhost:8080/",
          "height": 345
        },
        "outputId": "e76c8752-489b-4abb-f343-52f74abd79c6"
      },
      "source": [
        "\n",
        "plt.rcParams['figure.figsize'] = (18,5)\n",
        "\n",
        "plt.subplot(1,3,1)\n",
        "sns.distplot(rfm['Recency'] ,color = 'red')\n",
        "\n",
        "\n",
        "plt.subplot(1,3,2)\n",
        "sns.distplot(rfm['Frequency'] ,color = 'red')\n",
        "\n",
        "plt.subplot(1,3,3)\n",
        "sns.distplot(rfm['Monetary'] ,color = 'red')\n",
        "\n",
        "\n",
        "plt.show()"
      ],
      "execution_count": 42,
      "outputs": [
        {
          "output_type": "display_data",
          "data": {
            "image/png": "[encoded data removed]",
            "text/plain": [
              "<Figure size 1296x360 with 3 Axes>"
            ]
          },
          "metadata": {
            "tags": [],
            "needs_background": "light"
          }
        }
      ]
    },
    {
      "cell_type": "code",
      "metadata": {
        "id": "2yFIyPvOZ4xd",
        "colab": {
          "base_uri": "https://localhost:8080/",
          "height": 133
        },
        "outputId": "bf6da72f-b374-4c4b-af47-f31c193012df"
      },
      "source": [
        "# Checking the quantiles for each RFM Column.\n",
        "quantile = rfm.quantile( q = [0.25,0.50,0.75])\n",
        "quantile"
      ],
      "execution_count": 43,
      "outputs": [
        {
          "output_type": "execute_result",
          "data": {
            "text/html": [
              "<div>\n",
              "<style scoped>\n",
              "    .dataframe tbody tr th:only-of-type {\n",
              "        vertical-align: middle;\n",
              "    }\n",
              "\n",
              "    .dataframe tbody tr th {\n",
              "        vertical-align: top;\n",
              "    }\n",
              "\n",
              "    .dataframe thead th {\n",
              "        text-align: right;\n",
              "    }\n",
              "</style>\n",
              "<table border=\"1\" class=\"dataframe\">\n",
              "  <thead>\n",
              "    <tr style=\"text-align: right;\">\n",
              "      <th></th>\n",
              "      <th>CustomerID</th>\n",
              "      <th>Recency</th>\n",
              "      <th>Frequency</th>\n",
              "      <th>Monetary</th>\n",
              "    </tr>\n",
              "  </thead>\n",
              "  <tbody>\n",
              "    <tr>\n",
              "      <th>0.25</th>\n",
              "      <td>1094.5</td>\n",
              "      <td>17.0</td>\n",
              "      <td>16.0</td>\n",
              "      <td>35235.0</td>\n",
              "    </tr>\n",
              "    <tr>\n",
              "      <th>0.50</th>\n",
              "      <td>2185.0</td>\n",
              "      <td>50.0</td>\n",
              "      <td>39.0</td>\n",
              "      <td>78260.0</td>\n",
              "    </tr>\n",
              "    <tr>\n",
              "      <th>0.75</th>\n",
              "      <td>3278.5</td>\n",
              "      <td>143.5</td>\n",
              "      <td>95.0</td>\n",
              "      <td>193223.5</td>\n",
              "    </tr>\n",
              "  </tbody>\n",
              "</table>\n",
              "</div>"
            ],
            "text/plain": [
              "      CustomerID  Recency  Frequency  Monetary\n",
              "0.25      1094.5     17.0       16.0   35235.0\n",
              "0.50      2185.0     50.0       39.0   78260.0\n",
              "0.75      3278.5    143.5       95.0  193223.5"
            ]
          },
          "metadata": {
            "tags": []
          },
          "execution_count": 43
        }
      ]
    },
    {
      "cell_type": "code",
      "metadata": {
        "id": "4TOYk3C-QsqF",
        "colab": {
          "base_uri": "https://localhost:8080/",
          "height": 191
        },
        "outputId": "66444cb5-db4e-49be-ab39-195cd0b959f1"
      },
      "source": [
        "R_score = []\n",
        "for x in rfm['Recency']:\n",
        "  if x <= rfm['Recency'].quantile(q = 0.25):\n",
        "    R_score.append(4)\n",
        "  elif x <= rfm['Recency'].quantile(q = 0.50):\n",
        "    R_score.append(3)\n",
        "  elif x <= rfm['Recency'].quantile(q = 0.75):\n",
        "    R_score.append(2)\n",
        "  else:\n",
        "    R_score.append(1)\n",
        "\n",
        "rfm['R_score'] = R_score  \n",
        "\n",
        "F_score = []\n",
        "for x in rfm['Frequency']:\n",
        "  if x <= rfm['Frequency'].quantile(q = 0.25):\n",
        "    F_score.append(1)\n",
        "  elif x <= rfm['Frequency'].quantile(q = 0.50):\n",
        "    F_score.append(2)\n",
        "  elif x <= rfm['Frequency'].quantile(q = 0.75):\n",
        "    F_score.append(3)\n",
        "  else:\n",
        "    F_score.append(4)\n",
        "rfm['F_score'] = F_score  \n",
        "\n",
        "M_score = []\n",
        "for x in rfm['Monetary']:\n",
        "  if x <= rfm['Monetary'].quantile(q = 0.25):\n",
        "    M_score.append(1)\n",
        "  elif x <= rfm['Monetary'].quantile(q = 0.50):\n",
        "    M_score.append(2)\n",
        "  elif x <= rfm['Monetary'].quantile(q = 0.75):\n",
        "    M_score.append(3)\n",
        "  else:\n",
        "    M_score.append(4)\n",
        "rfm['M_score'] = M_score  \n",
        "rfm['RFM_Score'] = rfm['R_score'].astype(str)+rfm['F_score'].astype(str)+rfm['M_score'].astype(str)\n",
        "rfm.head()"
      ],
      "execution_count": 44,
      "outputs": [
        {
          "output_type": "execute_result",
          "data": {
            "text/html": [
              "<div>\n",
              "<style scoped>\n",
              "    .dataframe tbody tr th:only-of-type {\n",
              "        vertical-align: middle;\n",
              "    }\n",
              "\n",
              "    .dataframe tbody tr th {\n",
              "        vertical-align: top;\n",
              "    }\n",
              "\n",
              "    .dataframe thead th {\n",
              "        text-align: right;\n",
              "    }\n",
              "</style>\n",
              "<table border=\"1\" class=\"dataframe\">\n",
              "  <thead>\n",
              "    <tr style=\"text-align: right;\">\n",
              "      <th></th>\n",
              "      <th>CustomerID</th>\n",
              "      <th>Recency</th>\n",
              "      <th>Frequency</th>\n",
              "      <th>Monetary</th>\n",
              "      <th>R_score</th>\n",
              "      <th>F_score</th>\n",
              "      <th>M_score</th>\n",
              "      <th>RFM_Score</th>\n",
              "    </tr>\n",
              "  </thead>\n",
              "  <tbody>\n",
              "    <tr>\n",
              "      <th>0</th>\n",
              "      <td>2</td>\n",
              "      <td>3</td>\n",
              "      <td>149</td>\n",
              "      <td>459974.0</td>\n",
              "      <td>4</td>\n",
              "      <td>4</td>\n",
              "      <td>4</td>\n",
              "      <td>444</td>\n",
              "    </tr>\n",
              "    <tr>\n",
              "      <th>1</th>\n",
              "      <td>3</td>\n",
              "      <td>76</td>\n",
              "      <td>24</td>\n",
              "      <td>218956.0</td>\n",
              "      <td>2</td>\n",
              "      <td>2</td>\n",
              "      <td>4</td>\n",
              "      <td>224</td>\n",
              "    </tr>\n",
              "    <tr>\n",
              "      <th>2</th>\n",
              "      <td>4</td>\n",
              "      <td>18</td>\n",
              "      <td>64</td>\n",
              "      <td>158562.0</td>\n",
              "      <td>3</td>\n",
              "      <td>3</td>\n",
              "      <td>3</td>\n",
              "      <td>333</td>\n",
              "    </tr>\n",
              "    <tr>\n",
              "      <th>3</th>\n",
              "      <td>5</td>\n",
              "      <td>310</td>\n",
              "      <td>16</td>\n",
              "      <td>41976.0</td>\n",
              "      <td>1</td>\n",
              "      <td>1</td>\n",
              "      <td>2</td>\n",
              "      <td>112</td>\n",
              "    </tr>\n",
              "    <tr>\n",
              "      <th>4</th>\n",
              "      <td>6</td>\n",
              "      <td>36</td>\n",
              "      <td>79</td>\n",
              "      <td>144226.0</td>\n",
              "      <td>3</td>\n",
              "      <td>3</td>\n",
              "      <td>3</td>\n",
              "      <td>333</td>\n",
              "    </tr>\n",
              "  </tbody>\n",
              "</table>\n",
              "</div>"
            ],
            "text/plain": [
              "   CustomerID  Recency  Frequency  ...  F_score  M_score  RFM_Score\n",
              "0           2        3        149  ...        4        4        444\n",
              "1           3       76         24  ...        2        4        224\n",
              "2           4       18         64  ...        3        3        333\n",
              "3           5      310         16  ...        1        2        112\n",
              "4           6       36         79  ...        3        3        333\n",
              "\n",
              "[5 rows x 8 columns]"
            ]
          },
          "metadata": {
            "tags": []
          },
          "execution_count": 44
        }
      ]
    },
    {
      "cell_type": "code",
      "metadata": {
        "id": "7wu0ATo0q8Dl",
        "colab": {
          "base_uri": "https://localhost:8080/"
        },
        "outputId": "565af3aa-1bb0-4098-a784-5a65c8863118"
      },
      "source": [
        "rfm.shape"
      ],
      "execution_count": 45,
      "outputs": [
        {
          "output_type": "execute_result",
          "data": {
            "text/plain": [
              "(4347, 8)"
            ]
          },
          "metadata": {
            "tags": []
          },
          "execution_count": 45
        }
      ]
    },
    {
      "cell_type": "markdown",
      "metadata": {
        "id": "RaHQOY4jTvKy"
      },
      "source": [
        "**Calculating Purchase Power **"
      ]
    },
    {
      "cell_type": "code",
      "metadata": {
        "id": "9mSn1t6DTtjk",
        "colab": {
          "base_uri": "https://localhost:8080/"
        },
        "outputId": "c498634d-27f1-4b89-8930-b2142fd244da"
      },
      "source": [
        "ratio = df_loc36.groupby('CustomerID').agg({'Cancelled_status': lambda x: x.sum()})\n",
        "ratio.columns"
      ],
      "execution_count": 46,
      "outputs": [
        {
          "output_type": "execute_result",
          "data": {
            "text/plain": [
              "Index(['Cancelled_status'], dtype='object')"
            ]
          },
          "metadata": {
            "tags": []
          },
          "execution_count": 46
        }
      ]
    },
    {
      "cell_type": "code",
      "metadata": {
        "id": "sr-NCo7ksY-Y"
      },
      "source": [
        "ratio.reset_index()\n",
        "ratio.columns = ['ReturnedOrder']"
      ],
      "execution_count": 47,
      "outputs": []
    },
    {
      "cell_type": "code",
      "metadata": {
        "id": "GG-lvLG8Izmc",
        "colab": {
          "base_uri": "https://localhost:8080/",
          "height": 391
        },
        "outputId": "198d45cb-e45c-4b3f-95a2-350de6979372"
      },
      "source": [
        "ratio.rename_axis('CustomerID').reset_index()"
      ],
      "execution_count": 48,
      "outputs": [
        {
          "output_type": "execute_result",
          "data": {
            "text/html": [
              "<div>\n",
              "<style scoped>\n",
              "    .dataframe tbody tr th:only-of-type {\n",
              "        vertical-align: middle;\n",
              "    }\n",
              "\n",
              "    .dataframe tbody tr th {\n",
              "        vertical-align: top;\n",
              "    }\n",
              "\n",
              "    .dataframe thead th {\n",
              "        text-align: right;\n",
              "    }\n",
              "</style>\n",
              "<table border=\"1\" class=\"dataframe\">\n",
              "  <thead>\n",
              "    <tr style=\"text-align: right;\">\n",
              "      <th></th>\n",
              "      <th>CustomerID</th>\n",
              "      <th>ReturnedOrder</th>\n",
              "    </tr>\n",
              "  </thead>\n",
              "  <tbody>\n",
              "    <tr>\n",
              "      <th>0</th>\n",
              "      <td>2</td>\n",
              "      <td>0.0</td>\n",
              "    </tr>\n",
              "    <tr>\n",
              "      <th>1</th>\n",
              "      <td>3</td>\n",
              "      <td>0.0</td>\n",
              "    </tr>\n",
              "    <tr>\n",
              "      <th>2</th>\n",
              "      <td>4</td>\n",
              "      <td>0.0</td>\n",
              "    </tr>\n",
              "    <tr>\n",
              "      <th>3</th>\n",
              "      <td>5</td>\n",
              "      <td>0.0</td>\n",
              "    </tr>\n",
              "    <tr>\n",
              "      <th>4</th>\n",
              "      <td>6</td>\n",
              "      <td>6.0</td>\n",
              "    </tr>\n",
              "    <tr>\n",
              "      <th>...</th>\n",
              "      <td>...</td>\n",
              "      <td>...</td>\n",
              "    </tr>\n",
              "    <tr>\n",
              "      <th>4342</th>\n",
              "      <td>4368</td>\n",
              "      <td>0.0</td>\n",
              "    </tr>\n",
              "    <tr>\n",
              "      <th>4343</th>\n",
              "      <td>4369</td>\n",
              "      <td>0.0</td>\n",
              "    </tr>\n",
              "    <tr>\n",
              "      <th>4344</th>\n",
              "      <td>4370</td>\n",
              "      <td>0.0</td>\n",
              "    </tr>\n",
              "    <tr>\n",
              "      <th>4345</th>\n",
              "      <td>4371</td>\n",
              "      <td>0.0</td>\n",
              "    </tr>\n",
              "    <tr>\n",
              "      <th>4346</th>\n",
              "      <td>4372</td>\n",
              "      <td>0.0</td>\n",
              "    </tr>\n",
              "  </tbody>\n",
              "</table>\n",
              "<p>4347 rows × 2 columns</p>\n",
              "</div>"
            ],
            "text/plain": [
              "      CustomerID  ReturnedOrder\n",
              "0              2            0.0\n",
              "1              3            0.0\n",
              "2              4            0.0\n",
              "3              5            0.0\n",
              "4              6            6.0\n",
              "...          ...            ...\n",
              "4342        4368            0.0\n",
              "4343        4369            0.0\n",
              "4344        4370            0.0\n",
              "4345        4371            0.0\n",
              "4346        4372            0.0\n",
              "\n",
              "[4347 rows x 2 columns]"
            ]
          },
          "metadata": {
            "tags": []
          },
          "execution_count": 48
        }
      ]
    },
    {
      "cell_type": "code",
      "metadata": {
        "id": "qbVakedxlKMI",
        "colab": {
          "base_uri": "https://localhost:8080/",
          "height": 220
        },
        "outputId": "14d2fa5d-5c29-4f0e-9056-81b5516ea32d"
      },
      "source": [
        "new_data = rfm.set_index('CustomerID').combine_first(ratio)\n",
        "new_data.head()"
      ],
      "execution_count": 49,
      "outputs": [
        {
          "output_type": "execute_result",
          "data": {
            "text/html": [
              "<div>\n",
              "<style scoped>\n",
              "    .dataframe tbody tr th:only-of-type {\n",
              "        vertical-align: middle;\n",
              "    }\n",
              "\n",
              "    .dataframe tbody tr th {\n",
              "        vertical-align: top;\n",
              "    }\n",
              "\n",
              "    .dataframe thead th {\n",
              "        text-align: right;\n",
              "    }\n",
              "</style>\n",
              "<table border=\"1\" class=\"dataframe\">\n",
              "  <thead>\n",
              "    <tr style=\"text-align: right;\">\n",
              "      <th></th>\n",
              "      <th>F_score</th>\n",
              "      <th>Frequency</th>\n",
              "      <th>M_score</th>\n",
              "      <th>Monetary</th>\n",
              "      <th>RFM_Score</th>\n",
              "      <th>R_score</th>\n",
              "      <th>Recency</th>\n",
              "      <th>ReturnedOrder</th>\n",
              "    </tr>\n",
              "    <tr>\n",
              "      <th>CustomerID</th>\n",
              "      <th></th>\n",
              "      <th></th>\n",
              "      <th></th>\n",
              "      <th></th>\n",
              "      <th></th>\n",
              "      <th></th>\n",
              "      <th></th>\n",
              "      <th></th>\n",
              "    </tr>\n",
              "  </thead>\n",
              "  <tbody>\n",
              "    <tr>\n",
              "      <th>2</th>\n",
              "      <td>4</td>\n",
              "      <td>149</td>\n",
              "      <td>4</td>\n",
              "      <td>459974.0</td>\n",
              "      <td>444</td>\n",
              "      <td>4</td>\n",
              "      <td>3</td>\n",
              "      <td>0.0</td>\n",
              "    </tr>\n",
              "    <tr>\n",
              "      <th>3</th>\n",
              "      <td>2</td>\n",
              "      <td>24</td>\n",
              "      <td>4</td>\n",
              "      <td>218956.0</td>\n",
              "      <td>224</td>\n",
              "      <td>2</td>\n",
              "      <td>76</td>\n",
              "      <td>0.0</td>\n",
              "    </tr>\n",
              "    <tr>\n",
              "      <th>4</th>\n",
              "      <td>3</td>\n",
              "      <td>64</td>\n",
              "      <td>3</td>\n",
              "      <td>158562.0</td>\n",
              "      <td>333</td>\n",
              "      <td>3</td>\n",
              "      <td>18</td>\n",
              "      <td>0.0</td>\n",
              "    </tr>\n",
              "    <tr>\n",
              "      <th>5</th>\n",
              "      <td>1</td>\n",
              "      <td>16</td>\n",
              "      <td>2</td>\n",
              "      <td>41976.0</td>\n",
              "      <td>112</td>\n",
              "      <td>1</td>\n",
              "      <td>310</td>\n",
              "      <td>0.0</td>\n",
              "    </tr>\n",
              "    <tr>\n",
              "      <th>6</th>\n",
              "      <td>3</td>\n",
              "      <td>79</td>\n",
              "      <td>3</td>\n",
              "      <td>144226.0</td>\n",
              "      <td>333</td>\n",
              "      <td>3</td>\n",
              "      <td>36</td>\n",
              "      <td>6.0</td>\n",
              "    </tr>\n",
              "  </tbody>\n",
              "</table>\n",
              "</div>"
            ],
            "text/plain": [
              "            F_score  Frequency  M_score  ...  R_score Recency  ReturnedOrder\n",
              "CustomerID                               ...                                \n",
              "2                 4        149        4  ...        4       3            0.0\n",
              "3                 2         24        4  ...        2      76            0.0\n",
              "4                 3         64        3  ...        3      18            0.0\n",
              "5                 1         16        2  ...        1     310            0.0\n",
              "6                 3         79        3  ...        3      36            6.0\n",
              "\n",
              "[5 rows x 8 columns]"
            ]
          },
          "metadata": {
            "tags": []
          },
          "execution_count": 49
        }
      ]
    },
    {
      "cell_type": "code",
      "metadata": {
        "id": "ndCn7wPmTtbL",
        "colab": {
          "base_uri": "https://localhost:8080/",
          "height": 220
        },
        "outputId": "a87702b5-af83-4425-9d87-7a710d1a47a4"
      },
      "source": [
        "new_data['NoReturns'] = new_data['Frequency'] - new_data['ReturnedOrder']\n",
        "new_data.head()"
      ],
      "execution_count": 50,
      "outputs": [
        {
          "output_type": "execute_result",
          "data": {
            "text/html": [
              "<div>\n",
              "<style scoped>\n",
              "    .dataframe tbody tr th:only-of-type {\n",
              "        vertical-align: middle;\n",
              "    }\n",
              "\n",
              "    .dataframe tbody tr th {\n",
              "        vertical-align: top;\n",
              "    }\n",
              "\n",
              "    .dataframe thead th {\n",
              "        text-align: right;\n",
              "    }\n",
              "</style>\n",
              "<table border=\"1\" class=\"dataframe\">\n",
              "  <thead>\n",
              "    <tr style=\"text-align: right;\">\n",
              "      <th></th>\n",
              "      <th>F_score</th>\n",
              "      <th>Frequency</th>\n",
              "      <th>M_score</th>\n",
              "      <th>Monetary</th>\n",
              "      <th>RFM_Score</th>\n",
              "      <th>R_score</th>\n",
              "      <th>Recency</th>\n",
              "      <th>ReturnedOrder</th>\n",
              "      <th>NoReturns</th>\n",
              "    </tr>\n",
              "    <tr>\n",
              "      <th>CustomerID</th>\n",
              "      <th></th>\n",
              "      <th></th>\n",
              "      <th></th>\n",
              "      <th></th>\n",
              "      <th></th>\n",
              "      <th></th>\n",
              "      <th></th>\n",
              "      <th></th>\n",
              "      <th></th>\n",
              "    </tr>\n",
              "  </thead>\n",
              "  <tbody>\n",
              "    <tr>\n",
              "      <th>2</th>\n",
              "      <td>4</td>\n",
              "      <td>149</td>\n",
              "      <td>4</td>\n",
              "      <td>459974.0</td>\n",
              "      <td>444</td>\n",
              "      <td>4</td>\n",
              "      <td>3</td>\n",
              "      <td>0.0</td>\n",
              "      <td>149.0</td>\n",
              "    </tr>\n",
              "    <tr>\n",
              "      <th>3</th>\n",
              "      <td>2</td>\n",
              "      <td>24</td>\n",
              "      <td>4</td>\n",
              "      <td>218956.0</td>\n",
              "      <td>224</td>\n",
              "      <td>2</td>\n",
              "      <td>76</td>\n",
              "      <td>0.0</td>\n",
              "      <td>24.0</td>\n",
              "    </tr>\n",
              "    <tr>\n",
              "      <th>4</th>\n",
              "      <td>3</td>\n",
              "      <td>64</td>\n",
              "      <td>3</td>\n",
              "      <td>158562.0</td>\n",
              "      <td>333</td>\n",
              "      <td>3</td>\n",
              "      <td>18</td>\n",
              "      <td>0.0</td>\n",
              "      <td>64.0</td>\n",
              "    </tr>\n",
              "    <tr>\n",
              "      <th>5</th>\n",
              "      <td>1</td>\n",
              "      <td>16</td>\n",
              "      <td>2</td>\n",
              "      <td>41976.0</td>\n",
              "      <td>112</td>\n",
              "      <td>1</td>\n",
              "      <td>310</td>\n",
              "      <td>0.0</td>\n",
              "      <td>16.0</td>\n",
              "    </tr>\n",
              "    <tr>\n",
              "      <th>6</th>\n",
              "      <td>3</td>\n",
              "      <td>79</td>\n",
              "      <td>3</td>\n",
              "      <td>144226.0</td>\n",
              "      <td>333</td>\n",
              "      <td>3</td>\n",
              "      <td>36</td>\n",
              "      <td>6.0</td>\n",
              "      <td>73.0</td>\n",
              "    </tr>\n",
              "  </tbody>\n",
              "</table>\n",
              "</div>"
            ],
            "text/plain": [
              "            F_score  Frequency  M_score  ...  Recency ReturnedOrder  NoReturns\n",
              "CustomerID                               ...                                  \n",
              "2                 4        149        4  ...        3           0.0      149.0\n",
              "3                 2         24        4  ...       76           0.0       24.0\n",
              "4                 3         64        3  ...       18           0.0       64.0\n",
              "5                 1         16        2  ...      310           0.0       16.0\n",
              "6                 3         79        3  ...       36           6.0       73.0\n",
              "\n",
              "[5 rows x 9 columns]"
            ]
          },
          "metadata": {
            "tags": []
          },
          "execution_count": 50
        }
      ]
    },
    {
      "cell_type": "code",
      "metadata": {
        "id": "kE_GBVTKK-hV",
        "colab": {
          "base_uri": "https://localhost:8080/",
          "height": 420
        },
        "outputId": "4d4c28a0-c6ca-420d-8fcd-9221704fcc62"
      },
      "source": [
        "new_data['Purchase_power_ratio'] = round((new_data['NoReturns']/new_data['Frequency']),2)\n",
        "new_data"
      ],
      "execution_count": 51,
      "outputs": [
        {
          "output_type": "execute_result",
          "data": {
            "text/html": [
              "<div>\n",
              "<style scoped>\n",
              "    .dataframe tbody tr th:only-of-type {\n",
              "        vertical-align: middle;\n",
              "    }\n",
              "\n",
              "    .dataframe tbody tr th {\n",
              "        vertical-align: top;\n",
              "    }\n",
              "\n",
              "    .dataframe thead th {\n",
              "        text-align: right;\n",
              "    }\n",
              "</style>\n",
              "<table border=\"1\" class=\"dataframe\">\n",
              "  <thead>\n",
              "    <tr style=\"text-align: right;\">\n",
              "      <th></th>\n",
              "      <th>F_score</th>\n",
              "      <th>Frequency</th>\n",
              "      <th>M_score</th>\n",
              "      <th>Monetary</th>\n",
              "      <th>RFM_Score</th>\n",
              "      <th>R_score</th>\n",
              "      <th>Recency</th>\n",
              "      <th>ReturnedOrder</th>\n",
              "      <th>NoReturns</th>\n",
              "      <th>Purchase_power_ratio</th>\n",
              "    </tr>\n",
              "    <tr>\n",
              "      <th>CustomerID</th>\n",
              "      <th></th>\n",
              "      <th></th>\n",
              "      <th></th>\n",
              "      <th></th>\n",
              "      <th></th>\n",
              "      <th></th>\n",
              "      <th></th>\n",
              "      <th></th>\n",
              "      <th></th>\n",
              "      <th></th>\n",
              "    </tr>\n",
              "  </thead>\n",
              "  <tbody>\n",
              "    <tr>\n",
              "      <th>2</th>\n",
              "      <td>4</td>\n",
              "      <td>149</td>\n",
              "      <td>4</td>\n",
              "      <td>459974.0</td>\n",
              "      <td>444</td>\n",
              "      <td>4</td>\n",
              "      <td>3</td>\n",
              "      <td>0.0</td>\n",
              "      <td>149.0</td>\n",
              "      <td>1.00</td>\n",
              "    </tr>\n",
              "    <tr>\n",
              "      <th>3</th>\n",
              "      <td>2</td>\n",
              "      <td>24</td>\n",
              "      <td>4</td>\n",
              "      <td>218956.0</td>\n",
              "      <td>224</td>\n",
              "      <td>2</td>\n",
              "      <td>76</td>\n",
              "      <td>0.0</td>\n",
              "      <td>24.0</td>\n",
              "      <td>1.00</td>\n",
              "    </tr>\n",
              "    <tr>\n",
              "      <th>4</th>\n",
              "      <td>3</td>\n",
              "      <td>64</td>\n",
              "      <td>3</td>\n",
              "      <td>158562.0</td>\n",
              "      <td>333</td>\n",
              "      <td>3</td>\n",
              "      <td>18</td>\n",
              "      <td>0.0</td>\n",
              "      <td>64.0</td>\n",
              "      <td>1.00</td>\n",
              "    </tr>\n",
              "    <tr>\n",
              "      <th>5</th>\n",
              "      <td>1</td>\n",
              "      <td>16</td>\n",
              "      <td>2</td>\n",
              "      <td>41976.0</td>\n",
              "      <td>112</td>\n",
              "      <td>1</td>\n",
              "      <td>310</td>\n",
              "      <td>0.0</td>\n",
              "      <td>16.0</td>\n",
              "      <td>1.00</td>\n",
              "    </tr>\n",
              "    <tr>\n",
              "      <th>6</th>\n",
              "      <td>3</td>\n",
              "      <td>79</td>\n",
              "      <td>3</td>\n",
              "      <td>144226.0</td>\n",
              "      <td>333</td>\n",
              "      <td>3</td>\n",
              "      <td>36</td>\n",
              "      <td>6.0</td>\n",
              "      <td>73.0</td>\n",
              "      <td>0.92</td>\n",
              "    </tr>\n",
              "    <tr>\n",
              "      <th>...</th>\n",
              "      <td>...</td>\n",
              "      <td>...</td>\n",
              "      <td>...</td>\n",
              "      <td>...</td>\n",
              "      <td>...</td>\n",
              "      <td>...</td>\n",
              "      <td>...</td>\n",
              "      <td>...</td>\n",
              "      <td>...</td>\n",
              "      <td>...</td>\n",
              "    </tr>\n",
              "    <tr>\n",
              "      <th>4368</th>\n",
              "      <td>1</td>\n",
              "      <td>9</td>\n",
              "      <td>1</td>\n",
              "      <td>18916.0</td>\n",
              "      <td>111</td>\n",
              "      <td>1</td>\n",
              "      <td>277</td>\n",
              "      <td>0.0</td>\n",
              "      <td>9.0</td>\n",
              "      <td>1.00</td>\n",
              "    </tr>\n",
              "    <tr>\n",
              "      <th>4369</th>\n",
              "      <td>1</td>\n",
              "      <td>7</td>\n",
              "      <td>1</td>\n",
              "      <td>10774.0</td>\n",
              "      <td>111</td>\n",
              "      <td>1</td>\n",
              "      <td>180</td>\n",
              "      <td>0.0</td>\n",
              "      <td>7.0</td>\n",
              "      <td>1.00</td>\n",
              "    </tr>\n",
              "    <tr>\n",
              "      <th>4370</th>\n",
              "      <td>1</td>\n",
              "      <td>11</td>\n",
              "      <td>1</td>\n",
              "      <td>19465.0</td>\n",
              "      <td>411</td>\n",
              "      <td>4</td>\n",
              "      <td>8</td>\n",
              "      <td>0.0</td>\n",
              "      <td>11.0</td>\n",
              "      <td>1.00</td>\n",
              "    </tr>\n",
              "    <tr>\n",
              "      <th>4371</th>\n",
              "      <td>4</td>\n",
              "      <td>687</td>\n",
              "      <td>4</td>\n",
              "      <td>259701.0</td>\n",
              "      <td>444</td>\n",
              "      <td>4</td>\n",
              "      <td>3</td>\n",
              "      <td>0.0</td>\n",
              "      <td>687.0</td>\n",
              "      <td>1.00</td>\n",
              "    </tr>\n",
              "    <tr>\n",
              "      <th>4372</th>\n",
              "      <td>3</td>\n",
              "      <td>67</td>\n",
              "      <td>4</td>\n",
              "      <td>253604.0</td>\n",
              "      <td>334</td>\n",
              "      <td>3</td>\n",
              "      <td>43</td>\n",
              "      <td>0.0</td>\n",
              "      <td>67.0</td>\n",
              "      <td>1.00</td>\n",
              "    </tr>\n",
              "  </tbody>\n",
              "</table>\n",
              "<p>4347 rows × 10 columns</p>\n",
              "</div>"
            ],
            "text/plain": [
              "            F_score  Frequency  ...  NoReturns  Purchase_power_ratio\n",
              "CustomerID                      ...                                 \n",
              "2                 4        149  ...      149.0                  1.00\n",
              "3                 2         24  ...       24.0                  1.00\n",
              "4                 3         64  ...       64.0                  1.00\n",
              "5                 1         16  ...       16.0                  1.00\n",
              "6                 3         79  ...       73.0                  0.92\n",
              "...             ...        ...  ...        ...                   ...\n",
              "4368              1          9  ...        9.0                  1.00\n",
              "4369              1          7  ...        7.0                  1.00\n",
              "4370              1         11  ...       11.0                  1.00\n",
              "4371              4        687  ...      687.0                  1.00\n",
              "4372              3         67  ...       67.0                  1.00\n",
              "\n",
              "[4347 rows x 10 columns]"
            ]
          },
          "metadata": {
            "tags": []
          },
          "execution_count": 51
        }
      ]
    },
    {
      "cell_type": "code",
      "metadata": {
        "id": "8qM88b90Mfeo"
      },
      "source": [
        "PP_score = []\n",
        "for x in new_data['Purchase_power_ratio']:\n",
        "  if x == 1.00:\n",
        "    PP_score.append(4)\n",
        "  elif ((x>=0.97) & (x<1.00)):\n",
        "    PP_score.append(3)\n",
        "  elif ((x>=0.80) & (x<0.97)):\n",
        "    PP_score.append(2)\n",
        "  else:\n",
        "    PP_score.append(1)\n",
        "\n",
        "new_data['PP_score']=PP_score"
      ],
      "execution_count": 52,
      "outputs": []
    },
    {
      "cell_type": "code",
      "metadata": {
        "id": "CpQUbakyNBF4",
        "colab": {
          "base_uri": "https://localhost:8080/",
          "height": 220
        },
        "outputId": "3172868a-1661-4727-abab-d23105c201e7"
      },
      "source": [
        "new_data.head()"
      ],
      "execution_count": 53,
      "outputs": [
        {
          "output_type": "execute_result",
          "data": {
            "text/html": [
              "<div>\n",
              "<style scoped>\n",
              "    .dataframe tbody tr th:only-of-type {\n",
              "        vertical-align: middle;\n",
              "    }\n",
              "\n",
              "    .dataframe tbody tr th {\n",
              "        vertical-align: top;\n",
              "    }\n",
              "\n",
              "    .dataframe thead th {\n",
              "        text-align: right;\n",
              "    }\n",
              "</style>\n",
              "<table border=\"1\" class=\"dataframe\">\n",
              "  <thead>\n",
              "    <tr style=\"text-align: right;\">\n",
              "      <th></th>\n",
              "      <th>F_score</th>\n",
              "      <th>Frequency</th>\n",
              "      <th>M_score</th>\n",
              "      <th>Monetary</th>\n",
              "      <th>RFM_Score</th>\n",
              "      <th>R_score</th>\n",
              "      <th>Recency</th>\n",
              "      <th>ReturnedOrder</th>\n",
              "      <th>NoReturns</th>\n",
              "      <th>Purchase_power_ratio</th>\n",
              "      <th>PP_score</th>\n",
              "    </tr>\n",
              "    <tr>\n",
              "      <th>CustomerID</th>\n",
              "      <th></th>\n",
              "      <th></th>\n",
              "      <th></th>\n",
              "      <th></th>\n",
              "      <th></th>\n",
              "      <th></th>\n",
              "      <th></th>\n",
              "      <th></th>\n",
              "      <th></th>\n",
              "      <th></th>\n",
              "      <th></th>\n",
              "    </tr>\n",
              "  </thead>\n",
              "  <tbody>\n",
              "    <tr>\n",
              "      <th>2</th>\n",
              "      <td>4</td>\n",
              "      <td>149</td>\n",
              "      <td>4</td>\n",
              "      <td>459974.0</td>\n",
              "      <td>444</td>\n",
              "      <td>4</td>\n",
              "      <td>3</td>\n",
              "      <td>0.0</td>\n",
              "      <td>149.0</td>\n",
              "      <td>1.00</td>\n",
              "      <td>4</td>\n",
              "    </tr>\n",
              "    <tr>\n",
              "      <th>3</th>\n",
              "      <td>2</td>\n",
              "      <td>24</td>\n",
              "      <td>4</td>\n",
              "      <td>218956.0</td>\n",
              "      <td>224</td>\n",
              "      <td>2</td>\n",
              "      <td>76</td>\n",
              "      <td>0.0</td>\n",
              "      <td>24.0</td>\n",
              "      <td>1.00</td>\n",
              "      <td>4</td>\n",
              "    </tr>\n",
              "    <tr>\n",
              "      <th>4</th>\n",
              "      <td>3</td>\n",
              "      <td>64</td>\n",
              "      <td>3</td>\n",
              "      <td>158562.0</td>\n",
              "      <td>333</td>\n",
              "      <td>3</td>\n",
              "      <td>18</td>\n",
              "      <td>0.0</td>\n",
              "      <td>64.0</td>\n",
              "      <td>1.00</td>\n",
              "      <td>4</td>\n",
              "    </tr>\n",
              "    <tr>\n",
              "      <th>5</th>\n",
              "      <td>1</td>\n",
              "      <td>16</td>\n",
              "      <td>2</td>\n",
              "      <td>41976.0</td>\n",
              "      <td>112</td>\n",
              "      <td>1</td>\n",
              "      <td>310</td>\n",
              "      <td>0.0</td>\n",
              "      <td>16.0</td>\n",
              "      <td>1.00</td>\n",
              "      <td>4</td>\n",
              "    </tr>\n",
              "    <tr>\n",
              "      <th>6</th>\n",
              "      <td>3</td>\n",
              "      <td>79</td>\n",
              "      <td>3</td>\n",
              "      <td>144226.0</td>\n",
              "      <td>333</td>\n",
              "      <td>3</td>\n",
              "      <td>36</td>\n",
              "      <td>6.0</td>\n",
              "      <td>73.0</td>\n",
              "      <td>0.92</td>\n",
              "      <td>2</td>\n",
              "    </tr>\n",
              "  </tbody>\n",
              "</table>\n",
              "</div>"
            ],
            "text/plain": [
              "            F_score  Frequency  ...  Purchase_power_ratio  PP_score\n",
              "CustomerID                      ...                                \n",
              "2                 4        149  ...                  1.00         4\n",
              "3                 2         24  ...                  1.00         4\n",
              "4                 3         64  ...                  1.00         4\n",
              "5                 1         16  ...                  1.00         4\n",
              "6                 3         79  ...                  0.92         2\n",
              "\n",
              "[5 rows x 11 columns]"
            ]
          },
          "metadata": {
            "tags": []
          },
          "execution_count": 53
        }
      ]
    },
    {
      "cell_type": "code",
      "metadata": {
        "id": "Sfgf5fmuNF2P",
        "colab": {
          "base_uri": "https://localhost:8080/",
          "height": 277
        },
        "outputId": "9632ffe9-1d41-49dd-befa-8eb0d120a2a6"
      },
      "source": [
        "new_data.describe()"
      ],
      "execution_count": 54,
      "outputs": [
        {
          "output_type": "execute_result",
          "data": {
            "text/html": [
              "<div>\n",
              "<style scoped>\n",
              "    .dataframe tbody tr th:only-of-type {\n",
              "        vertical-align: middle;\n",
              "    }\n",
              "\n",
              "    .dataframe tbody tr th {\n",
              "        vertical-align: top;\n",
              "    }\n",
              "\n",
              "    .dataframe thead th {\n",
              "        text-align: right;\n",
              "    }\n",
              "</style>\n",
              "<table border=\"1\" class=\"dataframe\">\n",
              "  <thead>\n",
              "    <tr style=\"text-align: right;\">\n",
              "      <th></th>\n",
              "      <th>F_score</th>\n",
              "      <th>Frequency</th>\n",
              "      <th>M_score</th>\n",
              "      <th>Monetary</th>\n",
              "      <th>R_score</th>\n",
              "      <th>Recency</th>\n",
              "      <th>ReturnedOrder</th>\n",
              "      <th>NoReturns</th>\n",
              "      <th>Purchase_power_ratio</th>\n",
              "      <th>PP_score</th>\n",
              "    </tr>\n",
              "  </thead>\n",
              "  <tbody>\n",
              "    <tr>\n",
              "      <th>count</th>\n",
              "      <td>4347.000000</td>\n",
              "      <td>4347.000000</td>\n",
              "      <td>4347.000000</td>\n",
              "      <td>4.347000e+03</td>\n",
              "      <td>4347.000000</td>\n",
              "      <td>4347.000000</td>\n",
              "      <td>4347.000000</td>\n",
              "      <td>4347.000000</td>\n",
              "      <td>4347.000000</td>\n",
              "      <td>4347.000000</td>\n",
              "    </tr>\n",
              "    <tr>\n",
              "      <th>mean</th>\n",
              "      <td>2.487003</td>\n",
              "      <td>86.577640</td>\n",
              "      <td>2.499885</td>\n",
              "      <td>2.131625e+05</td>\n",
              "      <td>2.508167</td>\n",
              "      <td>92.505176</td>\n",
              "      <td>1.729009</td>\n",
              "      <td>84.848631</td>\n",
              "      <td>0.973313</td>\n",
              "      <td>3.481481</td>\n",
              "    </tr>\n",
              "    <tr>\n",
              "      <th>std</th>\n",
              "      <td>1.122093</td>\n",
              "      <td>215.565898</td>\n",
              "      <td>1.118265</td>\n",
              "      <td>7.729048e+05</td>\n",
              "      <td>1.125210</td>\n",
              "      <td>100.829325</td>\n",
              "      <td>6.389576</td>\n",
              "      <td>211.834371</td>\n",
              "      <td>0.092694</td>\n",
              "      <td>0.825734</td>\n",
              "    </tr>\n",
              "    <tr>\n",
              "      <th>min</th>\n",
              "      <td>1.000000</td>\n",
              "      <td>1.000000</td>\n",
              "      <td>1.000000</td>\n",
              "      <td>-4.442600e+04</td>\n",
              "      <td>1.000000</td>\n",
              "      <td>0.000000</td>\n",
              "      <td>0.000000</td>\n",
              "      <td>0.000000</td>\n",
              "      <td>0.000000</td>\n",
              "      <td>1.000000</td>\n",
              "    </tr>\n",
              "    <tr>\n",
              "      <th>25%</th>\n",
              "      <td>1.000000</td>\n",
              "      <td>16.000000</td>\n",
              "      <td>1.500000</td>\n",
              "      <td>3.523500e+04</td>\n",
              "      <td>1.500000</td>\n",
              "      <td>17.000000</td>\n",
              "      <td>0.000000</td>\n",
              "      <td>16.000000</td>\n",
              "      <td>0.980000</td>\n",
              "      <td>3.000000</td>\n",
              "    </tr>\n",
              "    <tr>\n",
              "      <th>50%</th>\n",
              "      <td>2.000000</td>\n",
              "      <td>39.000000</td>\n",
              "      <td>2.000000</td>\n",
              "      <td>7.826000e+04</td>\n",
              "      <td>3.000000</td>\n",
              "      <td>50.000000</td>\n",
              "      <td>0.000000</td>\n",
              "      <td>38.000000</td>\n",
              "      <td>1.000000</td>\n",
              "      <td>4.000000</td>\n",
              "    </tr>\n",
              "    <tr>\n",
              "      <th>75%</th>\n",
              "      <td>3.000000</td>\n",
              "      <td>95.000000</td>\n",
              "      <td>3.500000</td>\n",
              "      <td>1.932235e+05</td>\n",
              "      <td>4.000000</td>\n",
              "      <td>143.500000</td>\n",
              "      <td>1.000000</td>\n",
              "      <td>93.000000</td>\n",
              "      <td>1.000000</td>\n",
              "      <td>4.000000</td>\n",
              "    </tr>\n",
              "    <tr>\n",
              "      <th>max</th>\n",
              "      <td>4.000000</td>\n",
              "      <td>7383.000000</td>\n",
              "      <td>4.000000</td>\n",
              "      <td>3.077583e+07</td>\n",
              "      <td>4.000000</td>\n",
              "      <td>380.000000</td>\n",
              "      <td>186.000000</td>\n",
              "      <td>7259.000000</td>\n",
              "      <td>1.000000</td>\n",
              "      <td>4.000000</td>\n",
              "    </tr>\n",
              "  </tbody>\n",
              "</table>\n",
              "</div>"
            ],
            "text/plain": [
              "           F_score    Frequency  ...  Purchase_power_ratio     PP_score\n",
              "count  4347.000000  4347.000000  ...           4347.000000  4347.000000\n",
              "mean      2.487003    86.577640  ...              0.973313     3.481481\n",
              "std       1.122093   215.565898  ...              0.092694     0.825734\n",
              "min       1.000000     1.000000  ...              0.000000     1.000000\n",
              "25%       1.000000    16.000000  ...              0.980000     3.000000\n",
              "50%       2.000000    39.000000  ...              1.000000     4.000000\n",
              "75%       3.000000    95.000000  ...              1.000000     4.000000\n",
              "max       4.000000  7383.000000  ...              1.000000     4.000000\n",
              "\n",
              "[8 rows x 10 columns]"
            ]
          },
          "metadata": {
            "tags": []
          },
          "execution_count": 54
        }
      ]
    },
    {
      "cell_type": "code",
      "metadata": {
        "id": "sPSpWcJ_NKKJ",
        "colab": {
          "base_uri": "https://localhost:8080/"
        },
        "outputId": "3820896c-6cf0-4176-de9b-5038d13cf30f"
      },
      "source": [
        "new_data.info()\n"
      ],
      "execution_count": 55,
      "outputs": [
        {
          "output_type": "stream",
          "text": [
            "<class 'pandas.core.frame.DataFrame'>\n",
            "Int64Index: 4347 entries, 2 to 4372\n",
            "Data columns (total 11 columns):\n",
            " #   Column                Non-Null Count  Dtype  \n",
            "---  ------                --------------  -----  \n",
            " 0   F_score               4347 non-null   int64  \n",
            " 1   Frequency             4347 non-null   int64  \n",
            " 2   M_score               4347 non-null   int64  \n",
            " 3   Monetary              4347 non-null   float64\n",
            " 4   RFM_Score             4347 non-null   object \n",
            " 5   R_score               4347 non-null   int64  \n",
            " 6   Recency               4347 non-null   int64  \n",
            " 7   ReturnedOrder         4347 non-null   float64\n",
            " 8   NoReturns             4347 non-null   float64\n",
            " 9   Purchase_power_ratio  4347 non-null   float64\n",
            " 10  PP_score              4347 non-null   int64  \n",
            "dtypes: float64(4), int64(6), object(1)\n",
            "memory usage: 407.5+ KB\n"
          ],
          "name": "stdout"
        }
      ]
    },
    {
      "cell_type": "code",
      "metadata": {
        "id": "EJATI-IeNT7k",
        "colab": {
          "base_uri": "https://localhost:8080/",
          "height": 220
        },
        "outputId": "ce0c301e-e25f-4e2e-8f10-b199ce0e8f22"
      },
      "source": [
        "new_data.drop(['ReturnedOrder'],axis =1,inplace = True)\n",
        "new_data.head()"
      ],
      "execution_count": 56,
      "outputs": [
        {
          "output_type": "execute_result",
          "data": {
            "text/html": [
              "<div>\n",
              "<style scoped>\n",
              "    .dataframe tbody tr th:only-of-type {\n",
              "        vertical-align: middle;\n",
              "    }\n",
              "\n",
              "    .dataframe tbody tr th {\n",
              "        vertical-align: top;\n",
              "    }\n",
              "\n",
              "    .dataframe thead th {\n",
              "        text-align: right;\n",
              "    }\n",
              "</style>\n",
              "<table border=\"1\" class=\"dataframe\">\n",
              "  <thead>\n",
              "    <tr style=\"text-align: right;\">\n",
              "      <th></th>\n",
              "      <th>F_score</th>\n",
              "      <th>Frequency</th>\n",
              "      <th>M_score</th>\n",
              "      <th>Monetary</th>\n",
              "      <th>RFM_Score</th>\n",
              "      <th>R_score</th>\n",
              "      <th>Recency</th>\n",
              "      <th>NoReturns</th>\n",
              "      <th>Purchase_power_ratio</th>\n",
              "      <th>PP_score</th>\n",
              "    </tr>\n",
              "    <tr>\n",
              "      <th>CustomerID</th>\n",
              "      <th></th>\n",
              "      <th></th>\n",
              "      <th></th>\n",
              "      <th></th>\n",
              "      <th></th>\n",
              "      <th></th>\n",
              "      <th></th>\n",
              "      <th></th>\n",
              "      <th></th>\n",
              "      <th></th>\n",
              "    </tr>\n",
              "  </thead>\n",
              "  <tbody>\n",
              "    <tr>\n",
              "      <th>2</th>\n",
              "      <td>4</td>\n",
              "      <td>149</td>\n",
              "      <td>4</td>\n",
              "      <td>459974.0</td>\n",
              "      <td>444</td>\n",
              "      <td>4</td>\n",
              "      <td>3</td>\n",
              "      <td>149.0</td>\n",
              "      <td>1.00</td>\n",
              "      <td>4</td>\n",
              "    </tr>\n",
              "    <tr>\n",
              "      <th>3</th>\n",
              "      <td>2</td>\n",
              "      <td>24</td>\n",
              "      <td>4</td>\n",
              "      <td>218956.0</td>\n",
              "      <td>224</td>\n",
              "      <td>2</td>\n",
              "      <td>76</td>\n",
              "      <td>24.0</td>\n",
              "      <td>1.00</td>\n",
              "      <td>4</td>\n",
              "    </tr>\n",
              "    <tr>\n",
              "      <th>4</th>\n",
              "      <td>3</td>\n",
              "      <td>64</td>\n",
              "      <td>3</td>\n",
              "      <td>158562.0</td>\n",
              "      <td>333</td>\n",
              "      <td>3</td>\n",
              "      <td>18</td>\n",
              "      <td>64.0</td>\n",
              "      <td>1.00</td>\n",
              "      <td>4</td>\n",
              "    </tr>\n",
              "    <tr>\n",
              "      <th>5</th>\n",
              "      <td>1</td>\n",
              "      <td>16</td>\n",
              "      <td>2</td>\n",
              "      <td>41976.0</td>\n",
              "      <td>112</td>\n",
              "      <td>1</td>\n",
              "      <td>310</td>\n",
              "      <td>16.0</td>\n",
              "      <td>1.00</td>\n",
              "      <td>4</td>\n",
              "    </tr>\n",
              "    <tr>\n",
              "      <th>6</th>\n",
              "      <td>3</td>\n",
              "      <td>79</td>\n",
              "      <td>3</td>\n",
              "      <td>144226.0</td>\n",
              "      <td>333</td>\n",
              "      <td>3</td>\n",
              "      <td>36</td>\n",
              "      <td>73.0</td>\n",
              "      <td>0.92</td>\n",
              "      <td>2</td>\n",
              "    </tr>\n",
              "  </tbody>\n",
              "</table>\n",
              "</div>"
            ],
            "text/plain": [
              "            F_score  Frequency  ...  Purchase_power_ratio  PP_score\n",
              "CustomerID                      ...                                \n",
              "2                 4        149  ...                  1.00         4\n",
              "3                 2         24  ...                  1.00         4\n",
              "4                 3         64  ...                  1.00         4\n",
              "5                 1         16  ...                  1.00         4\n",
              "6                 3         79  ...                  0.92         2\n",
              "\n",
              "[5 rows x 10 columns]"
            ]
          },
          "metadata": {
            "tags": []
          },
          "execution_count": 56
        }
      ]
    },
    {
      "cell_type": "code",
      "metadata": {
        "id": "CEAm00QwPgu-"
      },
      "source": [
        "new_data['Cust_Score'] = new_data['R_score'] + new_data['F_score'] + new_data['M_score'] + new_data['PP_score']"
      ],
      "execution_count": 57,
      "outputs": []
    },
    {
      "cell_type": "code",
      "metadata": {
        "id": "oAxq9oSTRd_J",
        "colab": {
          "base_uri": "https://localhost:8080/",
          "height": 220
        },
        "outputId": "026b4810-fc7a-4a0c-b6ea-12fe09429406"
      },
      "source": [
        "new_data.head()"
      ],
      "execution_count": 58,
      "outputs": [
        {
          "output_type": "execute_result",
          "data": {
            "text/html": [
              "<div>\n",
              "<style scoped>\n",
              "    .dataframe tbody tr th:only-of-type {\n",
              "        vertical-align: middle;\n",
              "    }\n",
              "\n",
              "    .dataframe tbody tr th {\n",
              "        vertical-align: top;\n",
              "    }\n",
              "\n",
              "    .dataframe thead th {\n",
              "        text-align: right;\n",
              "    }\n",
              "</style>\n",
              "<table border=\"1\" class=\"dataframe\">\n",
              "  <thead>\n",
              "    <tr style=\"text-align: right;\">\n",
              "      <th></th>\n",
              "      <th>F_score</th>\n",
              "      <th>Frequency</th>\n",
              "      <th>M_score</th>\n",
              "      <th>Monetary</th>\n",
              "      <th>RFM_Score</th>\n",
              "      <th>R_score</th>\n",
              "      <th>Recency</th>\n",
              "      <th>NoReturns</th>\n",
              "      <th>Purchase_power_ratio</th>\n",
              "      <th>PP_score</th>\n",
              "      <th>Cust_Score</th>\n",
              "    </tr>\n",
              "    <tr>\n",
              "      <th>CustomerID</th>\n",
              "      <th></th>\n",
              "      <th></th>\n",
              "      <th></th>\n",
              "      <th></th>\n",
              "      <th></th>\n",
              "      <th></th>\n",
              "      <th></th>\n",
              "      <th></th>\n",
              "      <th></th>\n",
              "      <th></th>\n",
              "      <th></th>\n",
              "    </tr>\n",
              "  </thead>\n",
              "  <tbody>\n",
              "    <tr>\n",
              "      <th>2</th>\n",
              "      <td>4</td>\n",
              "      <td>149</td>\n",
              "      <td>4</td>\n",
              "      <td>459974.0</td>\n",
              "      <td>444</td>\n",
              "      <td>4</td>\n",
              "      <td>3</td>\n",
              "      <td>149.0</td>\n",
              "      <td>1.00</td>\n",
              "      <td>4</td>\n",
              "      <td>16</td>\n",
              "    </tr>\n",
              "    <tr>\n",
              "      <th>3</th>\n",
              "      <td>2</td>\n",
              "      <td>24</td>\n",
              "      <td>4</td>\n",
              "      <td>218956.0</td>\n",
              "      <td>224</td>\n",
              "      <td>2</td>\n",
              "      <td>76</td>\n",
              "      <td>24.0</td>\n",
              "      <td>1.00</td>\n",
              "      <td>4</td>\n",
              "      <td>12</td>\n",
              "    </tr>\n",
              "    <tr>\n",
              "      <th>4</th>\n",
              "      <td>3</td>\n",
              "      <td>64</td>\n",
              "      <td>3</td>\n",
              "      <td>158562.0</td>\n",
              "      <td>333</td>\n",
              "      <td>3</td>\n",
              "      <td>18</td>\n",
              "      <td>64.0</td>\n",
              "      <td>1.00</td>\n",
              "      <td>4</td>\n",
              "      <td>13</td>\n",
              "    </tr>\n",
              "    <tr>\n",
              "      <th>5</th>\n",
              "      <td>1</td>\n",
              "      <td>16</td>\n",
              "      <td>2</td>\n",
              "      <td>41976.0</td>\n",
              "      <td>112</td>\n",
              "      <td>1</td>\n",
              "      <td>310</td>\n",
              "      <td>16.0</td>\n",
              "      <td>1.00</td>\n",
              "      <td>4</td>\n",
              "      <td>8</td>\n",
              "    </tr>\n",
              "    <tr>\n",
              "      <th>6</th>\n",
              "      <td>3</td>\n",
              "      <td>79</td>\n",
              "      <td>3</td>\n",
              "      <td>144226.0</td>\n",
              "      <td>333</td>\n",
              "      <td>3</td>\n",
              "      <td>36</td>\n",
              "      <td>73.0</td>\n",
              "      <td>0.92</td>\n",
              "      <td>2</td>\n",
              "      <td>11</td>\n",
              "    </tr>\n",
              "  </tbody>\n",
              "</table>\n",
              "</div>"
            ],
            "text/plain": [
              "            F_score  Frequency  ...  PP_score  Cust_Score\n",
              "CustomerID                      ...                      \n",
              "2                 4        149  ...         4          16\n",
              "3                 2         24  ...         4          12\n",
              "4                 3         64  ...         4          13\n",
              "5                 1         16  ...         4           8\n",
              "6                 3         79  ...         2          11\n",
              "\n",
              "[5 rows x 11 columns]"
            ]
          },
          "metadata": {
            "tags": []
          },
          "execution_count": 58
        }
      ]
    },
    {
      "cell_type": "code",
      "metadata": {
        "id": "pp7drwc8Tucd",
        "colab": {
          "base_uri": "https://localhost:8080/",
          "height": 277
        },
        "outputId": "4ef1510e-7adb-4853-c0b8-58830f282971"
      },
      "source": [
        "new_data.describe()"
      ],
      "execution_count": 59,
      "outputs": [
        {
          "output_type": "execute_result",
          "data": {
            "text/html": [
              "<div>\n",
              "<style scoped>\n",
              "    .dataframe tbody tr th:only-of-type {\n",
              "        vertical-align: middle;\n",
              "    }\n",
              "\n",
              "    .dataframe tbody tr th {\n",
              "        vertical-align: top;\n",
              "    }\n",
              "\n",
              "    .dataframe thead th {\n",
              "        text-align: right;\n",
              "    }\n",
              "</style>\n",
              "<table border=\"1\" class=\"dataframe\">\n",
              "  <thead>\n",
              "    <tr style=\"text-align: right;\">\n",
              "      <th></th>\n",
              "      <th>F_score</th>\n",
              "      <th>Frequency</th>\n",
              "      <th>M_score</th>\n",
              "      <th>Monetary</th>\n",
              "      <th>R_score</th>\n",
              "      <th>Recency</th>\n",
              "      <th>NoReturns</th>\n",
              "      <th>Purchase_power_ratio</th>\n",
              "      <th>PP_score</th>\n",
              "      <th>Cust_Score</th>\n",
              "    </tr>\n",
              "  </thead>\n",
              "  <tbody>\n",
              "    <tr>\n",
              "      <th>count</th>\n",
              "      <td>4347.000000</td>\n",
              "      <td>4347.000000</td>\n",
              "      <td>4347.000000</td>\n",
              "      <td>4.347000e+03</td>\n",
              "      <td>4347.000000</td>\n",
              "      <td>4347.000000</td>\n",
              "      <td>4347.000000</td>\n",
              "      <td>4347.000000</td>\n",
              "      <td>4347.000000</td>\n",
              "      <td>4347.000000</td>\n",
              "    </tr>\n",
              "    <tr>\n",
              "      <th>mean</th>\n",
              "      <td>2.487003</td>\n",
              "      <td>86.577640</td>\n",
              "      <td>2.499885</td>\n",
              "      <td>2.131625e+05</td>\n",
              "      <td>2.508167</td>\n",
              "      <td>92.505176</td>\n",
              "      <td>84.848631</td>\n",
              "      <td>0.973313</td>\n",
              "      <td>3.481481</td>\n",
              "      <td>10.976536</td>\n",
              "    </tr>\n",
              "    <tr>\n",
              "      <th>std</th>\n",
              "      <td>1.122093</td>\n",
              "      <td>215.565898</td>\n",
              "      <td>1.118265</td>\n",
              "      <td>7.729048e+05</td>\n",
              "      <td>1.125210</td>\n",
              "      <td>100.829325</td>\n",
              "      <td>211.834371</td>\n",
              "      <td>0.092694</td>\n",
              "      <td>0.825734</td>\n",
              "      <td>2.788346</td>\n",
              "    </tr>\n",
              "    <tr>\n",
              "      <th>min</th>\n",
              "      <td>1.000000</td>\n",
              "      <td>1.000000</td>\n",
              "      <td>1.000000</td>\n",
              "      <td>-4.442600e+04</td>\n",
              "      <td>1.000000</td>\n",
              "      <td>0.000000</td>\n",
              "      <td>0.000000</td>\n",
              "      <td>0.000000</td>\n",
              "      <td>1.000000</td>\n",
              "      <td>4.000000</td>\n",
              "    </tr>\n",
              "    <tr>\n",
              "      <th>25%</th>\n",
              "      <td>1.000000</td>\n",
              "      <td>16.000000</td>\n",
              "      <td>1.500000</td>\n",
              "      <td>3.523500e+04</td>\n",
              "      <td>1.500000</td>\n",
              "      <td>17.000000</td>\n",
              "      <td>16.000000</td>\n",
              "      <td>0.980000</td>\n",
              "      <td>3.000000</td>\n",
              "      <td>9.000000</td>\n",
              "    </tr>\n",
              "    <tr>\n",
              "      <th>50%</th>\n",
              "      <td>2.000000</td>\n",
              "      <td>39.000000</td>\n",
              "      <td>2.000000</td>\n",
              "      <td>7.826000e+04</td>\n",
              "      <td>3.000000</td>\n",
              "      <td>50.000000</td>\n",
              "      <td>38.000000</td>\n",
              "      <td>1.000000</td>\n",
              "      <td>4.000000</td>\n",
              "      <td>11.000000</td>\n",
              "    </tr>\n",
              "    <tr>\n",
              "      <th>75%</th>\n",
              "      <td>3.000000</td>\n",
              "      <td>95.000000</td>\n",
              "      <td>3.500000</td>\n",
              "      <td>1.932235e+05</td>\n",
              "      <td>4.000000</td>\n",
              "      <td>143.500000</td>\n",
              "      <td>93.000000</td>\n",
              "      <td>1.000000</td>\n",
              "      <td>4.000000</td>\n",
              "      <td>13.000000</td>\n",
              "    </tr>\n",
              "    <tr>\n",
              "      <th>max</th>\n",
              "      <td>4.000000</td>\n",
              "      <td>7383.000000</td>\n",
              "      <td>4.000000</td>\n",
              "      <td>3.077583e+07</td>\n",
              "      <td>4.000000</td>\n",
              "      <td>380.000000</td>\n",
              "      <td>7259.000000</td>\n",
              "      <td>1.000000</td>\n",
              "      <td>4.000000</td>\n",
              "      <td>16.000000</td>\n",
              "    </tr>\n",
              "  </tbody>\n",
              "</table>\n",
              "</div>"
            ],
            "text/plain": [
              "           F_score    Frequency  ...     PP_score   Cust_Score\n",
              "count  4347.000000  4347.000000  ...  4347.000000  4347.000000\n",
              "mean      2.487003    86.577640  ...     3.481481    10.976536\n",
              "std       1.122093   215.565898  ...     0.825734     2.788346\n",
              "min       1.000000     1.000000  ...     1.000000     4.000000\n",
              "25%       1.000000    16.000000  ...     3.000000     9.000000\n",
              "50%       2.000000    39.000000  ...     4.000000    11.000000\n",
              "75%       3.000000    95.000000  ...     4.000000    13.000000\n",
              "max       4.000000  7383.000000  ...     4.000000    16.000000\n",
              "\n",
              "[8 rows x 10 columns]"
            ]
          },
          "metadata": {
            "tags": []
          },
          "execution_count": 59
        }
      ]
    },
    {
      "cell_type": "code",
      "metadata": {
        "id": "4fKriHTOT03c",
        "colab": {
          "base_uri": "https://localhost:8080/",
          "height": 497
        },
        "outputId": "2b2e29d3-4719-40cb-e054-50475c45afd4"
      },
      "source": [
        "plt.figure(figsize=(8,8))\n",
        "ax = sns.countplot(x=new_data['Cust_Score'], data=new_data)\n",
        "plt.title(\"\")\n",
        "plt.xlabel('Customer Score')\n",
        "plt.ylabel('Score Counts')\n",
        "for p in ax.patches:\n",
        "        ax.annotate('{:d}'.format(p.get_height()), (p.get_x()+0.15, p.get_height()+1))"
      ],
      "execution_count": 60,
      "outputs": [
        {
          "output_type": "display_data",
          "data": {
            "image/png": "[encoded data removed]",
            "text/plain": [
              "<Figure size 576x576 with 1 Axes>"
            ]
          },
          "metadata": {
            "tags": [],
            "needs_background": "light"
          }
        }
      ]
    },
    {
      "cell_type": "code",
      "metadata": {
        "id": "3621ELjTSBRX"
      },
      "source": [
        "def cc_level(new_data):\n",
        "    if new_data['Cust_Score'] >= 15:\n",
        "        return 'Can\\'t Loose Them'\n",
        "    elif ((new_data['Cust_Score'] >= 14) and (new_data['Cust_Score'] < 15)):\n",
        "        return 'Champions'\n",
        "    elif ((new_data['Cust_Score'] >= 13) and (new_data['Cust_Score'] < 14)):\n",
        "        return 'Loyal'\n",
        "    elif ((new_data['Cust_Score'] >= 12) and (new_data['Cust_Score'] < 13)):\n",
        "        return 'Highly Active'\n",
        "    elif ((new_data['Cust_Score'] >= 11) and (new_data['Cust_Score'] < 12)):\n",
        "        return 'Potential'\n",
        "    elif ((new_data['Cust_Score'] >= 10) and (new_data['Cust_Score'] < 11)):\n",
        "        return 'Good Interest'\n",
        "    elif ((new_data['Cust_Score'] >= 9) and (new_data['Cust_Score'] < 10)):\n",
        "        return 'Occassional Spendor'\n",
        "    elif ((new_data['Cust_Score'] >= 8) and (new_data['Cust_Score'] < 9)):\n",
        "        return 'Poorly Active'\n",
        "    elif ((new_data['Cust_Score'] >= 7) and (new_data['Cust_Score'] < 8)):\n",
        "        return 'Needs Attention'                            \n",
        "    else:\n",
        "        return 'Require Activation'"
      ],
      "execution_count": 61,
      "outputs": []
    },
    {
      "cell_type": "code",
      "metadata": {
        "id": "jiW8qNXOUbae"
      },
      "source": [
        "new_data['Customer_Category'] = new_data.apply(cc_level,axis =1)"
      ],
      "execution_count": 62,
      "outputs": []
    },
    {
      "cell_type": "code",
      "metadata": {
        "id": "9n36__yZVCOU",
        "colab": {
          "base_uri": "https://localhost:8080/",
          "height": 391
        },
        "outputId": "f79df591-1336-4ce6-b3f1-f2f41bf630d9"
      },
      "source": [
        "new_data.reset_index()"
      ],
      "execution_count": 63,
      "outputs": [
        {
          "output_type": "execute_result",
          "data": {
            "text/html": [
              "<div>\n",
              "<style scoped>\n",
              "    .dataframe tbody tr th:only-of-type {\n",
              "        vertical-align: middle;\n",
              "    }\n",
              "\n",
              "    .dataframe tbody tr th {\n",
              "        vertical-align: top;\n",
              "    }\n",
              "\n",
              "    .dataframe thead th {\n",
              "        text-align: right;\n",
              "    }\n",
              "</style>\n",
              "<table border=\"1\" class=\"dataframe\">\n",
              "  <thead>\n",
              "    <tr style=\"text-align: right;\">\n",
              "      <th></th>\n",
              "      <th>CustomerID</th>\n",
              "      <th>F_score</th>\n",
              "      <th>Frequency</th>\n",
              "      <th>M_score</th>\n",
              "      <th>Monetary</th>\n",
              "      <th>RFM_Score</th>\n",
              "      <th>R_score</th>\n",
              "      <th>Recency</th>\n",
              "      <th>NoReturns</th>\n",
              "      <th>Purchase_power_ratio</th>\n",
              "      <th>PP_score</th>\n",
              "      <th>Cust_Score</th>\n",
              "      <th>Customer_Category</th>\n",
              "    </tr>\n",
              "  </thead>\n",
              "  <tbody>\n",
              "    <tr>\n",
              "      <th>0</th>\n",
              "      <td>2</td>\n",
              "      <td>4</td>\n",
              "      <td>149</td>\n",
              "      <td>4</td>\n",
              "      <td>459974.0</td>\n",
              "      <td>444</td>\n",
              "      <td>4</td>\n",
              "      <td>3</td>\n",
              "      <td>149.0</td>\n",
              "      <td>1.00</td>\n",
              "      <td>4</td>\n",
              "      <td>16</td>\n",
              "      <td>Can't Loose Them</td>\n",
              "    </tr>\n",
              "    <tr>\n",
              "      <th>1</th>\n",
              "      <td>3</td>\n",
              "      <td>2</td>\n",
              "      <td>24</td>\n",
              "      <td>4</td>\n",
              "      <td>218956.0</td>\n",
              "      <td>224</td>\n",
              "      <td>2</td>\n",
              "      <td>76</td>\n",
              "      <td>24.0</td>\n",
              "      <td>1.00</td>\n",
              "      <td>4</td>\n",
              "      <td>12</td>\n",
              "      <td>Highly Active</td>\n",
              "    </tr>\n",
              "    <tr>\n",
              "      <th>2</th>\n",
              "      <td>4</td>\n",
              "      <td>3</td>\n",
              "      <td>64</td>\n",
              "      <td>3</td>\n",
              "      <td>158562.0</td>\n",
              "      <td>333</td>\n",
              "      <td>3</td>\n",
              "      <td>18</td>\n",
              "      <td>64.0</td>\n",
              "      <td>1.00</td>\n",
              "      <td>4</td>\n",
              "      <td>13</td>\n",
              "      <td>Loyal</td>\n",
              "    </tr>\n",
              "    <tr>\n",
              "      <th>3</th>\n",
              "      <td>5</td>\n",
              "      <td>1</td>\n",
              "      <td>16</td>\n",
              "      <td>2</td>\n",
              "      <td>41976.0</td>\n",
              "      <td>112</td>\n",
              "      <td>1</td>\n",
              "      <td>310</td>\n",
              "      <td>16.0</td>\n",
              "      <td>1.00</td>\n",
              "      <td>4</td>\n",
              "      <td>8</td>\n",
              "      <td>Poorly Active</td>\n",
              "    </tr>\n",
              "    <tr>\n",
              "      <th>4</th>\n",
              "      <td>6</td>\n",
              "      <td>3</td>\n",
              "      <td>79</td>\n",
              "      <td>3</td>\n",
              "      <td>144226.0</td>\n",
              "      <td>333</td>\n",
              "      <td>3</td>\n",
              "      <td>36</td>\n",
              "      <td>73.0</td>\n",
              "      <td>0.92</td>\n",
              "      <td>2</td>\n",
              "      <td>11</td>\n",
              "      <td>Potential</td>\n",
              "    </tr>\n",
              "    <tr>\n",
              "      <th>...</th>\n",
              "      <td>...</td>\n",
              "      <td>...</td>\n",
              "      <td>...</td>\n",
              "      <td>...</td>\n",
              "      <td>...</td>\n",
              "      <td>...</td>\n",
              "      <td>...</td>\n",
              "      <td>...</td>\n",
              "      <td>...</td>\n",
              "      <td>...</td>\n",
              "      <td>...</td>\n",
              "      <td>...</td>\n",
              "      <td>...</td>\n",
              "    </tr>\n",
              "    <tr>\n",
              "      <th>4342</th>\n",
              "      <td>4368</td>\n",
              "      <td>1</td>\n",
              "      <td>9</td>\n",
              "      <td>1</td>\n",
              "      <td>18916.0</td>\n",
              "      <td>111</td>\n",
              "      <td>1</td>\n",
              "      <td>277</td>\n",
              "      <td>9.0</td>\n",
              "      <td>1.00</td>\n",
              "      <td>4</td>\n",
              "      <td>7</td>\n",
              "      <td>Needs Attention</td>\n",
              "    </tr>\n",
              "    <tr>\n",
              "      <th>4343</th>\n",
              "      <td>4369</td>\n",
              "      <td>1</td>\n",
              "      <td>7</td>\n",
              "      <td>1</td>\n",
              "      <td>10774.0</td>\n",
              "      <td>111</td>\n",
              "      <td>1</td>\n",
              "      <td>180</td>\n",
              "      <td>7.0</td>\n",
              "      <td>1.00</td>\n",
              "      <td>4</td>\n",
              "      <td>7</td>\n",
              "      <td>Needs Attention</td>\n",
              "    </tr>\n",
              "    <tr>\n",
              "      <th>4344</th>\n",
              "      <td>4370</td>\n",
              "      <td>1</td>\n",
              "      <td>11</td>\n",
              "      <td>1</td>\n",
              "      <td>19465.0</td>\n",
              "      <td>411</td>\n",
              "      <td>4</td>\n",
              "      <td>8</td>\n",
              "      <td>11.0</td>\n",
              "      <td>1.00</td>\n",
              "      <td>4</td>\n",
              "      <td>10</td>\n",
              "      <td>Good Interest</td>\n",
              "    </tr>\n",
              "    <tr>\n",
              "      <th>4345</th>\n",
              "      <td>4371</td>\n",
              "      <td>4</td>\n",
              "      <td>687</td>\n",
              "      <td>4</td>\n",
              "      <td>259701.0</td>\n",
              "      <td>444</td>\n",
              "      <td>4</td>\n",
              "      <td>3</td>\n",
              "      <td>687.0</td>\n",
              "      <td>1.00</td>\n",
              "      <td>4</td>\n",
              "      <td>16</td>\n",
              "      <td>Can't Loose Them</td>\n",
              "    </tr>\n",
              "    <tr>\n",
              "      <th>4346</th>\n",
              "      <td>4372</td>\n",
              "      <td>3</td>\n",
              "      <td>67</td>\n",
              "      <td>4</td>\n",
              "      <td>253604.0</td>\n",
              "      <td>334</td>\n",
              "      <td>3</td>\n",
              "      <td>43</td>\n",
              "      <td>67.0</td>\n",
              "      <td>1.00</td>\n",
              "      <td>4</td>\n",
              "      <td>14</td>\n",
              "      <td>Champions</td>\n",
              "    </tr>\n",
              "  </tbody>\n",
              "</table>\n",
              "<p>4347 rows × 13 columns</p>\n",
              "</div>"
            ],
            "text/plain": [
              "      CustomerID  F_score  Frequency  ...  PP_score  Cust_Score Customer_Category\n",
              "0              2        4        149  ...         4          16  Can't Loose Them\n",
              "1              3        2         24  ...         4          12     Highly Active\n",
              "2              4        3         64  ...         4          13             Loyal\n",
              "3              5        1         16  ...         4           8     Poorly Active\n",
              "4              6        3         79  ...         2          11         Potential\n",
              "...          ...      ...        ...  ...       ...         ...               ...\n",
              "4342        4368        1          9  ...         4           7   Needs Attention\n",
              "4343        4369        1          7  ...         4           7   Needs Attention\n",
              "4344        4370        1         11  ...         4          10     Good Interest\n",
              "4345        4371        4        687  ...         4          16  Can't Loose Them\n",
              "4346        4372        3         67  ...         4          14         Champions\n",
              "\n",
              "[4347 rows x 13 columns]"
            ]
          },
          "metadata": {
            "tags": []
          },
          "execution_count": 63
        }
      ]
    },
    {
      "cell_type": "code",
      "metadata": {
        "id": "bHwGET_DcvHY"
      },
      "source": [
        "cc_level_agg = new_data.groupby('Customer_Category').agg({\n",
        "    'Recency': 'mean',\n",
        "    'Frequency': 'mean',\n",
        "    'Monetary': 'mean',\n",
        "    'NoReturns': ['mean', 'count']\n",
        "}).round(1)"
      ],
      "execution_count": 64,
      "outputs": []
    },
    {
      "cell_type": "code",
      "metadata": {
        "id": "aQRVMXoVddBF",
        "colab": {
          "base_uri": "https://localhost:8080/",
          "height": 392
        },
        "outputId": "abf46e57-5a00-470b-9434-8ff35a1662c2"
      },
      "source": [
        "cc_level_agg"
      ],
      "execution_count": 65,
      "outputs": [
        {
          "output_type": "execute_result",
          "data": {
            "text/html": [
              "<div>\n",
              "<style scoped>\n",
              "    .dataframe tbody tr th:only-of-type {\n",
              "        vertical-align: middle;\n",
              "    }\n",
              "\n",
              "    .dataframe tbody tr th {\n",
              "        vertical-align: top;\n",
              "    }\n",
              "\n",
              "    .dataframe thead tr th {\n",
              "        text-align: left;\n",
              "    }\n",
              "\n",
              "    .dataframe thead tr:last-of-type th {\n",
              "        text-align: right;\n",
              "    }\n",
              "</style>\n",
              "<table border=\"1\" class=\"dataframe\">\n",
              "  <thead>\n",
              "    <tr>\n",
              "      <th></th>\n",
              "      <th>Recency</th>\n",
              "      <th>Frequency</th>\n",
              "      <th>Monetary</th>\n",
              "      <th colspan=\"2\" halign=\"left\">NoReturns</th>\n",
              "    </tr>\n",
              "    <tr>\n",
              "      <th></th>\n",
              "      <th>mean</th>\n",
              "      <th>mean</th>\n",
              "      <th>mean</th>\n",
              "      <th>mean</th>\n",
              "      <th>count</th>\n",
              "    </tr>\n",
              "    <tr>\n",
              "      <th>Customer_Category</th>\n",
              "      <th></th>\n",
              "      <th></th>\n",
              "      <th></th>\n",
              "      <th></th>\n",
              "      <th></th>\n",
              "    </tr>\n",
              "  </thead>\n",
              "  <tbody>\n",
              "    <tr>\n",
              "      <th>Can't Loose Them</th>\n",
              "      <td>10.8</td>\n",
              "      <td>308.3</td>\n",
              "      <td>733588.1</td>\n",
              "      <td>305.4</td>\n",
              "      <td>538</td>\n",
              "    </tr>\n",
              "    <tr>\n",
              "      <th>Champions</th>\n",
              "      <td>22.7</td>\n",
              "      <td>163.0</td>\n",
              "      <td>455799.3</td>\n",
              "      <td>158.5</td>\n",
              "      <td>474</td>\n",
              "    </tr>\n",
              "    <tr>\n",
              "      <th>Good Interest</th>\n",
              "      <td>92.1</td>\n",
              "      <td>31.8</td>\n",
              "      <td>66810.8</td>\n",
              "      <td>31.0</td>\n",
              "      <td>495</td>\n",
              "    </tr>\n",
              "    <tr>\n",
              "      <th>Highly Active</th>\n",
              "      <td>54.3</td>\n",
              "      <td>64.4</td>\n",
              "      <td>146621.9</td>\n",
              "      <td>63.0</td>\n",
              "      <td>495</td>\n",
              "    </tr>\n",
              "    <tr>\n",
              "      <th>Loyal</th>\n",
              "      <td>35.8</td>\n",
              "      <td>99.0</td>\n",
              "      <td>262620.5</td>\n",
              "      <td>96.3</td>\n",
              "      <td>415</td>\n",
              "    </tr>\n",
              "    <tr>\n",
              "      <th>Needs Attention</th>\n",
              "      <td>249.0</td>\n",
              "      <td>10.0</td>\n",
              "      <td>24553.6</td>\n",
              "      <td>9.6</td>\n",
              "      <td>425</td>\n",
              "    </tr>\n",
              "    <tr>\n",
              "      <th>Occassional Spendor</th>\n",
              "      <td>133.3</td>\n",
              "      <td>21.3</td>\n",
              "      <td>48962.8</td>\n",
              "      <td>20.8</td>\n",
              "      <td>486</td>\n",
              "    </tr>\n",
              "    <tr>\n",
              "      <th>Poorly Active</th>\n",
              "      <td>153.5</td>\n",
              "      <td>15.6</td>\n",
              "      <td>33984.9</td>\n",
              "      <td>14.9</td>\n",
              "      <td>408</td>\n",
              "    </tr>\n",
              "    <tr>\n",
              "      <th>Potential</th>\n",
              "      <td>74.6</td>\n",
              "      <td>45.7</td>\n",
              "      <td>105119.5</td>\n",
              "      <td>44.6</td>\n",
              "      <td>484</td>\n",
              "    </tr>\n",
              "    <tr>\n",
              "      <th>Require Activation</th>\n",
              "      <td>227.6</td>\n",
              "      <td>11.2</td>\n",
              "      <td>18005.6</td>\n",
              "      <td>8.3</td>\n",
              "      <td>127</td>\n",
              "    </tr>\n",
              "  </tbody>\n",
              "</table>\n",
              "</div>"
            ],
            "text/plain": [
              "                    Recency Frequency  Monetary NoReturns      \n",
              "                       mean      mean      mean      mean count\n",
              "Customer_Category                                              \n",
              "Can't Loose Them       10.8     308.3  733588.1     305.4   538\n",
              "Champions              22.7     163.0  455799.3     158.5   474\n",
              "Good Interest          92.1      31.8   66810.8      31.0   495\n",
              "Highly Active          54.3      64.4  146621.9      63.0   495\n",
              "Loyal                  35.8      99.0  262620.5      96.3   415\n",
              "Needs Attention       249.0      10.0   24553.6       9.6   425\n",
              "Occassional Spendor   133.3      21.3   48962.8      20.8   486\n",
              "Poorly Active         153.5      15.6   33984.9      14.9   408\n",
              "Potential              74.6      45.7  105119.5      44.6   484\n",
              "Require Activation    227.6      11.2   18005.6       8.3   127"
            ]
          },
          "metadata": {
            "tags": []
          },
          "execution_count": 65
        }
      ]
    },
    {
      "cell_type": "code",
      "metadata": {
        "id": "o7cayf2gcu_x"
      },
      "source": [
        "cc_level_agg.columns = cc_level_agg.columns.droplevel()\n",
        "cc_level_agg.columns = ['RecencyMean','FrequencyMean','MonetaryMean','NoReturnsMean','Count']"
      ],
      "execution_count": 66,
      "outputs": []
    },
    {
      "cell_type": "code",
      "metadata": {
        "id": "hHQCr1Hscu9d",
        "colab": {
          "base_uri": "https://localhost:8080/",
          "height": 363
        },
        "outputId": "83622e3e-7f88-4a8f-ec47-e6bfd2a065c8"
      },
      "source": [
        "cc_level_agg"
      ],
      "execution_count": 67,
      "outputs": [
        {
          "output_type": "execute_result",
          "data": {
            "text/html": [
              "<div>\n",
              "<style scoped>\n",
              "    .dataframe tbody tr th:only-of-type {\n",
              "        vertical-align: middle;\n",
              "    }\n",
              "\n",
              "    .dataframe tbody tr th {\n",
              "        vertical-align: top;\n",
              "    }\n",
              "\n",
              "    .dataframe thead th {\n",
              "        text-align: right;\n",
              "    }\n",
              "</style>\n",
              "<table border=\"1\" class=\"dataframe\">\n",
              "  <thead>\n",
              "    <tr style=\"text-align: right;\">\n",
              "      <th></th>\n",
              "      <th>RecencyMean</th>\n",
              "      <th>FrequencyMean</th>\n",
              "      <th>MonetaryMean</th>\n",
              "      <th>NoReturnsMean</th>\n",
              "      <th>Count</th>\n",
              "    </tr>\n",
              "    <tr>\n",
              "      <th>Customer_Category</th>\n",
              "      <th></th>\n",
              "      <th></th>\n",
              "      <th></th>\n",
              "      <th></th>\n",
              "      <th></th>\n",
              "    </tr>\n",
              "  </thead>\n",
              "  <tbody>\n",
              "    <tr>\n",
              "      <th>Can't Loose Them</th>\n",
              "      <td>10.8</td>\n",
              "      <td>308.3</td>\n",
              "      <td>733588.1</td>\n",
              "      <td>305.4</td>\n",
              "      <td>538</td>\n",
              "    </tr>\n",
              "    <tr>\n",
              "      <th>Champions</th>\n",
              "      <td>22.7</td>\n",
              "      <td>163.0</td>\n",
              "      <td>455799.3</td>\n",
              "      <td>158.5</td>\n",
              "      <td>474</td>\n",
              "    </tr>\n",
              "    <tr>\n",
              "      <th>Good Interest</th>\n",
              "      <td>92.1</td>\n",
              "      <td>31.8</td>\n",
              "      <td>66810.8</td>\n",
              "      <td>31.0</td>\n",
              "      <td>495</td>\n",
              "    </tr>\n",
              "    <tr>\n",
              "      <th>Highly Active</th>\n",
              "      <td>54.3</td>\n",
              "      <td>64.4</td>\n",
              "      <td>146621.9</td>\n",
              "      <td>63.0</td>\n",
              "      <td>495</td>\n",
              "    </tr>\n",
              "    <tr>\n",
              "      <th>Loyal</th>\n",
              "      <td>35.8</td>\n",
              "      <td>99.0</td>\n",
              "      <td>262620.5</td>\n",
              "      <td>96.3</td>\n",
              "      <td>415</td>\n",
              "    </tr>\n",
              "    <tr>\n",
              "      <th>Needs Attention</th>\n",
              "      <td>249.0</td>\n",
              "      <td>10.0</td>\n",
              "      <td>24553.6</td>\n",
              "      <td>9.6</td>\n",
              "      <td>425</td>\n",
              "    </tr>\n",
              "    <tr>\n",
              "      <th>Occassional Spendor</th>\n",
              "      <td>133.3</td>\n",
              "      <td>21.3</td>\n",
              "      <td>48962.8</td>\n",
              "      <td>20.8</td>\n",
              "      <td>486</td>\n",
              "    </tr>\n",
              "    <tr>\n",
              "      <th>Poorly Active</th>\n",
              "      <td>153.5</td>\n",
              "      <td>15.6</td>\n",
              "      <td>33984.9</td>\n",
              "      <td>14.9</td>\n",
              "      <td>408</td>\n",
              "    </tr>\n",
              "    <tr>\n",
              "      <th>Potential</th>\n",
              "      <td>74.6</td>\n",
              "      <td>45.7</td>\n",
              "      <td>105119.5</td>\n",
              "      <td>44.6</td>\n",
              "      <td>484</td>\n",
              "    </tr>\n",
              "    <tr>\n",
              "      <th>Require Activation</th>\n",
              "      <td>227.6</td>\n",
              "      <td>11.2</td>\n",
              "      <td>18005.6</td>\n",
              "      <td>8.3</td>\n",
              "      <td>127</td>\n",
              "    </tr>\n",
              "  </tbody>\n",
              "</table>\n",
              "</div>"
            ],
            "text/plain": [
              "                     RecencyMean  FrequencyMean  ...  NoReturnsMean  Count\n",
              "Customer_Category                                ...                      \n",
              "Can't Loose Them            10.8          308.3  ...          305.4    538\n",
              "Champions                   22.7          163.0  ...          158.5    474\n",
              "Good Interest               92.1           31.8  ...           31.0    495\n",
              "Highly Active               54.3           64.4  ...           63.0    495\n",
              "Loyal                       35.8           99.0  ...           96.3    415\n",
              "Needs Attention            249.0           10.0  ...            9.6    425\n",
              "Occassional Spendor        133.3           21.3  ...           20.8    486\n",
              "Poorly Active              153.5           15.6  ...           14.9    408\n",
              "Potential                   74.6           45.7  ...           44.6    484\n",
              "Require Activation         227.6           11.2  ...            8.3    127\n",
              "\n",
              "[10 rows x 5 columns]"
            ]
          },
          "metadata": {
            "tags": []
          },
          "execution_count": 67
        }
      ]
    },
    {
      "cell_type": "code",
      "metadata": {
        "id": "q_02XbhJcu60",
        "colab": {
          "base_uri": "https://localhost:8080/",
          "height": 592
        },
        "outputId": "8781bce4-55f1-48e8-9105-dee5a28304e6"
      },
      "source": [
        "import squarify\n",
        "\n",
        "fig = plt.gcf()\n",
        "ax = fig.add_subplot()\n",
        "fig.set_size_inches(20,10)\n",
        "squarify.plot(sizes=cc_level_agg['Count'], \n",
        "              label=['Can\\'t Loose Them',\n",
        "                     'Champions',\n",
        "                     'Loyal',\n",
        "                     'Highly Active',\n",
        "                     'Potential',\n",
        "                     'Good Interest',\n",
        "                     'Occasional Spendor',\n",
        "                     'Poorly Active',\n",
        "                     'Needs Attention',\n",
        "                     'Require Activation'], alpha=.4 )\n",
        "plt.title(\"Customer Segments\",fontsize=14,fontweight=\"bold\")\n",
        "plt.axis('off')\n",
        "plt.show()"
      ],
      "execution_count": 68,
      "outputs": [
        {
          "output_type": "display_data",
          "data": {
            "image/png": "[encoded data removed]",
            "text/plain": [
              "<Figure size 1440x720 with 1 Axes>"
            ]
          },
          "metadata": {
            "tags": [],
            "needs_background": "light"
          }
        }
      ]
    },
    {
      "cell_type": "code",
      "metadata": {
        "id": "Dtuy1A0Fcu4L",
        "colab": {
          "base_uri": "https://localhost:8080/",
          "height": 220
        },
        "outputId": "d172c88b-9ff8-4286-93ad-bfca71b88c70"
      },
      "source": [
        "final_df = new_data.drop(['Customer_Category'],axis =1)\n",
        "final_df.head()"
      ],
      "execution_count": 69,
      "outputs": [
        {
          "output_type": "execute_result",
          "data": {
            "text/html": [
              "<div>\n",
              "<style scoped>\n",
              "    .dataframe tbody tr th:only-of-type {\n",
              "        vertical-align: middle;\n",
              "    }\n",
              "\n",
              "    .dataframe tbody tr th {\n",
              "        vertical-align: top;\n",
              "    }\n",
              "\n",
              "    .dataframe thead th {\n",
              "        text-align: right;\n",
              "    }\n",
              "</style>\n",
              "<table border=\"1\" class=\"dataframe\">\n",
              "  <thead>\n",
              "    <tr style=\"text-align: right;\">\n",
              "      <th></th>\n",
              "      <th>F_score</th>\n",
              "      <th>Frequency</th>\n",
              "      <th>M_score</th>\n",
              "      <th>Monetary</th>\n",
              "      <th>RFM_Score</th>\n",
              "      <th>R_score</th>\n",
              "      <th>Recency</th>\n",
              "      <th>NoReturns</th>\n",
              "      <th>Purchase_power_ratio</th>\n",
              "      <th>PP_score</th>\n",
              "      <th>Cust_Score</th>\n",
              "    </tr>\n",
              "    <tr>\n",
              "      <th>CustomerID</th>\n",
              "      <th></th>\n",
              "      <th></th>\n",
              "      <th></th>\n",
              "      <th></th>\n",
              "      <th></th>\n",
              "      <th></th>\n",
              "      <th></th>\n",
              "      <th></th>\n",
              "      <th></th>\n",
              "      <th></th>\n",
              "      <th></th>\n",
              "    </tr>\n",
              "  </thead>\n",
              "  <tbody>\n",
              "    <tr>\n",
              "      <th>2</th>\n",
              "      <td>4</td>\n",
              "      <td>149</td>\n",
              "      <td>4</td>\n",
              "      <td>459974.0</td>\n",
              "      <td>444</td>\n",
              "      <td>4</td>\n",
              "      <td>3</td>\n",
              "      <td>149.0</td>\n",
              "      <td>1.00</td>\n",
              "      <td>4</td>\n",
              "      <td>16</td>\n",
              "    </tr>\n",
              "    <tr>\n",
              "      <th>3</th>\n",
              "      <td>2</td>\n",
              "      <td>24</td>\n",
              "      <td>4</td>\n",
              "      <td>218956.0</td>\n",
              "      <td>224</td>\n",
              "      <td>2</td>\n",
              "      <td>76</td>\n",
              "      <td>24.0</td>\n",
              "      <td>1.00</td>\n",
              "      <td>4</td>\n",
              "      <td>12</td>\n",
              "    </tr>\n",
              "    <tr>\n",
              "      <th>4</th>\n",
              "      <td>3</td>\n",
              "      <td>64</td>\n",
              "      <td>3</td>\n",
              "      <td>158562.0</td>\n",
              "      <td>333</td>\n",
              "      <td>3</td>\n",
              "      <td>18</td>\n",
              "      <td>64.0</td>\n",
              "      <td>1.00</td>\n",
              "      <td>4</td>\n",
              "      <td>13</td>\n",
              "    </tr>\n",
              "    <tr>\n",
              "      <th>5</th>\n",
              "      <td>1</td>\n",
              "      <td>16</td>\n",
              "      <td>2</td>\n",
              "      <td>41976.0</td>\n",
              "      <td>112</td>\n",
              "      <td>1</td>\n",
              "      <td>310</td>\n",
              "      <td>16.0</td>\n",
              "      <td>1.00</td>\n",
              "      <td>4</td>\n",
              "      <td>8</td>\n",
              "    </tr>\n",
              "    <tr>\n",
              "      <th>6</th>\n",
              "      <td>3</td>\n",
              "      <td>79</td>\n",
              "      <td>3</td>\n",
              "      <td>144226.0</td>\n",
              "      <td>333</td>\n",
              "      <td>3</td>\n",
              "      <td>36</td>\n",
              "      <td>73.0</td>\n",
              "      <td>0.92</td>\n",
              "      <td>2</td>\n",
              "      <td>11</td>\n",
              "    </tr>\n",
              "  </tbody>\n",
              "</table>\n",
              "</div>"
            ],
            "text/plain": [
              "            F_score  Frequency  ...  PP_score  Cust_Score\n",
              "CustomerID                      ...                      \n",
              "2                 4        149  ...         4          16\n",
              "3                 2         24  ...         4          12\n",
              "4                 3         64  ...         4          13\n",
              "5                 1         16  ...         4           8\n",
              "6                 3         79  ...         2          11\n",
              "\n",
              "[5 rows x 11 columns]"
            ]
          },
          "metadata": {
            "tags": []
          },
          "execution_count": 69
        }
      ]
    },
    {
      "cell_type": "code",
      "metadata": {
        "id": "R_ryDllLhxDk",
        "colab": {
          "base_uri": "https://localhost:8080/"
        },
        "outputId": "058a9577-e170-41fd-a8ef-f57c9b57cf77"
      },
      "source": [
        "final_df.columns"
      ],
      "execution_count": 70,
      "outputs": [
        {
          "output_type": "execute_result",
          "data": {
            "text/plain": [
              "Index(['F_score', 'Frequency', 'M_score', 'Monetary', 'RFM_Score', 'R_score',\n",
              "       'Recency', 'NoReturns', 'Purchase_power_ratio', 'PP_score',\n",
              "       'Cust_Score'],\n",
              "      dtype='object')"
            ]
          },
          "metadata": {
            "tags": []
          },
          "execution_count": 70
        }
      ]
    },
    {
      "cell_type": "markdown",
      "metadata": {
        "id": "BVI_uFPFrH9I"
      },
      "source": [
        "**Standardising Data**"
      ]
    },
    {
      "cell_type": "code",
      "metadata": {
        "id": "IVY7QoaHdaOf",
        "colab": {
          "base_uri": "https://localhost:8080/",
          "height": 191
        },
        "outputId": "7de98f58-5fd7-4117-f50a-665ad80b0eb0"
      },
      "source": [
        "\n",
        "scaler = StandardScaler()\n",
        "data_scaled = scaler.fit_transform(final_df)\n",
        "data_scaled = pd.DataFrame(data_scaled)\n",
        "data_scaled.reset_index\n",
        "data_scaled.columns = ['F_score', 'Frequency', 'M_score', 'Monetary', 'RFM_Score', 'R_score',\n",
        "       'Recency', 'NoReturns', 'Purchase_power_ratio', 'PP_score',\n",
        "       'Cust_Score']\n",
        "data_scaled = data_scaled.round(decimals = 2)\n",
        "data_scaled.head()"
      ],
      "execution_count": 71,
      "outputs": [
        {
          "output_type": "execute_result",
          "data": {
            "text/html": [
              "<div>\n",
              "<style scoped>\n",
              "    .dataframe tbody tr th:only-of-type {\n",
              "        vertical-align: middle;\n",
              "    }\n",
              "\n",
              "    .dataframe tbody tr th {\n",
              "        vertical-align: top;\n",
              "    }\n",
              "\n",
              "    .dataframe thead th {\n",
              "        text-align: right;\n",
              "    }\n",
              "</style>\n",
              "<table border=\"1\" class=\"dataframe\">\n",
              "  <thead>\n",
              "    <tr style=\"text-align: right;\">\n",
              "      <th></th>\n",
              "      <th>F_score</th>\n",
              "      <th>Frequency</th>\n",
              "      <th>M_score</th>\n",
              "      <th>Monetary</th>\n",
              "      <th>RFM_Score</th>\n",
              "      <th>R_score</th>\n",
              "      <th>Recency</th>\n",
              "      <th>NoReturns</th>\n",
              "      <th>Purchase_power_ratio</th>\n",
              "      <th>PP_score</th>\n",
              "      <th>Cust_Score</th>\n",
              "    </tr>\n",
              "  </thead>\n",
              "  <tbody>\n",
              "    <tr>\n",
              "      <th>0</th>\n",
              "      <td>1.35</td>\n",
              "      <td>0.29</td>\n",
              "      <td>1.34</td>\n",
              "      <td>0.32</td>\n",
              "      <td>1.40</td>\n",
              "      <td>1.33</td>\n",
              "      <td>-0.89</td>\n",
              "      <td>0.30</td>\n",
              "      <td>0.29</td>\n",
              "      <td>0.63</td>\n",
              "      <td>1.80</td>\n",
              "    </tr>\n",
              "    <tr>\n",
              "      <th>1</th>\n",
              "      <td>-0.43</td>\n",
              "      <td>-0.29</td>\n",
              "      <td>1.34</td>\n",
              "      <td>0.01</td>\n",
              "      <td>-0.46</td>\n",
              "      <td>-0.45</td>\n",
              "      <td>-0.16</td>\n",
              "      <td>-0.29</td>\n",
              "      <td>0.29</td>\n",
              "      <td>0.63</td>\n",
              "      <td>0.37</td>\n",
              "    </tr>\n",
              "    <tr>\n",
              "      <th>2</th>\n",
              "      <td>0.46</td>\n",
              "      <td>-0.10</td>\n",
              "      <td>0.45</td>\n",
              "      <td>-0.07</td>\n",
              "      <td>0.46</td>\n",
              "      <td>0.44</td>\n",
              "      <td>-0.74</td>\n",
              "      <td>-0.10</td>\n",
              "      <td>0.29</td>\n",
              "      <td>0.63</td>\n",
              "      <td>0.73</td>\n",
              "    </tr>\n",
              "    <tr>\n",
              "      <th>3</th>\n",
              "      <td>-1.33</td>\n",
              "      <td>-0.33</td>\n",
              "      <td>-0.45</td>\n",
              "      <td>-0.22</td>\n",
              "      <td>-1.40</td>\n",
              "      <td>-1.34</td>\n",
              "      <td>2.16</td>\n",
              "      <td>-0.33</td>\n",
              "      <td>0.29</td>\n",
              "      <td>0.63</td>\n",
              "      <td>-1.07</td>\n",
              "    </tr>\n",
              "    <tr>\n",
              "      <th>4</th>\n",
              "      <td>0.46</td>\n",
              "      <td>-0.04</td>\n",
              "      <td>0.45</td>\n",
              "      <td>-0.09</td>\n",
              "      <td>0.46</td>\n",
              "      <td>0.44</td>\n",
              "      <td>-0.56</td>\n",
              "      <td>-0.06</td>\n",
              "      <td>-0.58</td>\n",
              "      <td>-1.79</td>\n",
              "      <td>0.01</td>\n",
              "    </tr>\n",
              "  </tbody>\n",
              "</table>\n",
              "</div>"
            ],
            "text/plain": [
              "   F_score  Frequency  M_score  ...  Purchase_power_ratio  PP_score  Cust_Score\n",
              "0     1.35       0.29     1.34  ...                  0.29      0.63        1.80\n",
              "1    -0.43      -0.29     1.34  ...                  0.29      0.63        0.37\n",
              "2     0.46      -0.10     0.45  ...                  0.29      0.63        0.73\n",
              "3    -1.33      -0.33    -0.45  ...                  0.29      0.63       -1.07\n",
              "4     0.46      -0.04     0.45  ...                 -0.58     -1.79        0.01\n",
              "\n",
              "[5 rows x 11 columns]"
            ]
          },
          "metadata": {
            "tags": []
          },
          "execution_count": 71
        }
      ]
    },
    {
      "cell_type": "markdown",
      "metadata": {
        "id": "EKfIYPiuTgC1"
      },
      "source": [
        "**KMeans on Data Scaled**"
      ]
    },
    {
      "cell_type": "code",
      "metadata": {
        "id": "K_JDfOu0eF91"
      },
      "source": [
        "km = KMeans(n_clusters = 6,random_state= 0 )\n",
        "km.fit(data_scaled)\n",
        "pred = km.predict(data_scaled)\n",
        "km.inertia_\n",
        "labels = km.labels_\n"
      ],
      "execution_count": 72,
      "outputs": []
    },
    {
      "cell_type": "code",
      "metadata": {
        "id": "7CD3jyhWf65c"
      },
      "source": [
        "# Calculating Inertia for a range 1 -30 so that we can plot Elbow plot to figure out which is the best no of cluster\n",
        "inertia = []\n",
        "for i in range(1,31):\n",
        "  Km = KMeans(n_clusters= i)\n",
        "  Km.fit(data_scaled)\n",
        "  inertia.append(Km.inertia_)"
      ],
      "execution_count": 73,
      "outputs": []
    },
    {
      "cell_type": "markdown",
      "metadata": {
        "id": "EtyJ5hNpTI4k"
      },
      "source": [
        "***Elbow Plot for standardized data***"
      ]
    },
    {
      "cell_type": "code",
      "metadata": {
        "id": "YDFqsxJng5UK",
        "colab": {
          "base_uri": "https://localhost:8080/",
          "height": 522
        },
        "outputId": "5263d4f0-bc90-46d2-ce75-265c92ebe591"
      },
      "source": [
        "frame = pd.DataFrame({'Clusters':range(1,31),'Inertia':inertia})\n",
        "\n",
        "plt.rcParams['figure.figsize'] = (10,8)\n",
        "plt.grid()\n",
        "plt.plot(frame['Clusters'],frame['Inertia'],marker = 'o',color = 'green')\n",
        "plt.xlabel('No of Cluster',fontsize = 15)\n",
        "plt.xlabel('Inertia',fontsize = 15)\n",
        "plt.title('Elbow Plot',fontsize = 20)\n",
        "plt.show()"
      ],
      "execution_count": 74,
      "outputs": [
        {
          "output_type": "display_data",
          "data": {
            "image/png": "[encoded data removed]",
            "text/plain": [
              "<Figure size 720x576 with 1 Axes>"
            ]
          },
          "metadata": {
            "tags": [],
            "needs_background": "light"
          }
        }
      ]
    },
    {
      "cell_type": "markdown",
      "metadata": {
        "id": "fwtHcMxMizc0"
      },
      "source": [
        "According to Elbow Table best no of cluster is 5.6.7"
      ]
    },
    {
      "cell_type": "markdown",
      "metadata": {
        "id": "JxdjFS54Vyj3"
      },
      "source": [
        "**Normalising Data**"
      ]
    },
    {
      "cell_type": "code",
      "metadata": {
        "id": "S23gTMECJHgZ"
      },
      "source": [
        "from sklearn.preprocessing import normalize\n",
        "\n",
        "norm = normalize(data_scaled)\n",
        "data_norm = pd.DataFrame(norm)"
      ],
      "execution_count": 75,
      "outputs": []
    },
    {
      "cell_type": "markdown",
      "metadata": {
        "id": "bHHLfybgq4jh"
      },
      "source": [
        "**KMeans on Normalised data**"
      ]
    },
    {
      "cell_type": "code",
      "metadata": {
        "id": "4AxJ6FuFKvf_",
        "colab": {
          "base_uri": "https://localhost:8080/"
        },
        "outputId": "5e8ee1f8-fe32-439b-afbb-d910e3a4d35c"
      },
      "source": [
        "\n",
        "km = KMeans(n_clusters = 3,random_state= 0 )\n",
        "km.fit(data_norm)\n",
        "pred = km.predict(data_norm)\n",
        "km.inertia_\n",
        "km.labels_"
      ],
      "execution_count": 76,
      "outputs": [
        {
          "output_type": "execute_result",
          "data": {
            "text/plain": [
              "array([0, 0, 0, ..., 2, 0, 0], dtype=int32)"
            ]
          },
          "metadata": {
            "tags": []
          },
          "execution_count": 76
        }
      ]
    },
    {
      "cell_type": "code",
      "metadata": {
        "id": "TYBBMvtZKvYT"
      },
      "source": [
        "inertia = []\n",
        "for i in range(1,31):\n",
        "  Km = KMeans(n_clusters= i)\n",
        "  Km.fit(data_norm)\n",
        "  inertia.append(Km.inertia_)"
      ],
      "execution_count": 77,
      "outputs": []
    },
    {
      "cell_type": "markdown",
      "metadata": {
        "id": "O47Q0rAWS7yj"
      },
      "source": [
        "***Elbow Plot for normalized data***"
      ]
    },
    {
      "cell_type": "code",
      "metadata": {
        "id": "Mz7YW6lYKvVF",
        "colab": {
          "base_uri": "https://localhost:8080/",
          "height": 522
        },
        "outputId": "f4894ce1-0c55-4dce-e0c2-9dbc9f9617f4"
      },
      "source": [
        "frame = pd.DataFrame({'Clusters':range(1,31),'Inertia':inertia})\n",
        "\n",
        "plt.rcParams['figure.figsize'] = (10,8)\n",
        "plt.grid()\n",
        "plt.plot(frame['Clusters'],frame['Inertia'],marker = 'o',color = 'green')\n",
        "plt.xlabel('No of Cluster',fontsize = 15)\n",
        "plt.xlabel('Inertia',fontsize = 15)\n",
        "plt.title('Elbow Plot',fontsize = 20)\n",
        "plt.show()"
      ],
      "execution_count": 78,
      "outputs": [
        {
          "output_type": "display_data",
          "data": {
            "image/png": "[encoded data removed]",
            "text/plain": [
              "<Figure size 720x576 with 1 Axes>"
            ]
          },
          "metadata": {
            "tags": [],
            "needs_background": "light"
          }
        }
      ]
    },
    {
      "cell_type": "markdown",
      "metadata": {
        "id": "CJoQVfyDSZeI"
      },
      "source": [
        "**(1) KMeans Clustering**"
      ]
    },
    {
      "cell_type": "code",
      "metadata": {
        "id": "qYShe_eCAI-R",
        "colab": {
          "base_uri": "https://localhost:8080/"
        },
        "outputId": "69e6ca0c-1dc6-4739-fa82-b6a08b4d64fb"
      },
      "source": [
        "for i in range(2,9):\n",
        "  km = KMeans(n_clusters = i,random_state= 123 )\n",
        "  km.fit(data_norm)\n",
        "  label = km.labels_\n",
        "  Silhouette_score = metrics.silhouette_score(data_norm,label, metric='euclidean').round(decimals = 2)\n",
        "  print(\"\\nFor Cluster no:\", i)\n",
        "  print(\"Silhouette_score :   \",Silhouette_score)\n",
        "  print(\"Davies_bouldin_score :\",davies_bouldin_score(data_norm,label).round(decimals = 3))"
      ],
      "execution_count": 79,
      "outputs": [
        {
          "output_type": "stream",
          "text": [
            "\n",
            "For Cluster no: 2\n",
            "Silhouette_score :    0.39\n",
            "Davies_bouldin_score : 1.101\n",
            "\n",
            "For Cluster no: 3\n",
            "Silhouette_score :    0.35\n",
            "Davies_bouldin_score : 1.131\n",
            "\n",
            "For Cluster no: 4\n",
            "Silhouette_score :    0.36\n",
            "Davies_bouldin_score : 1.066\n",
            "\n",
            "For Cluster no: 5\n",
            "Silhouette_score :    0.37\n",
            "Davies_bouldin_score : 1.052\n",
            "\n",
            "For Cluster no: 6\n",
            "Silhouette_score :    0.34\n",
            "Davies_bouldin_score : 1.098\n",
            "\n",
            "For Cluster no: 7\n",
            "Silhouette_score :    0.32\n",
            "Davies_bouldin_score : 1.149\n",
            "\n",
            "For Cluster no: 8\n",
            "Silhouette_score :    0.31\n",
            "Davies_bouldin_score : 1.166\n"
          ],
          "name": "stdout"
        }
      ]
    },
    {
      "cell_type": "markdown",
      "metadata": {
        "id": "Cawtj745kgtu"
      },
      "source": [
        "**Best Cluster No Acc to Kmeans is 5:**\n",
        "For Cluster no: 5\n",
        "Silhouette_score :    0.37\n",
        "Davies_bouldin_score : 1.052"
      ]
    },
    {
      "cell_type": "markdown",
      "metadata": {
        "id": "yk3evsOrSQDN"
      },
      "source": [
        "**(2) DBSCAN Clustering**"
      ]
    },
    {
      "cell_type": "code",
      "metadata": {
        "id": "MtchEQL6_tsH",
        "colab": {
          "base_uri": "https://localhost:8080/"
        },
        "outputId": "2f3f70e4-7e8c-408e-9cf6-193673b601b9"
      },
      "source": [
        "for i in range(1,6):\n",
        "  model = DBSCAN(eps = i)\n",
        "  DB = model.fit(data_scaled)\n",
        "  cluster_db= DB.labels_\n",
        "  print(\"\\nFor EPS:\", i)\n",
        "  print('Silhouette Score :' , silhouette_score(data_scaled,cluster_db).round(3))\n",
        "  print('Davies_bouldin_Score :', davies_bouldin_score(data_scaled,cluster_db).round(3))\n"
      ],
      "execution_count": 80,
      "outputs": [
        {
          "output_type": "stream",
          "text": [
            "\n",
            "For EPS: 1\n",
            "Silhouette Score : 0.113\n",
            "Davies_bouldin_Score : 1.756\n",
            "\n",
            "For EPS: 2\n",
            "Silhouette Score : 0.53\n",
            "Davies_bouldin_Score : 1.097\n",
            "\n",
            "For EPS: 3\n",
            "Silhouette Score : 0.692\n",
            "Davies_bouldin_Score : 0.742\n",
            "\n",
            "For EPS: 4\n",
            "Silhouette Score : 0.845\n",
            "Davies_bouldin_Score : 0.793\n",
            "\n",
            "For EPS: 5\n",
            "Silhouette Score : 0.854\n",
            "Davies_bouldin_Score : 0.736\n"
          ],
          "name": "stdout"
        }
      ]
    },
    {
      "cell_type": "markdown",
      "metadata": {
        "id": "7tms5rubU9ak"
      },
      "source": [
        "**(3) MiniBatchKMeans Clustering**"
      ]
    },
    {
      "cell_type": "code",
      "metadata": {
        "id": "-oAG8nY0MXlJ",
        "colab": {
          "base_uri": "https://localhost:8080/"
        },
        "outputId": "1a28c8c4-2c53-4516-82af-a26c3d93b047"
      },
      "source": [
        "for i in range(3,9):\n",
        "  mbk = MiniBatchKMeans(n_clusters = i,init = 'k-means++',random_state=123)\n",
        "  mbk.fit(data_norm)\n",
        "  mbk.labels = mbk.labels_\n",
        "  print(\"\\nFor Cluster no:\",i)\n",
        "  print('Silhouette Score :' , silhouette_score(data_norm,mbk.labels).round(3))\n",
        "  print('Davies_bouldin_Score :', davies_bouldin_score(data_norm,mbk.labels).round(3))\n",
        "  "
      ],
      "execution_count": 81,
      "outputs": [
        {
          "output_type": "stream",
          "text": [
            "\n",
            "For Cluster no: 3\n",
            "Silhouette Score : 0.348\n",
            "Davies_bouldin_Score : 1.288\n",
            "\n",
            "For Cluster no: 4\n",
            "Silhouette Score : 0.364\n",
            "Davies_bouldin_Score : 1.074\n",
            "\n",
            "For Cluster no: 5\n",
            "Silhouette Score : 0.369\n",
            "Davies_bouldin_Score : 1.051\n",
            "\n",
            "For Cluster no: 6\n",
            "Silhouette Score : 0.343\n",
            "Davies_bouldin_Score : 1.175\n",
            "\n",
            "For Cluster no: 7\n",
            "Silhouette Score : 0.297\n",
            "Davies_bouldin_Score : 1.25\n",
            "\n",
            "For Cluster no: 8\n",
            "Silhouette Score : 0.309\n",
            "Davies_bouldin_Score : 1.124\n"
          ],
          "name": "stdout"
        }
      ]
    },
    {
      "cell_type": "markdown",
      "metadata": {
        "id": "yyuDdfYvlSIM"
      },
      "source": [
        "**For Cluster no: 5\n",
        "Silhouette Score : 0.369\n",
        "Davies_bouldin_Score : 1.051**"
      ]
    },
    {
      "cell_type": "markdown",
      "metadata": {
        "id": "JUJD-vu6uPJR"
      },
      "source": [
        "**(4) Hierarchical Clustering**"
      ]
    },
    {
      "cell_type": "code",
      "metadata": {
        "id": "mAsOx8ZZOYqC",
        "colab": {
          "base_uri": "https://localhost:8080/"
        },
        "outputId": "2c1595fb-9e52-49b7-94d1-f5d7ad6f8b63"
      },
      "source": [
        "for i in range(3,8):\n",
        "  Agg_model = AgglomerativeClustering(n_clusters= i,linkage = 'single')\n",
        "  Agg_model.fit(data_scaled)\n",
        "  Agg_labels = Agg_model.labels_\n",
        "  print(\"\\nFor cluster no: \",i)\n",
        "  print('Silhouette Score : ',silhouette_score(data_scaled,Agg_labels,random_state=123).round(decimals = 3))\n",
        "  print('Davies bouldin Score : ',davies_bouldin_score(data_scaled,Agg_labels).round(decimals = 3))"
      ],
      "execution_count": 82,
      "outputs": [
        {
          "output_type": "stream",
          "text": [
            "\n",
            "For cluster no:  3\n",
            "Silhouette Score :  0.906\n",
            "Davies bouldin Score :  0.063\n",
            "\n",
            "For cluster no:  4\n",
            "Silhouette Score :  0.904\n",
            "Davies bouldin Score :  0.065\n",
            "\n",
            "For cluster no:  5\n",
            "Silhouette Score :  0.873\n",
            "Davies bouldin Score :  0.119\n",
            "\n",
            "For cluster no:  6\n",
            "Silhouette Score :  0.777\n",
            "Davies bouldin Score :  0.127\n",
            "\n",
            "For cluster no:  7\n",
            "Silhouette Score :  0.755\n",
            "Davies bouldin Score :  0.202\n"
          ],
          "name": "stdout"
        }
      ]
    },
    {
      "cell_type": "markdown",
      "metadata": {
        "id": "C0RpdD5_lr3Q"
      },
      "source": [
        "For cluster no:  3\n",
        "Silhouette Score :  0.906\n",
        "Davies bouldin Score :  0.063"
      ]
    },
    {
      "cell_type": "code",
      "metadata": {
        "id": "2lNAOwQD2gwY"
      },
      "source": [
        "\n"
      ],
      "execution_count": 82,
      "outputs": []
    }
  ]
}